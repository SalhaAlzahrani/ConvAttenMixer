{
  "cells": [
    {
      "cell_type": "markdown",
      "metadata": {
        "id": "view-in-github",
        "colab_type": "text"
      },
      "source": [
        "<a href=\"https://colab.research.google.com/github/SalhaAlzahrani/ConvAttenMixer/blob/main/VisionTransfomers_MRI_Brain_Tumor_Classification_II.ipynb\" target=\"_parent\"><img src=\"https://colab.research.google.com/assets/colab-badge.svg\" alt=\"Open In Colab\"/></a>"
      ]
    },
    {
      "cell_type": "markdown",
      "id": "ee8751e2",
      "metadata": {
        "id": "ee8751e2"
      },
      "source": [
        "# 🔵 Image classification with Vision Transformers"
      ]
    },
    {
      "cell_type": "markdown",
      "source": [
        "# 🧠 MRI Brain Tumor Classification"
      ],
      "metadata": {
        "id": "z3SknHBDElFw"
      },
      "id": "z3SknHBDElFw"
    },
    {
      "cell_type": "markdown",
      "id": "d352abf3",
      "metadata": {
        "id": "d352abf3"
      },
      "source": [
        "# Requirmenets"
      ]
    },
    {
      "cell_type": "code",
      "source": [
        "!pip install tensorflow-addons tensorflow timm nilearn datasets transformers evaluate tfswin"
      ],
      "metadata": {
        "colab": {
          "base_uri": "https://localhost:8080/",
          "height": 1000
        },
        "id": "bWmlzDBbXp9D",
        "outputId": "dbc35157-3e11-4b4e-84c9-2e2c2119c7ef"
      },
      "id": "bWmlzDBbXp9D",
      "execution_count": null,
      "outputs": [
        {
          "output_type": "stream",
          "name": "stdout",
          "text": [
            "Collecting tensorflow-addons\n",
            "  Downloading tensorflow_addons-0.21.0-cp310-cp310-manylinux_2_17_x86_64.manylinux2014_x86_64.whl (612 kB)\n",
            "\u001b[2K     \u001b[90m━━━━━━━━━━━━━━━━━━━━━━━━━━━━━━━━━━━━━━━\u001b[0m \u001b[32m612.1/612.1 kB\u001b[0m \u001b[31m6.9 MB/s\u001b[0m eta \u001b[36m0:00:00\u001b[0m\n",
            "\u001b[?25hRequirement already satisfied: tensorflow in /usr/local/lib/python3.10/dist-packages (2.13.0)\n",
            "Collecting timm\n",
            "  Downloading timm-0.9.7-py3-none-any.whl (2.2 MB)\n",
            "\u001b[2K     \u001b[90m━━━━━━━━━━━━━━━━━━━━━━━━━━━━━━━━━━━━━━━━\u001b[0m \u001b[32m2.2/2.2 MB\u001b[0m \u001b[31m75.5 MB/s\u001b[0m eta \u001b[36m0:00:00\u001b[0m\n",
            "\u001b[?25hCollecting nilearn\n",
            "  Downloading nilearn-0.10.1-py3-none-any.whl (10.3 MB)\n",
            "\u001b[2K     \u001b[90m━━━━━━━━━━━━━━━━━━━━━━━━━━━━━━━━━━━━━━━━\u001b[0m \u001b[32m10.3/10.3 MB\u001b[0m \u001b[31m86.0 MB/s\u001b[0m eta \u001b[36m0:00:00\u001b[0m\n",
            "\u001b[?25hCollecting datasets\n",
            "  Downloading datasets-2.14.5-py3-none-any.whl (519 kB)\n",
            "\u001b[2K     \u001b[90m━━━━━━━━━━━━━━━━━━━━━━━━━━━━━━━━━━━━━━\u001b[0m \u001b[32m519.6/519.6 kB\u001b[0m \u001b[31m43.3 MB/s\u001b[0m eta \u001b[36m0:00:00\u001b[0m\n",
            "\u001b[?25hCollecting transformers\n",
            "  Downloading transformers-4.33.1-py3-none-any.whl (7.6 MB)\n",
            "\u001b[2K     \u001b[90m━━━━━━━━━━━━━━━━━━━━━━━━━━━━━━━━━━━━━━━━\u001b[0m \u001b[32m7.6/7.6 MB\u001b[0m \u001b[31m114.3 MB/s\u001b[0m eta \u001b[36m0:00:00\u001b[0m\n",
            "\u001b[?25hCollecting evaluate\n",
            "  Downloading evaluate-0.4.0-py3-none-any.whl (81 kB)\n",
            "\u001b[2K     \u001b[90m━━━━━━━━━━━━━━━━━━━━━━━━━━━━━━━━━━━━━━━━\u001b[0m \u001b[32m81.4/81.4 kB\u001b[0m \u001b[31m6.7 MB/s\u001b[0m eta \u001b[36m0:00:00\u001b[0m\n",
            "\u001b[?25hCollecting tfswin\n",
            "  Downloading tfswin-3.4.0.tar.gz (17 kB)\n",
            "  Preparing metadata (setup.py) ... \u001b[?25l\u001b[?25hdone\n",
            "Requirement already satisfied: packaging in /usr/local/lib/python3.10/dist-packages (from tensorflow-addons) (23.1)\n",
            "Collecting typeguard<3.0.0,>=2.7 (from tensorflow-addons)\n",
            "  Downloading typeguard-2.13.3-py3-none-any.whl (17 kB)\n",
            "Requirement already satisfied: absl-py>=1.0.0 in /usr/local/lib/python3.10/dist-packages (from tensorflow) (1.4.0)\n",
            "Requirement already satisfied: astunparse>=1.6.0 in /usr/local/lib/python3.10/dist-packages (from tensorflow) (1.6.3)\n",
            "Requirement already satisfied: flatbuffers>=23.1.21 in /usr/local/lib/python3.10/dist-packages (from tensorflow) (23.5.26)\n",
            "Requirement already satisfied: gast<=0.4.0,>=0.2.1 in /usr/local/lib/python3.10/dist-packages (from tensorflow) (0.4.0)\n",
            "Requirement already satisfied: google-pasta>=0.1.1 in /usr/local/lib/python3.10/dist-packages (from tensorflow) (0.2.0)\n",
            "Requirement already satisfied: grpcio<2.0,>=1.24.3 in /usr/local/lib/python3.10/dist-packages (from tensorflow) (1.57.0)\n",
            "Requirement already satisfied: h5py>=2.9.0 in /usr/local/lib/python3.10/dist-packages (from tensorflow) (3.9.0)\n",
            "Requirement already satisfied: keras<2.14,>=2.13.1 in /usr/local/lib/python3.10/dist-packages (from tensorflow) (2.13.1)\n",
            "Requirement already satisfied: libclang>=13.0.0 in /usr/local/lib/python3.10/dist-packages (from tensorflow) (16.0.6)\n",
            "Requirement already satisfied: numpy<=1.24.3,>=1.22 in /usr/local/lib/python3.10/dist-packages (from tensorflow) (1.23.5)\n",
            "Requirement already satisfied: opt-einsum>=2.3.2 in /usr/local/lib/python3.10/dist-packages (from tensorflow) (3.3.0)\n",
            "Requirement already satisfied: protobuf!=4.21.0,!=4.21.1,!=4.21.2,!=4.21.3,!=4.21.4,!=4.21.5,<5.0.0dev,>=3.20.3 in /usr/local/lib/python3.10/dist-packages (from tensorflow) (3.20.3)\n",
            "Requirement already satisfied: setuptools in /usr/local/lib/python3.10/dist-packages (from tensorflow) (67.7.2)\n",
            "Requirement already satisfied: six>=1.12.0 in /usr/local/lib/python3.10/dist-packages (from tensorflow) (1.16.0)\n",
            "Requirement already satisfied: tensorboard<2.14,>=2.13 in /usr/local/lib/python3.10/dist-packages (from tensorflow) (2.13.0)\n",
            "Requirement already satisfied: tensorflow-estimator<2.14,>=2.13.0 in /usr/local/lib/python3.10/dist-packages (from tensorflow) (2.13.0)\n",
            "Requirement already satisfied: termcolor>=1.1.0 in /usr/local/lib/python3.10/dist-packages (from tensorflow) (2.3.0)\n",
            "Requirement already satisfied: typing-extensions<4.6.0,>=3.6.6 in /usr/local/lib/python3.10/dist-packages (from tensorflow) (4.5.0)\n",
            "Requirement already satisfied: wrapt>=1.11.0 in /usr/local/lib/python3.10/dist-packages (from tensorflow) (1.15.0)\n",
            "Requirement already satisfied: tensorflow-io-gcs-filesystem>=0.23.1 in /usr/local/lib/python3.10/dist-packages (from tensorflow) (0.33.0)\n",
            "Requirement already satisfied: torch>=1.7 in /usr/local/lib/python3.10/dist-packages (from timm) (2.0.1+cu118)\n",
            "Requirement already satisfied: torchvision in /usr/local/lib/python3.10/dist-packages (from timm) (0.15.2+cu118)\n",
            "Requirement already satisfied: pyyaml in /usr/local/lib/python3.10/dist-packages (from timm) (6.0.1)\n",
            "Collecting huggingface-hub (from timm)\n",
            "  Downloading huggingface_hub-0.17.1-py3-none-any.whl (294 kB)\n",
            "\u001b[2K     \u001b[90m━━━━━━━━━━━━━━━━━━━━━━━━━━━━━━━━━━━━━━\u001b[0m \u001b[32m294.8/294.8 kB\u001b[0m \u001b[31m31.3 MB/s\u001b[0m eta \u001b[36m0:00:00\u001b[0m\n",
            "\u001b[?25hCollecting safetensors (from timm)\n",
            "  Downloading safetensors-0.3.3-cp310-cp310-manylinux_2_17_x86_64.manylinux2014_x86_64.whl (1.3 MB)\n",
            "\u001b[2K     \u001b[90m━━━━━━━━━━━━━━━━━━━━━━━━━━━━━━━━━━━━━━━━\u001b[0m \u001b[32m1.3/1.3 MB\u001b[0m \u001b[31m76.2 MB/s\u001b[0m eta \u001b[36m0:00:00\u001b[0m\n",
            "\u001b[?25hRequirement already satisfied: joblib>=1.0.0 in /usr/local/lib/python3.10/dist-packages (from nilearn) (1.3.2)\n",
            "Requirement already satisfied: lxml in /usr/local/lib/python3.10/dist-packages (from nilearn) (4.9.3)\n",
            "Requirement already satisfied: nibabel>=3.2.0 in /usr/local/lib/python3.10/dist-packages (from nilearn) (4.0.2)\n",
            "Requirement already satisfied: pandas>=1.1.5 in /usr/local/lib/python3.10/dist-packages (from nilearn) (1.5.3)\n",
            "Requirement already satisfied: requests>=2.25.0 in /usr/local/lib/python3.10/dist-packages (from nilearn) (2.31.0)\n",
            "Requirement already satisfied: scikit-learn>=1.0.0 in /usr/local/lib/python3.10/dist-packages (from nilearn) (1.2.2)\n",
            "Requirement already satisfied: scipy>=1.6.0 in /usr/local/lib/python3.10/dist-packages (from nilearn) (1.11.2)\n",
            "Requirement already satisfied: pyarrow>=8.0.0 in /usr/local/lib/python3.10/dist-packages (from datasets) (9.0.0)\n",
            "Collecting dill<0.3.8,>=0.3.0 (from datasets)\n",
            "  Downloading dill-0.3.7-py3-none-any.whl (115 kB)\n",
            "\u001b[2K     \u001b[90m━━━━━━━━━━━━━━━━━━━━━━━━━━━━━━━━━━━━━━\u001b[0m \u001b[32m115.3/115.3 kB\u001b[0m \u001b[31m17.0 MB/s\u001b[0m eta \u001b[36m0:00:00\u001b[0m\n",
            "\u001b[?25hRequirement already satisfied: tqdm>=4.62.1 in /usr/local/lib/python3.10/dist-packages (from datasets) (4.66.1)\n",
            "Collecting xxhash (from datasets)\n",
            "  Downloading xxhash-3.3.0-cp310-cp310-manylinux_2_17_x86_64.manylinux2014_x86_64.whl (194 kB)\n",
            "\u001b[2K     \u001b[90m━━━━━━━━━━━━━━━━━━━━━━━━━━━━━━━━━━━━━━\u001b[0m \u001b[32m194.1/194.1 kB\u001b[0m \u001b[31m24.2 MB/s\u001b[0m eta \u001b[36m0:00:00\u001b[0m\n",
            "\u001b[?25hCollecting multiprocess (from datasets)\n",
            "  Downloading multiprocess-0.70.15-py310-none-any.whl (134 kB)\n",
            "\u001b[2K     \u001b[90m━━━━━━━━━━━━━━━━━━━━━━━━━━━━━━━━━━━━━━\u001b[0m \u001b[32m134.8/134.8 kB\u001b[0m \u001b[31m17.5 MB/s\u001b[0m eta \u001b[36m0:00:00\u001b[0m\n",
            "\u001b[?25hRequirement already satisfied: fsspec[http]<2023.9.0,>=2023.1.0 in /usr/local/lib/python3.10/dist-packages (from datasets) (2023.6.0)\n",
            "Requirement already satisfied: aiohttp in /usr/local/lib/python3.10/dist-packages (from datasets) (3.8.5)\n",
            "Requirement already satisfied: filelock in /usr/local/lib/python3.10/dist-packages (from transformers) (3.12.2)\n",
            "Requirement already satisfied: regex!=2019.12.17 in /usr/local/lib/python3.10/dist-packages (from transformers) (2023.6.3)\n",
            "Collecting tokenizers!=0.11.3,<0.14,>=0.11.1 (from transformers)\n",
            "  Downloading tokenizers-0.13.3-cp310-cp310-manylinux_2_17_x86_64.manylinux2014_x86_64.whl (7.8 MB)\n",
            "\u001b[2K     \u001b[90m━━━━━━━━━━━━━━━━━━━━━━━━━━━━━━━━━━━━━━━━\u001b[0m \u001b[32m7.8/7.8 MB\u001b[0m \u001b[31m104.6 MB/s\u001b[0m eta \u001b[36m0:00:00\u001b[0m\n",
            "\u001b[?25hCollecting responses<0.19 (from evaluate)\n",
            "  Downloading responses-0.18.0-py3-none-any.whl (38 kB)\n",
            "Collecting numpy<=1.24.3,>=1.22 (from tensorflow)\n",
            "  Downloading numpy-1.24.3-cp310-cp310-manylinux_2_17_x86_64.manylinux2014_x86_64.whl (17.3 MB)\n",
            "\u001b[2K     \u001b[90m━━━━━━━━━━━━━━━━━━━━━━━━━━━━━━━━━━━━━━━━\u001b[0m \u001b[32m17.3/17.3 MB\u001b[0m \u001b[31m83.4 MB/s\u001b[0m eta \u001b[36m0:00:00\u001b[0m\n",
            "\u001b[?25hRequirement already satisfied: wheel<1.0,>=0.23.0 in /usr/local/lib/python3.10/dist-packages (from astunparse>=1.6.0->tensorflow) (0.41.2)\n",
            "Requirement already satisfied: attrs>=17.3.0 in /usr/local/lib/python3.10/dist-packages (from aiohttp->datasets) (23.1.0)\n",
            "Requirement already satisfied: charset-normalizer<4.0,>=2.0 in /usr/local/lib/python3.10/dist-packages (from aiohttp->datasets) (3.2.0)\n",
            "Requirement already satisfied: multidict<7.0,>=4.5 in /usr/local/lib/python3.10/dist-packages (from aiohttp->datasets) (6.0.4)\n",
            "Requirement already satisfied: async-timeout<5.0,>=4.0.0a3 in /usr/local/lib/python3.10/dist-packages (from aiohttp->datasets) (4.0.3)\n",
            "Requirement already satisfied: yarl<2.0,>=1.0 in /usr/local/lib/python3.10/dist-packages (from aiohttp->datasets) (1.9.2)\n",
            "Requirement already satisfied: frozenlist>=1.1.1 in /usr/local/lib/python3.10/dist-packages (from aiohttp->datasets) (1.4.0)\n",
            "Requirement already satisfied: aiosignal>=1.1.2 in /usr/local/lib/python3.10/dist-packages (from aiohttp->datasets) (1.3.1)\n",
            "Requirement already satisfied: python-dateutil>=2.8.1 in /usr/local/lib/python3.10/dist-packages (from pandas>=1.1.5->nilearn) (2.8.2)\n",
            "Requirement already satisfied: pytz>=2020.1 in /usr/local/lib/python3.10/dist-packages (from pandas>=1.1.5->nilearn) (2023.3.post1)\n",
            "Requirement already satisfied: idna<4,>=2.5 in /usr/local/lib/python3.10/dist-packages (from requests>=2.25.0->nilearn) (3.4)\n",
            "Requirement already satisfied: urllib3<3,>=1.21.1 in /usr/local/lib/python3.10/dist-packages (from requests>=2.25.0->nilearn) (2.0.4)\n",
            "Requirement already satisfied: certifi>=2017.4.17 in /usr/local/lib/python3.10/dist-packages (from requests>=2.25.0->nilearn) (2023.7.22)\n",
            "Requirement already satisfied: threadpoolctl>=2.0.0 in /usr/local/lib/python3.10/dist-packages (from scikit-learn>=1.0.0->nilearn) (3.2.0)\n",
            "Requirement already satisfied: google-auth<3,>=1.6.3 in /usr/local/lib/python3.10/dist-packages (from tensorboard<2.14,>=2.13->tensorflow) (2.17.3)\n",
            "Requirement already satisfied: google-auth-oauthlib<1.1,>=0.5 in /usr/local/lib/python3.10/dist-packages (from tensorboard<2.14,>=2.13->tensorflow) (1.0.0)\n",
            "Requirement already satisfied: markdown>=2.6.8 in /usr/local/lib/python3.10/dist-packages (from tensorboard<2.14,>=2.13->tensorflow) (3.4.4)\n",
            "Requirement already satisfied: tensorboard-data-server<0.8.0,>=0.7.0 in /usr/local/lib/python3.10/dist-packages (from tensorboard<2.14,>=2.13->tensorflow) (0.7.1)\n",
            "Requirement already satisfied: werkzeug>=1.0.1 in /usr/local/lib/python3.10/dist-packages (from tensorboard<2.14,>=2.13->tensorflow) (2.3.7)\n",
            "Requirement already satisfied: sympy in /usr/local/lib/python3.10/dist-packages (from torch>=1.7->timm) (1.12)\n",
            "Requirement already satisfied: networkx in /usr/local/lib/python3.10/dist-packages (from torch>=1.7->timm) (3.1)\n",
            "Requirement already satisfied: jinja2 in /usr/local/lib/python3.10/dist-packages (from torch>=1.7->timm) (3.1.2)\n",
            "Requirement already satisfied: triton==2.0.0 in /usr/local/lib/python3.10/dist-packages (from torch>=1.7->timm) (2.0.0)\n",
            "Requirement already satisfied: cmake in /usr/local/lib/python3.10/dist-packages (from triton==2.0.0->torch>=1.7->timm) (3.27.4.1)\n",
            "Requirement already satisfied: lit in /usr/local/lib/python3.10/dist-packages (from triton==2.0.0->torch>=1.7->timm) (16.0.6)\n",
            "Requirement already satisfied: pillow!=8.3.*,>=5.3.0 in /usr/local/lib/python3.10/dist-packages (from torchvision->timm) (9.4.0)\n",
            "Requirement already satisfied: cachetools<6.0,>=2.0.0 in /usr/local/lib/python3.10/dist-packages (from google-auth<3,>=1.6.3->tensorboard<2.14,>=2.13->tensorflow) (5.3.1)\n",
            "Requirement already satisfied: pyasn1-modules>=0.2.1 in /usr/local/lib/python3.10/dist-packages (from google-auth<3,>=1.6.3->tensorboard<2.14,>=2.13->tensorflow) (0.3.0)\n",
            "Requirement already satisfied: rsa<5,>=3.1.4 in /usr/local/lib/python3.10/dist-packages (from google-auth<3,>=1.6.3->tensorboard<2.14,>=2.13->tensorflow) (4.9)\n",
            "Requirement already satisfied: requests-oauthlib>=0.7.0 in /usr/local/lib/python3.10/dist-packages (from google-auth-oauthlib<1.1,>=0.5->tensorboard<2.14,>=2.13->tensorflow) (1.3.1)\n",
            "Requirement already satisfied: MarkupSafe>=2.1.1 in /usr/local/lib/python3.10/dist-packages (from werkzeug>=1.0.1->tensorboard<2.14,>=2.13->tensorflow) (2.1.3)\n",
            "Requirement already satisfied: mpmath>=0.19 in /usr/local/lib/python3.10/dist-packages (from sympy->torch>=1.7->timm) (1.3.0)\n",
            "Requirement already satisfied: pyasn1<0.6.0,>=0.4.6 in /usr/local/lib/python3.10/dist-packages (from pyasn1-modules>=0.2.1->google-auth<3,>=1.6.3->tensorboard<2.14,>=2.13->tensorflow) (0.5.0)\n",
            "Requirement already satisfied: oauthlib>=3.0.0 in /usr/local/lib/python3.10/dist-packages (from requests-oauthlib>=0.7.0->google-auth-oauthlib<1.1,>=0.5->tensorboard<2.14,>=2.13->tensorflow) (3.2.2)\n",
            "Building wheels for collected packages: tfswin\n",
            "  Building wheel for tfswin (setup.py) ... \u001b[?25l\u001b[?25hdone\n",
            "  Created wheel for tfswin: filename=tfswin-3.4.0-py3-none-any.whl size=19717 sha256=d17f9ef4e7cf067a1a5b94519a314451f415c773c2defe83a9c6045806174c41\n",
            "  Stored in directory: /root/.cache/pip/wheels/4d/ef/14/d605174a5ebe0f9c9fc6d96e6e9f6e4f0187eab6457934fd15\n",
            "Successfully built tfswin\n",
            "Installing collected packages: tokenizers, safetensors, xxhash, typeguard, numpy, dill, tensorflow-addons, responses, multiprocess, huggingface-hub, transformers, nilearn, datasets, evaluate, tfswin, timm\n",
            "  Attempting uninstall: numpy\n",
            "    Found existing installation: numpy 1.23.5\n",
            "    Uninstalling numpy-1.23.5:\n",
            "      Successfully uninstalled numpy-1.23.5\n",
            "\u001b[31mERROR: pip's dependency resolver does not currently take into account all the packages that are installed. This behaviour is the source of the following dependency conflicts.\n",
            "numba 0.56.4 requires numpy<1.24,>=1.18, but you have numpy 1.24.3 which is incompatible.\u001b[0m\u001b[31m\n",
            "\u001b[0mSuccessfully installed datasets-2.14.5 dill-0.3.7 evaluate-0.4.0 huggingface-hub-0.17.1 multiprocess-0.70.15 nilearn-0.10.1 numpy-1.24.3 responses-0.18.0 safetensors-0.3.3 tensorflow-addons-0.21.0 tfswin-3.4.0 timm-0.9.7 tokenizers-0.13.3 transformers-4.33.1 typeguard-2.13.3 xxhash-3.3.0\n"
          ]
        },
        {
          "output_type": "display_data",
          "data": {
            "application/vnd.colab-display-data+json": {
              "pip_warning": {
                "packages": [
                  "numpy"
                ]
              }
            }
          },
          "metadata": {}
        }
      ]
    },
    {
      "cell_type": "code",
      "execution_count": null,
      "id": "fe992f1f",
      "metadata": {
        "id": "fe992f1f"
      },
      "outputs": [],
      "source": [
        "import os\n",
        "import numpy as np\n",
        "import matplotlib.pyplot as plt\n",
        "import pandas as pd\n",
        "import random\n",
        "import seaborn as sns\n",
        "import tensorflow as tf\n",
        "from tensorflow import keras\n",
        "from tensorflow.keras.preprocessing import image_dataset_from_directory\n",
        "from keras.models import Sequential\n",
        "from keras.preprocessing.image import ImageDataGenerator\n",
        "import keras.metrics\n",
        "from keras.models import Model\n",
        "from keras.layers import Conv2D, MaxPooling2D\n",
        "from keras.layers import Dense, Dropout, Activation, Flatten, BatchNormalization\n",
        "from keras.models import Sequential\n",
        "from keras.preprocessing.image import ImageDataGenerator\n",
        "from keras.utils import to_categorical\n",
        "from keras.optimizers import SGD,Adam\n",
        "from keras import layers, models\n",
        "\n",
        "from google.colab import drive\n",
        "import tensorflow_addons as tfa\n",
        "from tfswin import SwinTransformerTiny224, SwinTransformerV2Tiny256, preprocess_input\n",
        "\n",
        "# Define the path to the MRI data directory\n",
        "drive.mount('/content/drive', force_remount=True)"
      ]
    },
    {
      "cell_type": "markdown",
      "id": "4529fdb5",
      "metadata": {
        "id": "4529fdb5"
      },
      "source": [
        "# Configure the hyperparameters\n"
      ]
    },
    {
      "cell_type": "code",
      "source": [
        "learning_rate = 0.001\n",
        "weight_decay = 0.0001\n",
        "label_smoothing = 0.1\n",
        "\n",
        "BATCH_SIZE = 32\n",
        "IMG_SIZE = 224\n",
        "NUM_CLASSES = 4\n",
        "input_shape = (224, 224, 3)\n",
        "NUM_EPOCHS = 30"
      ],
      "metadata": {
        "id": "XwOkL3bWG3YD"
      },
      "id": "XwOkL3bWG3YD",
      "execution_count": null,
      "outputs": []
    },
    {
      "cell_type": "markdown",
      "id": "2aeaa699",
      "metadata": {
        "id": "2aeaa699"
      },
      "source": [
        "# Prepare the data"
      ]
    },
    {
      "cell_type": "code",
      "execution_count": null,
      "metadata": {
        "colab": {
          "base_uri": "https://localhost:8080/"
        },
        "id": "Ul9MAO4CHK5u",
        "outputId": "33ab7774-2b32-4bee-ba9f-8f003da8dd9e"
      },
      "outputs": [
        {
          "output_type": "stream",
          "name": "stdout",
          "text": [
            "Found 5712 files belonging to 4 classes.\n",
            "Found 1311 files belonging to 4 classes.\n"
          ]
        }
      ],
      "source": [
        "# train data\n",
        "train_ds = image_dataset_from_directory(\n",
        "    directory='/content/drive/MyDrive/Brain Tumor MRI/data/Training/',\n",
        "    labels='inferred',\n",
        "    label_mode='categorical',\n",
        "    batch_size=BATCH_SIZE,\n",
        "    image_size=(IMG_SIZE, IMG_SIZE),\n",
        "    color_mode='rgb',\n",
        "    shuffle=True,\n",
        "    seed=1024,\n",
        "    validation_split=None,\n",
        "    subset=None,\n",
        "    interpolation='bilinear',\n",
        "    follow_links=False,\n",
        "    crop_to_aspect_ratio=False,\n",
        ")\n",
        "\n",
        "# validation data\n",
        "val_ds = image_dataset_from_directory(\n",
        "    directory='/content/drive/MyDrive/Brain Tumor MRI/data/Testing/',\n",
        "    labels='inferred',\n",
        "    label_mode='categorical',\n",
        "    batch_size=BATCH_SIZE,\n",
        "    image_size=(IMG_SIZE, IMG_SIZE),\n",
        "    color_mode='rgb',\n",
        "    shuffle=True,\n",
        "    seed=1024,\n",
        "    validation_split=None,\n",
        "    subset=None,\n",
        "    interpolation='bilinear',\n",
        "    follow_links=False,\n",
        "    crop_to_aspect_ratio=False,\n",
        ")"
      ],
      "id": "Ul9MAO4CHK5u"
    },
    {
      "cell_type": "code",
      "source": [
        "#Configure the dataset for performance\n",
        "AUTOTUNE = tf.data.AUTOTUNE\n",
        "train_ds = train_ds.prefetch(buffer_size=AUTOTUNE)\n",
        "val_ds = val_ds.prefetch(buffer_size=AUTOTUNE)"
      ],
      "metadata": {
        "id": "CBdPtsqZ0aJz"
      },
      "id": "CBdPtsqZ0aJz",
      "execution_count": null,
      "outputs": []
    },
    {
      "cell_type": "markdown",
      "source": [
        "\n",
        "\n",
        "---\n",
        "\n",
        "\n",
        "# SwinTransformerV2Tiny256"
      ],
      "metadata": {
        "id": "98HGgfXZJOI1"
      },
      "id": "98HGgfXZJOI1"
    },
    {
      "cell_type": "code",
      "source": [
        "inputs = layers.Input(shape=input_shape, dtype='uint8')\n",
        "outputs = layers.Lambda(preprocess_input)(inputs)\n",
        "outputs = SwinTransformerV2Tiny256(include_top=False, pooling='avg')(outputs)\n",
        "outputs = layers.Dense(NUM_CLASSES, activation='softmax')(outputs)\n",
        "\n",
        "model = models.Model(inputs=inputs, outputs=outputs)"
      ],
      "metadata": {
        "colab": {
          "base_uri": "https://localhost:8080/"
        },
        "id": "GvfYDoBZWZvV",
        "outputId": "fc14b19c-093e-43a9-e63c-ab0c5b726df5"
      },
      "execution_count": null,
      "outputs": [
        {
          "output_type": "stream",
          "name": "stdout",
          "text": [
            "Downloading data from https://github.com/shkarupa-alex/tfswin/releases/download/3.0.0/swinv2_tiny_patch4_window16_256.h5\n",
            "113653888/113653888 [==============================] - 8s 0us/step\n"
          ]
        }
      ],
      "id": "GvfYDoBZWZvV"
    },
    {
      "cell_type": "code",
      "source": [
        "optimizer = tfa.optimizers.AdamW(learning_rate=learning_rate, weight_decay=weight_decay)\n",
        "\n",
        "model.compile(\n",
        "    loss=keras.losses.CategoricalCrossentropy(label_smoothing=label_smoothing),\n",
        "    optimizer=tfa.optimizers.AdamW(\n",
        "        learning_rate=learning_rate, weight_decay=weight_decay\n",
        "    ),\n",
        "    metrics=[\n",
        "        keras.metrics.CategoricalAccuracy(name=\"accuracy\"),\n",
        "        tf.keras.metrics.Precision(),\n",
        "        tf.keras.metrics.Recall(),\n",
        "        tfa.metrics.F1Score(num_classes=NUM_CLASSES, average='macro', threshold=0.5),\n",
        "    ],\n",
        ")"
      ],
      "metadata": {
        "id": "Q3Meo60UHbbh"
      },
      "id": "Q3Meo60UHbbh",
      "execution_count": null,
      "outputs": []
    },
    {
      "cell_type": "code",
      "source": [
        "history = model.fit(train_ds, validation_data=val_ds, epochs=NUM_EPOCHS)"
      ],
      "metadata": {
        "colab": {
          "base_uri": "https://localhost:8080/"
        },
        "id": "o4Qosl9_YFm8",
        "outputId": "cc565691-0c20-4e7e-9c50-39dd35577bd5"
      },
      "execution_count": null,
      "outputs": [
        {
          "output_type": "stream",
          "name": "stdout",
          "text": [
            "Epoch 1/30\n",
            "179/179 [==============================] - 420s 2s/step - loss: 1.2894 - accuracy: 0.4366 - precision_4: 0.6623 - recall_4: 0.1675 - f1_score: 0.2134 - val_loss: 1.1522 - val_accuracy: 0.5179 - val_precision_4: 0.7249 - val_recall_4: 0.2593 - val_f1_score: 0.2697\n",
            "Epoch 2/30\n",
            "179/179 [==============================] - 39s 218ms/step - loss: 1.1252 - accuracy: 0.5480 - precision_4: 0.7480 - recall_4: 0.2899 - f1_score: 0.3374 - val_loss: 1.2275 - val_accuracy: 0.5362 - val_precision_4: 0.5761 - val_recall_4: 0.4477 - val_f1_score: 0.4041\n",
            "Epoch 3/30\n",
            "179/179 [==============================] - 39s 218ms/step - loss: 1.1107 - accuracy: 0.5606 - precision_4: 0.7364 - recall_4: 0.3209 - f1_score: 0.3884 - val_loss: 1.1385 - val_accuracy: 0.5271 - val_precision_4: 0.6636 - val_recall_4: 0.3265 - val_f1_score: 0.4203\n",
            "Epoch 4/30\n",
            "179/179 [==============================] - 39s 217ms/step - loss: 1.0020 - accuracy: 0.6537 - precision_4: 0.7571 - recall_4: 0.4758 - f1_score: 0.5496 - val_loss: 1.0415 - val_accuracy: 0.6102 - val_precision_4: 0.6673 - val_recall_4: 0.5339 - val_f1_score: 0.4941\n",
            "Epoch 5/30\n",
            "179/179 [==============================] - 39s 218ms/step - loss: 0.9208 - accuracy: 0.7048 - precision_4: 0.7860 - recall_4: 0.5846 - f1_score: 0.6471 - val_loss: 0.8989 - val_accuracy: 0.7216 - val_precision_4: 0.7611 - val_recall_4: 0.6804 - val_f1_score: 0.6979\n",
            "Epoch 6/30\n",
            "179/179 [==============================] - 39s 218ms/step - loss: 0.9344 - accuracy: 0.6947 - precision_4: 0.7826 - recall_4: 0.5734 - f1_score: 0.6425 - val_loss: 1.0315 - val_accuracy: 0.6270 - val_precision_4: 0.7247 - val_recall_4: 0.4859 - val_f1_score: 0.5034\n",
            "Epoch 7/30\n",
            "179/179 [==============================] - 39s 217ms/step - loss: 0.8527 - accuracy: 0.7405 - precision_4: 0.8136 - recall_4: 0.6429 - f1_score: 0.7002 - val_loss: 0.8300 - val_accuracy: 0.7460 - val_precision_4: 0.7829 - val_recall_4: 0.7040 - val_f1_score: 0.7063\n",
            "Epoch 8/30\n",
            "179/179 [==============================] - 39s 218ms/step - loss: 0.7507 - accuracy: 0.8022 - precision_4: 0.8375 - recall_4: 0.7500 - f1_score: 0.7805 - val_loss: 0.7714 - val_accuracy: 0.7788 - val_precision_4: 0.8047 - val_recall_4: 0.7384 - val_f1_score: 0.7489\n",
            "Epoch 9/30\n",
            "179/179 [==============================] - 39s 217ms/step - loss: 0.6933 - accuracy: 0.8291 - precision_4: 0.8655 - recall_4: 0.7861 - f1_score: 0.8144 - val_loss: 0.7335 - val_accuracy: 0.8078 - val_precision_4: 0.8306 - val_recall_4: 0.7704 - val_f1_score: 0.7800\n",
            "Epoch 10/30\n",
            "179/179 [==============================] - 39s 217ms/step - loss: 0.6706 - accuracy: 0.8414 - precision_4: 0.8732 - recall_4: 0.8053 - f1_score: 0.8299 - val_loss: 0.6981 - val_accuracy: 0.8230 - val_precision_4: 0.8448 - val_recall_4: 0.7849 - val_f1_score: 0.7938\n",
            "Epoch 11/30\n",
            "179/179 [==============================] - 39s 217ms/step - loss: 0.6495 - accuracy: 0.8521 - precision_4: 0.8802 - recall_4: 0.8220 - f1_score: 0.8431 - val_loss: 0.6431 - val_accuracy: 0.8642 - val_precision_4: 0.8749 - val_recall_4: 0.8375 - val_f1_score: 0.8467\n",
            "Epoch 12/30\n",
            "179/179 [==============================] - 39s 217ms/step - loss: 0.6165 - accuracy: 0.8687 - precision_4: 0.8912 - recall_4: 0.8435 - f1_score: 0.8599 - val_loss: 0.7899 - val_accuracy: 0.7796 - val_precision_4: 0.7986 - val_recall_4: 0.7620 - val_f1_score: 0.7560\n",
            "Epoch 13/30\n",
            "179/179 [==============================] - 39s 218ms/step - loss: 0.6008 - accuracy: 0.8762 - precision_4: 0.8976 - recall_4: 0.8515 - f1_score: 0.8684 - val_loss: 0.6971 - val_accuracy: 0.8391 - val_precision_4: 0.8512 - val_recall_4: 0.8291 - val_f1_score: 0.8299\n",
            "Epoch 14/30\n",
            "179/179 [==============================] - 39s 218ms/step - loss: 0.5871 - accuracy: 0.8857 - precision_4: 0.9038 - recall_4: 0.8655 - f1_score: 0.8787 - val_loss: 0.6100 - val_accuracy: 0.8635 - val_precision_4: 0.8824 - val_recall_4: 0.8474 - val_f1_score: 0.8517\n",
            "Epoch 15/30\n",
            "179/179 [==============================] - 39s 217ms/step - loss: 0.5684 - accuracy: 0.8978 - precision_4: 0.9124 - recall_4: 0.8771 - f1_score: 0.8895 - val_loss: 0.6528 - val_accuracy: 0.8421 - val_precision_4: 0.8503 - val_recall_4: 0.8276 - val_f1_score: 0.8274\n",
            "Epoch 16/30\n",
            "179/179 [==============================] - 39s 217ms/step - loss: 0.5639 - accuracy: 0.8965 - precision_4: 0.9092 - recall_4: 0.8785 - f1_score: 0.8891 - val_loss: 0.6272 - val_accuracy: 0.8551 - val_precision_4: 0.8672 - val_recall_4: 0.8368 - val_f1_score: 0.8486\n",
            "Epoch 17/30\n",
            "179/179 [==============================] - 39s 217ms/step - loss: 0.5571 - accuracy: 0.9006 - precision_4: 0.9184 - recall_4: 0.8845 - f1_score: 0.8970 - val_loss: 0.6126 - val_accuracy: 0.8719 - val_precision_4: 0.8838 - val_recall_4: 0.8467 - val_f1_score: 0.8620\n",
            "Epoch 18/30\n",
            "179/179 [==============================] - 39s 217ms/step - loss: 0.5419 - accuracy: 0.9060 - precision_4: 0.9190 - recall_4: 0.8916 - f1_score: 0.9011 - val_loss: 0.5670 - val_accuracy: 0.8963 - val_precision_4: 0.9027 - val_recall_4: 0.8848 - val_f1_score: 0.8883\n",
            "Epoch 19/30\n",
            "179/179 [==============================] - 39s 217ms/step - loss: 0.5378 - accuracy: 0.9081 - precision_4: 0.9238 - recall_4: 0.8918 - f1_score: 0.9036 - val_loss: 0.6585 - val_accuracy: 0.8383 - val_precision_4: 0.8672 - val_recall_4: 0.8017 - val_f1_score: 0.8197\n",
            "Epoch 20/30\n",
            "179/179 [==============================] - 39s 217ms/step - loss: 0.5199 - accuracy: 0.9163 - precision_4: 0.9287 - recall_4: 0.9028 - f1_score: 0.9120 - val_loss: 0.5259 - val_accuracy: 0.9100 - val_precision_4: 0.9180 - val_recall_4: 0.8963 - val_f1_score: 0.9006\n",
            "Epoch 21/30\n",
            "179/179 [==============================] - 39s 218ms/step - loss: 0.5010 - accuracy: 0.9270 - precision_4: 0.9374 - recall_4: 0.9144 - f1_score: 0.9228 - val_loss: 0.6474 - val_accuracy: 0.8581 - val_precision_4: 0.8684 - val_recall_4: 0.8505 - val_f1_score: 0.8493\n",
            "Epoch 22/30\n",
            "179/179 [==============================] - 39s 219ms/step - loss: 0.5053 - accuracy: 0.9221 - precision_4: 0.9307 - recall_4: 0.9104 - f1_score: 0.9172 - val_loss: 0.5520 - val_accuracy: 0.8886 - val_precision_4: 0.9024 - val_recall_4: 0.8749 - val_f1_score: 0.8820\n",
            "Epoch 23/30\n",
            "179/179 [==============================] - 39s 217ms/step - loss: 0.4945 - accuracy: 0.9312 - precision_4: 0.9396 - recall_4: 0.9224 - f1_score: 0.9284 - val_loss: 0.5888 - val_accuracy: 0.8932 - val_precision_4: 0.9031 - val_recall_4: 0.8818 - val_f1_score: 0.8865\n",
            "Epoch 24/30\n",
            "179/179 [==============================] - 39s 217ms/step - loss: 0.5019 - accuracy: 0.9263 - precision_4: 0.9365 - recall_4: 0.9163 - f1_score: 0.9238 - val_loss: 0.5371 - val_accuracy: 0.9062 - val_precision_4: 0.9103 - val_recall_4: 0.8978 - val_f1_score: 0.8982\n",
            "Epoch 25/30\n",
            "179/179 [==============================] - 39s 217ms/step - loss: 0.4818 - accuracy: 0.9321 - precision_4: 0.9437 - recall_4: 0.9247 - f1_score: 0.9316 - val_loss: 0.5115 - val_accuracy: 0.9161 - val_precision_4: 0.9273 - val_recall_4: 0.9047 - val_f1_score: 0.9115\n",
            "Epoch 26/30\n",
            "179/179 [==============================] - 39s 217ms/step - loss: 0.4769 - accuracy: 0.9363 - precision_4: 0.9462 - recall_4: 0.9270 - f1_score: 0.9343 - val_loss: 0.5685 - val_accuracy: 0.8947 - val_precision_4: 0.9082 - val_recall_4: 0.8833 - val_f1_score: 0.8886\n",
            "Epoch 27/30\n",
            "179/179 [==============================] - 39s 217ms/step - loss: 0.4657 - accuracy: 0.9454 - precision_4: 0.9520 - recall_4: 0.9366 - f1_score: 0.9419 - val_loss: 0.5113 - val_accuracy: 0.9275 - val_precision_4: 0.9329 - val_recall_4: 0.9222 - val_f1_score: 0.9239\n",
            "Epoch 28/30\n",
            "179/179 [==============================] - 39s 217ms/step - loss: 0.4677 - accuracy: 0.9449 - precision_4: 0.9520 - recall_4: 0.9333 - f1_score: 0.9403 - val_loss: 0.5298 - val_accuracy: 0.9191 - val_precision_4: 0.9206 - val_recall_4: 0.9115 - val_f1_score: 0.9121\n",
            "Epoch 29/30\n",
            "179/179 [==============================] - 39s 218ms/step - loss: 0.4561 - accuracy: 0.9499 - precision_4: 0.9572 - recall_4: 0.9431 - f1_score: 0.9481 - val_loss: 0.5844 - val_accuracy: 0.8841 - val_precision_4: 0.8916 - val_recall_4: 0.8787 - val_f1_score: 0.8803\n",
            "Epoch 30/30\n",
            "179/179 [==============================] - 39s 217ms/step - loss: 0.4930 - accuracy: 0.9321 - precision_4: 0.9408 - recall_4: 0.9242 - f1_score: 0.9299 - val_loss: 0.6203 - val_accuracy: 0.8795 - val_precision_4: 0.8836 - val_recall_4: 0.8688 - val_f1_score: 0.8663\n"
          ]
        }
      ],
      "id": "o4Qosl9_YFm8"
    },
    {
      "cell_type": "code",
      "source": [
        "plt.plot(history.history[\"loss\"], label=\"train_loss\")\n",
        "plt.plot(history.history[\"val_loss\"], label=\"val_loss\")\n",
        "plt.xlabel(\"Epochs\")\n",
        "plt.ylabel(\"Loss\")\n",
        "plt.title(\"Train and Validation Losses Over Epochs\", fontsize=14)\n",
        "plt.legend()\n",
        "plt.grid()\n",
        "plt.show()"
      ],
      "metadata": {
        "id": "mgwFtkmUgU1j",
        "colab": {
          "base_uri": "https://localhost:8080/",
          "height": 473
        },
        "outputId": "84941add-b351-4bfe-9f5c-cb8a3e7bdfa0"
      },
      "execution_count": null,
      "outputs": [
        {
          "output_type": "display_data",
          "data": {
            "text/plain": [
              "<Figure size 640x480 with 1 Axes>"
            ],
            "image/png": "[encoded data removed]"
          },
          "metadata": {}
        }
      ],
      "id": "mgwFtkmUgU1j"
    },
    {
      "cell_type": "markdown",
      "source": [
        "\n",
        "\n",
        "---\n",
        "\n",
        "\n",
        "# SwinTransformerTiny224"
      ],
      "metadata": {
        "id": "XFaWeRIec1xd"
      },
      "id": "XFaWeRIec1xd"
    },
    {
      "cell_type": "code",
      "source": [
        "inputs = layers.Input(shape=input_shape, dtype='uint8')\n",
        "outputs = layers.Lambda(preprocess_input)(inputs)\n",
        "outputs = SwinTransformerTiny224(include_top=False, pooling='avg')(outputs)\n",
        "outputs = layers.Dense(NUM_CLASSES, activation='softmax')(outputs)\n",
        "\n",
        "model = models.Model(inputs=inputs, outputs=outputs)"
      ],
      "metadata": {
        "id": "JgbNB8Uoc1xd"
      },
      "execution_count": null,
      "outputs": [],
      "id": "JgbNB8Uoc1xd"
    },
    {
      "cell_type": "code",
      "source": [
        "optimizer = tfa.optimizers.AdamW(learning_rate=learning_rate, weight_decay=weight_decay)\n",
        "\n",
        "model.compile(\n",
        "    loss=keras.losses.CategoricalCrossentropy(label_smoothing=label_smoothing),\n",
        "    optimizer=tfa.optimizers.AdamW(\n",
        "        learning_rate=learning_rate, weight_decay=weight_decay\n",
        "    ),\n",
        "    metrics=[\n",
        "        keras.metrics.CategoricalAccuracy(name=\"accuracy\"),\n",
        "        tf.keras.metrics.Precision(),\n",
        "        tf.keras.metrics.Recall(),\n",
        "        tfa.metrics.F1Score(num_classes=NUM_CLASSES, average='macro', threshold=0.5),\n",
        "    ],\n",
        ")"
      ],
      "metadata": {
        "id": "4rWP0-1uc1xd"
      },
      "execution_count": null,
      "outputs": [],
      "id": "4rWP0-1uc1xd"
    },
    {
      "cell_type": "code",
      "source": [
        "history = model.fit(train_ds, validation_data=val_ds, epochs=NUM_EPOCHS)"
      ],
      "metadata": {
        "colab": {
          "base_uri": "https://localhost:8080/"
        },
        "outputId": "7146a74b-bccb-4ad5-f7bd-bc0149e2da06",
        "id": "yJXvbdtac1xd"
      },
      "execution_count": null,
      "outputs": [
        {
          "output_type": "stream",
          "name": "stdout",
          "text": [
            "Epoch 1/30\n",
            "179/179 [==============================] - 61s 212ms/step - loss: 1.3357 - accuracy: 0.3974 - precision_5: 0.5809 - recall_5: 0.1779 - f1_score: 0.2236 - val_loss: 1.2587 - val_accuracy: 0.4699 - val_precision_5: 0.6586 - val_recall_5: 0.1457 - val_f1_score: 0.1640\n",
            "Epoch 2/30\n",
            "179/179 [==============================] - 32s 177ms/step - loss: 1.1888 - accuracy: 0.5077 - precision_5: 0.6955 - recall_5: 0.2383 - f1_score: 0.2899 - val_loss: 1.2277 - val_accuracy: 0.4752 - val_precision_5: 0.6312 - val_recall_5: 0.3760 - val_f1_score: 0.3327\n",
            "Epoch 3/30\n",
            "179/179 [==============================] - 32s 177ms/step - loss: 1.1388 - accuracy: 0.5527 - precision_5: 0.7225 - recall_5: 0.3118 - f1_score: 0.3869 - val_loss: 1.2376 - val_accuracy: 0.4577 - val_precision_5: 0.5490 - val_recall_5: 0.3593 - val_f1_score: 0.3005\n",
            "Epoch 4/30\n",
            "179/179 [==============================] - 32s 177ms/step - loss: 1.0892 - accuracy: 0.5805 - precision_5: 0.7294 - recall_5: 0.3648 - f1_score: 0.4385 - val_loss: 1.1708 - val_accuracy: 0.5286 - val_precision_5: 0.6078 - val_recall_5: 0.3783 - val_f1_score: 0.3551\n",
            "Epoch 5/30\n",
            "179/179 [==============================] - 32s 178ms/step - loss: 1.1043 - accuracy: 0.5783 - precision_5: 0.7189 - recall_5: 0.3510 - f1_score: 0.4289 - val_loss: 1.1172 - val_accuracy: 0.5950 - val_precision_5: 0.6919 - val_recall_5: 0.3974 - val_f1_score: 0.4231\n",
            "Epoch 6/30\n",
            "179/179 [==============================] - 32s 177ms/step - loss: 1.0773 - accuracy: 0.5979 - precision_5: 0.7357 - recall_5: 0.3796 - f1_score: 0.4549 - val_loss: 1.1106 - val_accuracy: 0.6110 - val_precision_5: 0.7086 - val_recall_5: 0.4897 - val_f1_score: 0.5023\n",
            "Epoch 7/30\n",
            "179/179 [==============================] - 32s 177ms/step - loss: 1.0137 - accuracy: 0.6406 - precision_5: 0.7524 - recall_5: 0.4622 - f1_score: 0.5419 - val_loss: 1.0454 - val_accuracy: 0.6255 - val_precision_5: 0.7008 - val_recall_5: 0.4966 - val_f1_score: 0.5015\n",
            "Epoch 8/30\n",
            "179/179 [==============================] - 32s 177ms/step - loss: 0.9693 - accuracy: 0.6698 - precision_5: 0.7652 - recall_5: 0.5032 - f1_score: 0.5753 - val_loss: 0.9938 - val_accuracy: 0.6636 - val_precision_5: 0.7230 - val_recall_5: 0.5614 - val_f1_score: 0.5782\n",
            "Epoch 9/30\n",
            "179/179 [==============================] - 32s 177ms/step - loss: 1.3041 - accuracy: 0.3766 - precision_5: 0.6673 - recall_5: 0.1166 - f1_score: 0.1789 - val_loss: 1.2627 - val_accuracy: 0.4195 - val_precision_5: 0.6842 - val_recall_5: 0.1190 - val_f1_score: 0.1232\n",
            "Epoch 10/30\n",
            "179/179 [==============================] - 32s 177ms/step - loss: 1.2434 - accuracy: 0.4394 - precision_5: 0.7222 - recall_5: 0.1388 - f1_score: 0.1828 - val_loss: 1.2333 - val_accuracy: 0.4630 - val_precision_5: 0.6061 - val_recall_5: 0.1831 - val_f1_score: 0.1597\n",
            "Epoch 11/30\n",
            "179/179 [==============================] - 32s 177ms/step - loss: 1.1812 - accuracy: 0.5131 - precision_5: 0.7120 - recall_5: 0.2502 - f1_score: 0.3272 - val_loss: 1.1805 - val_accuracy: 0.4950 - val_precision_5: 0.6591 - val_recall_5: 0.2433 - val_f1_score: 0.2659\n",
            "Epoch 12/30\n",
            "179/179 [==============================] - 32s 178ms/step - loss: 1.1719 - accuracy: 0.5242 - precision_5: 0.6857 - recall_5: 0.2540 - f1_score: 0.3351 - val_loss: 1.1875 - val_accuracy: 0.5118 - val_precision_5: 0.6291 - val_recall_5: 0.2937 - val_f1_score: 0.3079\n",
            "Epoch 13/30\n",
            "179/179 [==============================] - 32s 178ms/step - loss: 1.1427 - accuracy: 0.5592 - precision_5: 0.7000 - recall_5: 0.2962 - f1_score: 0.3827 - val_loss: 1.1987 - val_accuracy: 0.5034 - val_precision_5: 0.6491 - val_recall_5: 0.1594 - val_f1_score: 0.1959\n",
            "Epoch 14/30\n",
            "179/179 [==============================] - 32s 178ms/step - loss: 1.1666 - accuracy: 0.5308 - precision_5: 0.6914 - recall_5: 0.2703 - f1_score: 0.3600 - val_loss: 1.1285 - val_accuracy: 0.5347 - val_precision_5: 0.6580 - val_recall_5: 0.2891 - val_f1_score: 0.3451\n",
            "Epoch 15/30\n",
            "179/179 [==============================] - 32s 178ms/step - loss: 1.3034 - accuracy: 0.4329 - precision_5: 0.6321 - recall_5: 0.1793 - f1_score: 0.2497 - val_loss: 1.3828 - val_accuracy: 0.3089 - val_precision_5: 0.0000e+00 - val_recall_5: 0.0000e+00 - val_f1_score: 0.0000e+00\n",
            "Epoch 16/30\n",
            "179/179 [==============================] - 32s 177ms/step - loss: 1.3984 - accuracy: 0.2602 - precision_5: 0.0000e+00 - recall_5: 0.0000e+00 - f1_score: 0.0000e+00 - val_loss: 1.3815 - val_accuracy: 0.3089 - val_precision_5: 0.0000e+00 - val_recall_5: 0.0000e+00 - val_f1_score: 0.0000e+00\n",
            "Epoch 17/30\n",
            "179/179 [==============================] - 32s 177ms/step - loss: 1.3875 - accuracy: 0.2764 - precision_5: 0.0000e+00 - recall_5: 0.0000e+00 - f1_score: 0.0000e+00 - val_loss: 1.3844 - val_accuracy: 0.3089 - val_precision_5: 0.0000e+00 - val_recall_5: 0.0000e+00 - val_f1_score: 0.0000e+00\n",
            "Epoch 18/30\n",
            "179/179 [==============================] - 32s 178ms/step - loss: 1.3869 - accuracy: 0.2670 - precision_5: 0.0000e+00 - recall_5: 0.0000e+00 - f1_score: 0.0000e+00 - val_loss: 1.3820 - val_accuracy: 0.3089 - val_precision_5: 0.0000e+00 - val_recall_5: 0.0000e+00 - val_f1_score: 0.0000e+00\n",
            "Epoch 19/30\n",
            "179/179 [==============================] - 32s 177ms/step - loss: 1.3860 - accuracy: 0.2715 - precision_5: 0.0000e+00 - recall_5: 0.0000e+00 - f1_score: 0.0000e+00 - val_loss: 1.3817 - val_accuracy: 0.3089 - val_precision_5: 0.0000e+00 - val_recall_5: 0.0000e+00 - val_f1_score: 0.0000e+00\n",
            "Epoch 20/30\n",
            "179/179 [==============================] - 32s 178ms/step - loss: 1.3857 - accuracy: 0.2705 - precision_5: 0.0000e+00 - recall_5: 0.0000e+00 - f1_score: 0.0000e+00 - val_loss: 1.3831 - val_accuracy: 0.3089 - val_precision_5: 0.0000e+00 - val_recall_5: 0.0000e+00 - val_f1_score: 0.0000e+00\n",
            "Epoch 21/30\n",
            "179/179 [==============================] - 32s 177ms/step - loss: 1.3854 - accuracy: 0.2768 - precision_5: 0.0000e+00 - recall_5: 0.0000e+00 - f1_score: 0.0000e+00 - val_loss: 1.3819 - val_accuracy: 0.3089 - val_precision_5: 0.0000e+00 - val_recall_5: 0.0000e+00 - val_f1_score: 0.0000e+00\n",
            "Epoch 22/30\n",
            "179/179 [==============================] - 32s 177ms/step - loss: 1.3854 - accuracy: 0.2747 - precision_5: 0.0000e+00 - recall_5: 0.0000e+00 - f1_score: 0.0000e+00 - val_loss: 1.3813 - val_accuracy: 0.3089 - val_precision_5: 0.0000e+00 - val_recall_5: 0.0000e+00 - val_f1_score: 0.0000e+00\n",
            "Epoch 23/30\n",
            "179/179 [==============================] - 32s 177ms/step - loss: 1.3851 - accuracy: 0.2750 - precision_5: 0.0000e+00 - recall_5: 0.0000e+00 - f1_score: 0.0000e+00 - val_loss: 1.3813 - val_accuracy: 0.3089 - val_precision_5: 0.0000e+00 - val_recall_5: 0.0000e+00 - val_f1_score: 0.0000e+00\n",
            "Epoch 24/30\n",
            "179/179 [==============================] - 32s 178ms/step - loss: 1.3853 - accuracy: 0.2784 - precision_5: 0.0000e+00 - recall_5: 0.0000e+00 - f1_score: 0.0000e+00 - val_loss: 1.3816 - val_accuracy: 0.3089 - val_precision_5: 0.0000e+00 - val_recall_5: 0.0000e+00 - val_f1_score: 0.0000e+00\n",
            "Epoch 25/30\n",
            "179/179 [==============================] - 32s 177ms/step - loss: 1.3852 - accuracy: 0.2728 - precision_5: 0.0000e+00 - recall_5: 0.0000e+00 - f1_score: 0.0000e+00 - val_loss: 1.3806 - val_accuracy: 0.3089 - val_precision_5: 0.0000e+00 - val_recall_5: 0.0000e+00 - val_f1_score: 0.0000e+00\n",
            "Epoch 26/30\n",
            "179/179 [==============================] - 32s 178ms/step - loss: 1.3853 - accuracy: 0.2761 - precision_5: 0.0000e+00 - recall_5: 0.0000e+00 - f1_score: 0.0000e+00 - val_loss: 1.3825 - val_accuracy: 0.3089 - val_precision_5: 0.0000e+00 - val_recall_5: 0.0000e+00 - val_f1_score: 0.0000e+00\n",
            "Epoch 27/30\n",
            "179/179 [==============================] - 32s 177ms/step - loss: 1.3851 - accuracy: 0.2756 - precision_5: 0.0000e+00 - recall_5: 0.0000e+00 - f1_score: 0.0000e+00 - val_loss: 1.3811 - val_accuracy: 0.3089 - val_precision_5: 0.0000e+00 - val_recall_5: 0.0000e+00 - val_f1_score: 0.0000e+00\n",
            "Epoch 28/30\n",
            "179/179 [==============================] - 32s 177ms/step - loss: 1.3854 - accuracy: 0.2763 - precision_5: 0.0000e+00 - recall_5: 0.0000e+00 - f1_score: 0.0000e+00 - val_loss: 1.3823 - val_accuracy: 0.3089 - val_precision_5: 0.0000e+00 - val_recall_5: 0.0000e+00 - val_f1_score: 0.0000e+00\n",
            "Epoch 29/30\n",
            "179/179 [==============================] - 32s 177ms/step - loss: 1.3850 - accuracy: 0.2796 - precision_5: 0.0000e+00 - recall_5: 0.0000e+00 - f1_score: 0.0000e+00 - val_loss: 1.3812 - val_accuracy: 0.3089 - val_precision_5: 0.0000e+00 - val_recall_5: 0.0000e+00 - val_f1_score: 0.0000e+00\n",
            "Epoch 30/30\n",
            "179/179 [==============================] - 32s 177ms/step - loss: 1.3851 - accuracy: 0.2719 - precision_5: 0.0000e+00 - recall_5: 0.0000e+00 - f1_score: 0.0000e+00 - val_loss: 1.3836 - val_accuracy: 0.3089 - val_precision_5: 0.0000e+00 - val_recall_5: 0.0000e+00 - val_f1_score: 0.0000e+00\n"
          ]
        }
      ],
      "id": "yJXvbdtac1xd"
    },
    {
      "cell_type": "code",
      "source": [
        "plt.plot(history.history[\"loss\"], label=\"train_loss\")\n",
        "plt.plot(history.history[\"val_loss\"], label=\"val_loss\")\n",
        "plt.xlabel(\"Epochs\")\n",
        "plt.ylabel(\"Loss\")\n",
        "plt.title(\"Train and Validation Losses Over Epochs\", fontsize=14)\n",
        "plt.legend()\n",
        "plt.grid()\n",
        "plt.show()"
      ],
      "metadata": {
        "colab": {
          "base_uri": "https://localhost:8080/",
          "height": 473
        },
        "id": "XLNDi5OTc1xe",
        "outputId": "4958c80d-2cb5-44a4-f607-09679497a9b8"
      },
      "execution_count": null,
      "outputs": [
        {
          "output_type": "display_data",
          "data": {
            "text/plain": [
              "<Figure size 640x480 with 1 Axes>"
            ],
            "image/png": "[encoded data removed]"
          },
          "metadata": {}
        }
      ],
      "id": "XLNDi5OTc1xe"
    },
    {
      "cell_type": "markdown",
      "source": [
        "\n",
        "\n",
        "---\n",
        "\n",
        "# ⏰ Flush memory varibales before using the next transfomer"
      ],
      "metadata": {
        "id": "FvWfEI14QyxQ"
      },
      "id": "FvWfEI14QyxQ"
    },
    {
      "cell_type": "code",
      "source": [
        "del history\n",
        "del model\n",
        "del optimizer"
      ],
      "metadata": {
        "colab": {
          "base_uri": "https://localhost:8080/",
          "height": 227
        },
        "id": "xxNFf1XmQzwW",
        "outputId": "f48891f4-bb8e-46b9-c5ae-666c3f1c9958"
      },
      "id": "xxNFf1XmQzwW",
      "execution_count": null,
      "outputs": [
        {
          "output_type": "error",
          "ename": "NameError",
          "evalue": "ignored",
          "traceback": [
            "\u001b[0;31m---------------------------------------------------------------------------\u001b[0m",
            "\u001b[0;31mNameError\u001b[0m                                 Traceback (most recent call last)",
            "\u001b[0;32m<ipython-input-27-99398ae6d13e>\u001b[0m in \u001b[0;36m<cell line: 3>\u001b[0;34m()\u001b[0m\n\u001b[1;32m      1\u001b[0m \u001b[0;32mdel\u001b[0m \u001b[0mhistory\u001b[0m\u001b[0;34m\u001b[0m\u001b[0;34m\u001b[0m\u001b[0m\n\u001b[1;32m      2\u001b[0m \u001b[0;32mdel\u001b[0m \u001b[0mmodel\u001b[0m\u001b[0;34m\u001b[0m\u001b[0;34m\u001b[0m\u001b[0m\n\u001b[0;32m----> 3\u001b[0;31m \u001b[0;32mdel\u001b[0m \u001b[0mbase_model\u001b[0m\u001b[0;34m\u001b[0m\u001b[0;34m\u001b[0m\u001b[0m\n\u001b[0m\u001b[1;32m      4\u001b[0m \u001b[0;32mdel\u001b[0m \u001b[0moptimizer\u001b[0m\u001b[0;34m\u001b[0m\u001b[0;34m\u001b[0m\u001b[0m\n",
            "\u001b[0;31mNameError\u001b[0m: name 'base_model' is not defined"
          ]
        }
      ]
    }
  ],
  "metadata": {
    "kernelspec": {
      "display_name": "Python 3",
      "name": "python3"
    },
    "language_info": {
      "codemirror_mode": {
        "name": "ipython",
        "version": 3
      },
      "file_extension": ".py",
      "mimetype": "text/x-python",
      "name": "python",
      "nbconvert_exporter": "python",
      "pygments_lexer": "ipython3",
      "version": "3.10.9"
    },
    "colab": {
      "provenance": [],
      "machine_shape": "hm",
      "gpuType": "A100",
      "toc_visible": true,
      "include_colab_link": true
    },
    "accelerator": "GPU"
  },
  "nbformat": 4,
  "nbformat_minor": 5
}