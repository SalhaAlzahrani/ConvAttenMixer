{
  "cells": [
    {
      "cell_type": "markdown",
      "metadata": {
        "id": "view-in-github",
        "colab_type": "text"
      },
      "source": [
        "<a href=\"https://colab.research.google.com/github/SalhaAlzahrani/ConvAttenMixer/blob/main/VisionTransfomers_MRI_Brain_Tumor_Classification_IV.ipynb\" target=\"_parent\"><img src=\"https://colab.research.google.com/assets/colab-badge.svg\" alt=\"Open In Colab\"/></a>"
      ]
    },
    {
      "cell_type": "markdown",
      "id": "ee8751e2",
      "metadata": {
        "id": "ee8751e2"
      },
      "source": [
        "# 🔵 Image classification with Vision Transformers"
      ]
    },
    {
      "cell_type": "markdown",
      "source": [
        "# 🧠 MRI Brain Tumor Classification"
      ],
      "metadata": {
        "id": "z3SknHBDElFw"
      },
      "id": "z3SknHBDElFw"
    },
    {
      "cell_type": "markdown",
      "id": "d352abf3",
      "metadata": {
        "id": "d352abf3"
      },
      "source": [
        "# Requirmenets"
      ]
    },
    {
      "cell_type": "code",
      "source": [
        "!pip install -U tensorflow-addons\n",
        "!pip install vit-keras\n",
        "!pip install --upgrade accelerate"
      ],
      "metadata": {
        "id": "bWmlzDBbXp9D",
        "colab": {
          "base_uri": "https://localhost:8080/"
        },
        "outputId": "2e179773-1f75-4dc8-db92-47d3882e151b"
      },
      "id": "bWmlzDBbXp9D",
      "execution_count": null,
      "outputs": [
        {
          "output_type": "stream",
          "name": "stdout",
          "text": [
            "Collecting tensorflow-addons\n",
            "  Downloading tensorflow_addons-0.21.0-cp310-cp310-manylinux_2_17_x86_64.manylinux2014_x86_64.whl (612 kB)\n",
            "\u001b[2K     \u001b[90m━━━━━━━━━━━━━━━━━━━━━━━━━━━━━━━━━━━━━━\u001b[0m \u001b[32m612.1/612.1 kB\u001b[0m \u001b[31m10.5 MB/s\u001b[0m eta \u001b[36m0:00:00\u001b[0m\n",
            "\u001b[?25hRequirement already satisfied: packaging in /usr/local/lib/python3.10/dist-packages (from tensorflow-addons) (23.1)\n",
            "Collecting typeguard<3.0.0,>=2.7 (from tensorflow-addons)\n",
            "  Downloading typeguard-2.13.3-py3-none-any.whl (17 kB)\n",
            "Installing collected packages: typeguard, tensorflow-addons\n",
            "Successfully installed tensorflow-addons-0.21.0 typeguard-2.13.3\n",
            "Collecting vit-keras\n",
            "  Downloading vit_keras-0.1.2-py3-none-any.whl (24 kB)\n",
            "Requirement already satisfied: scipy in /usr/local/lib/python3.10/dist-packages (from vit-keras) (1.11.2)\n",
            "Collecting validators (from vit-keras)\n",
            "  Downloading validators-0.22.0-py3-none-any.whl (26 kB)\n",
            "Requirement already satisfied: numpy<1.28.0,>=1.21.6 in /usr/local/lib/python3.10/dist-packages (from scipy->vit-keras) (1.23.5)\n",
            "Installing collected packages: validators, vit-keras\n",
            "Successfully installed validators-0.22.0 vit-keras-0.1.2\n",
            "Collecting accelerate\n",
            "  Downloading accelerate-0.23.0-py3-none-any.whl (258 kB)\n",
            "\u001b[2K     \u001b[90m━━━━━━━━━━━━━━━━━━━━━━━━━━━━━━━━━━━━━━━\u001b[0m \u001b[32m258.1/258.1 kB\u001b[0m \u001b[31m3.3 MB/s\u001b[0m eta \u001b[36m0:00:00\u001b[0m\n",
            "\u001b[?25hRequirement already satisfied: numpy>=1.17 in /usr/local/lib/python3.10/dist-packages (from accelerate) (1.23.5)\n",
            "Requirement already satisfied: packaging>=20.0 in /usr/local/lib/python3.10/dist-packages (from accelerate) (23.1)\n",
            "Requirement already satisfied: psutil in /usr/local/lib/python3.10/dist-packages (from accelerate) (5.9.5)\n",
            "Requirement already satisfied: pyyaml in /usr/local/lib/python3.10/dist-packages (from accelerate) (6.0.1)\n",
            "Requirement already satisfied: torch>=1.10.0 in /usr/local/lib/python3.10/dist-packages (from accelerate) (2.0.1+cu118)\n",
            "Collecting huggingface-hub (from accelerate)\n",
            "  Downloading huggingface_hub-0.17.1-py3-none-any.whl (294 kB)\n",
            "\u001b[2K     \u001b[90m━━━━━━━━━━━━━━━━━━━━━━━━━━━━━━━━━━━━━━\u001b[0m \u001b[32m294.8/294.8 kB\u001b[0m \u001b[31m33.1 MB/s\u001b[0m eta \u001b[36m0:00:00\u001b[0m\n",
            "\u001b[?25hRequirement already satisfied: filelock in /usr/local/lib/python3.10/dist-packages (from torch>=1.10.0->accelerate) (3.12.2)\n",
            "Requirement already satisfied: typing-extensions in /usr/local/lib/python3.10/dist-packages (from torch>=1.10.0->accelerate) (4.5.0)\n",
            "Requirement already satisfied: sympy in /usr/local/lib/python3.10/dist-packages (from torch>=1.10.0->accelerate) (1.12)\n",
            "Requirement already satisfied: networkx in /usr/local/lib/python3.10/dist-packages (from torch>=1.10.0->accelerate) (3.1)\n",
            "Requirement already satisfied: jinja2 in /usr/local/lib/python3.10/dist-packages (from torch>=1.10.0->accelerate) (3.1.2)\n",
            "Requirement already satisfied: triton==2.0.0 in /usr/local/lib/python3.10/dist-packages (from torch>=1.10.0->accelerate) (2.0.0)\n",
            "Requirement already satisfied: cmake in /usr/local/lib/python3.10/dist-packages (from triton==2.0.0->torch>=1.10.0->accelerate) (3.27.4.1)\n",
            "Requirement already satisfied: lit in /usr/local/lib/python3.10/dist-packages (from triton==2.0.0->torch>=1.10.0->accelerate) (16.0.6)\n",
            "Requirement already satisfied: fsspec in /usr/local/lib/python3.10/dist-packages (from huggingface-hub->accelerate) (2023.6.0)\n",
            "Requirement already satisfied: requests in /usr/local/lib/python3.10/dist-packages (from huggingface-hub->accelerate) (2.31.0)\n",
            "Requirement already satisfied: tqdm>=4.42.1 in /usr/local/lib/python3.10/dist-packages (from huggingface-hub->accelerate) (4.66.1)\n",
            "Requirement already satisfied: MarkupSafe>=2.0 in /usr/local/lib/python3.10/dist-packages (from jinja2->torch>=1.10.0->accelerate) (2.1.3)\n",
            "Requirement already satisfied: charset-normalizer<4,>=2 in /usr/local/lib/python3.10/dist-packages (from requests->huggingface-hub->accelerate) (3.2.0)\n",
            "Requirement already satisfied: idna<4,>=2.5 in /usr/local/lib/python3.10/dist-packages (from requests->huggingface-hub->accelerate) (3.4)\n",
            "Requirement already satisfied: urllib3<3,>=1.21.1 in /usr/local/lib/python3.10/dist-packages (from requests->huggingface-hub->accelerate) (2.0.4)\n",
            "Requirement already satisfied: certifi>=2017.4.17 in /usr/local/lib/python3.10/dist-packages (from requests->huggingface-hub->accelerate) (2023.7.22)\n",
            "Requirement already satisfied: mpmath>=0.19 in /usr/local/lib/python3.10/dist-packages (from sympy->torch>=1.10.0->accelerate) (1.3.0)\n",
            "Installing collected packages: huggingface-hub, accelerate\n",
            "Successfully installed accelerate-0.23.0 huggingface-hub-0.17.1\n"
          ]
        }
      ]
    },
    {
      "cell_type": "code",
      "execution_count": null,
      "id": "fe992f1f",
      "metadata": {
        "id": "fe992f1f",
        "colab": {
          "base_uri": "https://localhost:8080/"
        },
        "outputId": "7a62fe0b-1ddc-4605-94ba-9a86df70f8b8"
      },
      "outputs": [
        {
          "output_type": "stream",
          "name": "stderr",
          "text": [
            "/usr/local/lib/python3.10/dist-packages/tensorflow_addons/utils/tfa_eol_msg.py:23: UserWarning: \n",
            "\n",
            "TensorFlow Addons (TFA) has ended development and introduction of new features.\n",
            "TFA has entered a minimal maintenance and release mode until a planned end of life in May 2024.\n",
            "Please modify downstream libraries to take dependencies from other repositories in our TensorFlow community (e.g. Keras, Keras-CV, and Keras-NLP). \n",
            "\n",
            "For more information see: https://github.com/tensorflow/addons/issues/2807 \n",
            "\n",
            "  warnings.warn(\n"
          ]
        },
        {
          "output_type": "stream",
          "name": "stdout",
          "text": [
            "Mounted at /content/drive\n"
          ]
        }
      ],
      "source": [
        "import os\n",
        "import numpy as np\n",
        "import matplotlib.pyplot as plt\n",
        "import pandas as pd\n",
        "import random\n",
        "import seaborn as sns\n",
        "import tensorflow as tf\n",
        "from tensorflow import keras\n",
        "from tensorflow.keras.preprocessing import image_dataset_from_directory\n",
        "from keras.models import Sequential\n",
        "from keras.preprocessing.image import ImageDataGenerator\n",
        "import keras.metrics\n",
        "from keras.models import Model\n",
        "from keras.layers import Conv2D, MaxPooling2D\n",
        "from keras.layers import Dense, Dropout, Activation, Flatten, BatchNormalization\n",
        "from keras.models import Sequential\n",
        "from keras.preprocessing.image import ImageDataGenerator\n",
        "from keras.utils import to_categorical\n",
        "from keras.optimizers import SGD,Adam\n",
        "\n",
        "from vit_keras import vit, utils\n",
        "from google.colab import drive\n",
        "import tensorflow_addons as tfa\n",
        "\n",
        "# Define the path to the MRI data directory\n",
        "drive.mount('/content/drive', force_remount=True)"
      ]
    },
    {
      "cell_type": "markdown",
      "id": "4529fdb5",
      "metadata": {
        "id": "4529fdb5"
      },
      "source": [
        "# Configure the hyperparameters\n"
      ]
    },
    {
      "cell_type": "code",
      "source": [
        "learning_rate = 0.001\n",
        "weight_decay = 0.0001\n",
        "label_smoothing = 0.1\n",
        "\n",
        "BATCH_SIZE = 32\n",
        "IMG_SIZE = 224\n",
        "NUM_CLASSES = 4\n",
        "input_shape = (224, 224, 3)\n",
        "NUM_EPOCHS = 30"
      ],
      "metadata": {
        "id": "XwOkL3bWG3YD"
      },
      "id": "XwOkL3bWG3YD",
      "execution_count": null,
      "outputs": []
    },
    {
      "cell_type": "markdown",
      "id": "2aeaa699",
      "metadata": {
        "id": "2aeaa699"
      },
      "source": [
        "# Prepare the data"
      ]
    },
    {
      "cell_type": "code",
      "execution_count": null,
      "metadata": {
        "colab": {
          "base_uri": "https://localhost:8080/"
        },
        "id": "Ul9MAO4CHK5u",
        "outputId": "cae2d743-aac8-4a63-dba3-0b6e0b04f142"
      },
      "outputs": [
        {
          "output_type": "stream",
          "name": "stdout",
          "text": [
            "Found 5712 files belonging to 4 classes.\n",
            "Found 1311 files belonging to 4 classes.\n"
          ]
        }
      ],
      "source": [
        "# train data\n",
        "train_ds = image_dataset_from_directory(\n",
        "    directory='/content/drive/MyDrive/Brain Tumor MRI/data/Training/',\n",
        "    labels='inferred',\n",
        "    label_mode='categorical',\n",
        "    batch_size=BATCH_SIZE,\n",
        "    image_size=(IMG_SIZE, IMG_SIZE),\n",
        "    color_mode='rgb',\n",
        "    shuffle=True,\n",
        "    seed=1024,\n",
        "    validation_split=None,\n",
        "    subset=None,\n",
        "    interpolation='bilinear',\n",
        "    follow_links=False,\n",
        "    crop_to_aspect_ratio=False,\n",
        ")\n",
        "\n",
        "# validation data\n",
        "val_ds = image_dataset_from_directory(\n",
        "    directory='/content/drive/MyDrive/Brain Tumor MRI/data/Testing/',\n",
        "    labels='inferred',\n",
        "    label_mode='categorical',\n",
        "    batch_size=BATCH_SIZE,\n",
        "    image_size=(IMG_SIZE, IMG_SIZE),\n",
        "    color_mode='rgb',\n",
        "    shuffle=True,\n",
        "    seed=1024,\n",
        "    validation_split=None,\n",
        "    subset=None,\n",
        "    interpolation='bilinear',\n",
        "    follow_links=False,\n",
        "    crop_to_aspect_ratio=False,\n",
        ")"
      ],
      "id": "Ul9MAO4CHK5u"
    },
    {
      "cell_type": "code",
      "source": [
        "#Configure the dataset for performance\n",
        "AUTOTUNE = tf.data.AUTOTUNE\n",
        "train_ds = train_ds.prefetch(buffer_size=AUTOTUNE)\n",
        "val_ds = val_ds.prefetch(buffer_size=AUTOTUNE)"
      ],
      "metadata": {
        "id": "CBdPtsqZ0aJz"
      },
      "id": "CBdPtsqZ0aJz",
      "execution_count": null,
      "outputs": []
    },
    {
      "cell_type": "markdown",
      "metadata": {
        "id": "S8IRuw85vw7I"
      },
      "source": [
        "\n",
        "\n",
        "---\n",
        "\n"
      ],
      "id": "S8IRuw85vw7I"
    },
    {
      "cell_type": "code",
      "source": [
        "#This model expects pixel values in [-1, 1], but at this point, the pixel values in your images are in [0, 255]. To rescale them, use the preprocessing method included with the model.\n",
        "preprocess_input = tf.keras.applications.mobilenet_v2.preprocess_input\n",
        "rescale = tf.keras.layers.Rescaling(1./127.5, offset=-1)"
      ],
      "metadata": {
        "id": "0M2im7JLJ9GT"
      },
      "id": "0M2im7JLJ9GT",
      "execution_count": null,
      "outputs": []
    },
    {
      "cell_type": "markdown",
      "source": [
        "\n",
        "\n",
        "---\n",
        "\n"
      ],
      "metadata": {
        "id": "eX1TxbLYKIcZ"
      },
      "id": "eX1TxbLYKIcZ"
    },
    {
      "cell_type": "markdown",
      "source": [
        "# ConvNeXtXLarge\n",
        "\n",
        "\n",
        "\n"
      ],
      "metadata": {
        "id": "IusZyilBCJFZ"
      },
      "id": "IusZyilBCJFZ"
    },
    {
      "cell_type": "code",
      "source": [
        "# Create the base model from the pre-trained model\n",
        "IMG_SHAPE = (IMG_SIZE, IMG_SIZE) + (3,)\n",
        "base_model = tf.keras.applications.ConvNeXtXLarge(input_shape=IMG_SHAPE,\n",
        "                                               include_top=False,\n",
        "                                               weights='imagenet')\n",
        "image_batch, label_batch = next(iter(train_ds))\n",
        "feature_batch = base_model(image_batch)\n",
        "base_model.trainable = False"
      ],
      "metadata": {
        "colab": {
          "base_uri": "https://localhost:8080/"
        },
        "id": "BwXmoSr2COJR",
        "outputId": "04de2d17-fd63-4284-fe30-f633d0593151"
      },
      "execution_count": null,
      "outputs": [
        {
          "output_type": "stream",
          "name": "stdout",
          "text": [
            "Downloading data from https://storage.googleapis.com/tensorflow/keras-applications/convnext/convnext_xlarge_notop.h5\n",
            "1393257616/1393257616 [==============================] - 63s 0us/step\n"
          ]
        }
      ],
      "id": "BwXmoSr2COJR"
    },
    {
      "cell_type": "code",
      "source": [
        "#Add a classification head\n",
        "global_average_layer = tf.keras.layers.GlobalAveragePooling2D()\n",
        "feature_batch_average = global_average_layer(feature_batch)\n",
        "\n",
        "prediction_layer = tf.keras.layers.Dense(NUM_CLASSES, activation=('softmax'))\n",
        "prediction_batch = prediction_layer(feature_batch_average)\n",
        "\n",
        "inputs = tf.keras.Input(shape=input_shape)\n",
        "x = inputs\n",
        "x = base_model(x, training=False)\n",
        "x = global_average_layer(x)\n",
        "x = tf.keras.layers.Dropout(0.2)(x)\n",
        "outputs = prediction_layer(x)\n",
        "model = tf.keras.Model(inputs, outputs)"
      ],
      "metadata": {
        "id": "v0wOr9e3CXJu"
      },
      "execution_count": null,
      "outputs": [],
      "id": "v0wOr9e3CXJu"
    },
    {
      "cell_type": "code",
      "source": [
        "optimizer = tfa.optimizers.AdamW(learning_rate=learning_rate, weight_decay=weight_decay)\n",
        "\n",
        "model.compile(\n",
        "    loss=keras.losses.CategoricalCrossentropy(label_smoothing=label_smoothing),\n",
        "    optimizer=tfa.optimizers.AdamW(\n",
        "        learning_rate=learning_rate, weight_decay=weight_decay\n",
        "    ),\n",
        "    metrics=[\n",
        "        keras.metrics.CategoricalAccuracy(name=\"accuracy\"),\n",
        "        tf.keras.metrics.Precision(),\n",
        "        tf.keras.metrics.Recall(),\n",
        "        tfa.metrics.F1Score(num_classes=NUM_CLASSES, average='macro', threshold=0.5),\n",
        "    ],\n",
        ")"
      ],
      "metadata": {
        "id": "HYUpAvQjKKQi"
      },
      "execution_count": null,
      "outputs": [],
      "id": "HYUpAvQjKKQi"
    },
    {
      "cell_type": "code",
      "source": [
        "history = model.fit(train_ds, validation_data=val_ds, epochs=NUM_EPOCHS)"
      ],
      "metadata": {
        "id": "NDeJsWOmKKQi",
        "colab": {
          "base_uri": "https://localhost:8080/"
        },
        "outputId": "db910c00-1299-4f69-c144-ca734c551e2c"
      },
      "execution_count": null,
      "outputs": [
        {
          "output_type": "stream",
          "name": "stdout",
          "text": [
            "Epoch 1/30\n",
            "179/179 [==============================] - 492s 3s/step - loss: 0.7232 - accuracy: 0.8209 - precision_2: 0.8896 - recall_2: 0.7395 - f1_score: 0.7954 - val_loss: 0.6558 - val_accuracy: 0.8413 - val_precision_2: 0.8855 - val_recall_2: 0.8024 - val_f1_score: 0.8220\n",
            "Epoch 2/30\n",
            "179/179 [==============================] - 36s 198ms/step - loss: 0.5660 - accuracy: 0.9063 - precision_2: 0.9303 - recall_2: 0.8675 - f1_score: 0.8913 - val_loss: 0.6016 - val_accuracy: 0.8658 - val_precision_2: 0.9028 - val_recall_2: 0.8291 - val_f1_score: 0.8473\n",
            "Epoch 3/30\n",
            "179/179 [==============================] - 36s 198ms/step - loss: 0.5379 - accuracy: 0.9238 - precision_2: 0.9442 - recall_2: 0.8941 - f1_score: 0.9136 - val_loss: 0.5735 - val_accuracy: 0.8795 - val_precision_2: 0.9083 - val_recall_2: 0.8535 - val_f1_score: 0.8693\n",
            "Epoch 4/30\n",
            "179/179 [==============================] - 35s 197ms/step - loss: 0.5243 - accuracy: 0.9279 - precision_2: 0.9449 - recall_2: 0.9006 - f1_score: 0.9177 - val_loss: 0.5457 - val_accuracy: 0.9024 - val_precision_2: 0.9276 - val_recall_2: 0.8696 - val_f1_score: 0.8879\n",
            "Epoch 5/30\n",
            "179/179 [==============================] - 36s 198ms/step - loss: 0.5091 - accuracy: 0.9359 - precision_2: 0.9515 - recall_2: 0.9137 - f1_score: 0.9284 - val_loss: 0.5189 - val_accuracy: 0.9237 - val_precision_2: 0.9407 - val_recall_2: 0.8955 - val_f1_score: 0.9112\n",
            "Epoch 6/30\n",
            "179/179 [==============================] - 36s 198ms/step - loss: 0.5033 - accuracy: 0.9373 - precision_2: 0.9532 - recall_2: 0.9137 - f1_score: 0.9292 - val_loss: 0.5332 - val_accuracy: 0.9153 - val_precision_2: 0.9289 - val_recall_2: 0.8963 - val_f1_score: 0.9064\n",
            "Epoch 7/30\n",
            "179/179 [==============================] - 36s 199ms/step - loss: 0.4926 - accuracy: 0.9463 - precision_2: 0.9626 - recall_2: 0.9242 - f1_score: 0.9396 - val_loss: 0.5017 - val_accuracy: 0.9306 - val_precision_2: 0.9475 - val_recall_2: 0.9092 - val_f1_score: 0.9224\n",
            "Epoch 8/30\n",
            "179/179 [==============================] - 36s 198ms/step - loss: 0.4900 - accuracy: 0.9447 - precision_2: 0.9629 - recall_2: 0.9237 - f1_score: 0.9397 - val_loss: 0.5151 - val_accuracy: 0.9298 - val_precision_2: 0.9553 - val_recall_2: 0.8963 - val_f1_score: 0.9165\n",
            "Epoch 9/30\n",
            "179/179 [==============================] - 36s 198ms/step - loss: 0.4863 - accuracy: 0.9459 - precision_2: 0.9636 - recall_2: 0.9266 - f1_score: 0.9415 - val_loss: 0.5214 - val_accuracy: 0.9191 - val_precision_2: 0.9422 - val_recall_2: 0.8955 - val_f1_score: 0.9113\n",
            "Epoch 10/30\n",
            "179/179 [==============================] - 35s 197ms/step - loss: 0.4816 - accuracy: 0.9513 - precision_2: 0.9646 - recall_2: 0.9307 - f1_score: 0.9443 - val_loss: 0.5160 - val_accuracy: 0.9283 - val_precision_2: 0.9392 - val_recall_2: 0.9077 - val_f1_score: 0.9170\n",
            "Epoch 11/30\n",
            "179/179 [==============================] - 36s 198ms/step - loss: 0.4824 - accuracy: 0.9526 - precision_2: 0.9663 - recall_2: 0.9331 - f1_score: 0.9464 - val_loss: 0.5449 - val_accuracy: 0.9054 - val_precision_2: 0.9376 - val_recall_2: 0.8703 - val_f1_score: 0.8871\n",
            "Epoch 12/30\n",
            "179/179 [==============================] - 36s 198ms/step - loss: 0.4878 - accuracy: 0.9477 - precision_2: 0.9654 - recall_2: 0.9291 - f1_score: 0.9435 - val_loss: 0.4871 - val_accuracy: 0.9413 - val_precision_2: 0.9507 - val_recall_2: 0.9275 - val_f1_score: 0.9351\n",
            "Epoch 13/30\n",
            "179/179 [==============================] - 36s 198ms/step - loss: 0.4770 - accuracy: 0.9541 - precision_2: 0.9695 - recall_2: 0.9345 - f1_score: 0.9488 - val_loss: 0.4848 - val_accuracy: 0.9443 - val_precision_2: 0.9609 - val_recall_2: 0.9176 - val_f1_score: 0.9334\n",
            "Epoch 14/30\n",
            "179/179 [==============================] - 36s 199ms/step - loss: 0.4788 - accuracy: 0.9527 - precision_2: 0.9648 - recall_2: 0.9315 - f1_score: 0.9448 - val_loss: 0.4888 - val_accuracy: 0.9413 - val_precision_2: 0.9526 - val_recall_2: 0.9207 - val_f1_score: 0.9319\n",
            "Epoch 15/30\n",
            "179/179 [==============================] - 36s 199ms/step - loss: 0.4778 - accuracy: 0.9543 - precision_2: 0.9672 - recall_2: 0.9354 - f1_score: 0.9480 - val_loss: 0.5062 - val_accuracy: 0.9314 - val_precision_2: 0.9403 - val_recall_2: 0.9123 - val_f1_score: 0.9213\n",
            "Epoch 16/30\n",
            "179/179 [==============================] - 36s 199ms/step - loss: 0.4754 - accuracy: 0.9590 - precision_2: 0.9707 - recall_2: 0.9387 - f1_score: 0.9516 - val_loss: 0.5081 - val_accuracy: 0.9375 - val_precision_2: 0.9420 - val_recall_2: 0.9169 - val_f1_score: 0.9234\n",
            "Epoch 17/30\n",
            "179/179 [==============================] - 36s 198ms/step - loss: 0.4677 - accuracy: 0.9608 - precision_2: 0.9722 - recall_2: 0.9384 - f1_score: 0.9522 - val_loss: 0.4806 - val_accuracy: 0.9443 - val_precision_2: 0.9596 - val_recall_2: 0.9237 - val_f1_score: 0.9367\n",
            "Epoch 18/30\n",
            "179/179 [==============================] - 36s 198ms/step - loss: 0.4702 - accuracy: 0.9599 - precision_2: 0.9711 - recall_2: 0.9421 - f1_score: 0.9538 - val_loss: 0.4873 - val_accuracy: 0.9428 - val_precision_2: 0.9534 - val_recall_2: 0.9207 - val_f1_score: 0.9321\n",
            "Epoch 19/30\n",
            "179/179 [==============================] - 36s 199ms/step - loss: 0.4794 - accuracy: 0.9548 - precision_2: 0.9696 - recall_2: 0.9371 - f1_score: 0.9504 - val_loss: 0.5335 - val_accuracy: 0.9283 - val_precision_2: 0.9375 - val_recall_2: 0.9146 - val_f1_score: 0.9191\n",
            "Epoch 20/30\n",
            "179/179 [==============================] - 36s 198ms/step - loss: 0.4734 - accuracy: 0.9566 - precision_2: 0.9711 - recall_2: 0.9419 - f1_score: 0.9536 - val_loss: 0.4787 - val_accuracy: 0.9474 - val_precision_2: 0.9599 - val_recall_2: 0.9314 - val_f1_score: 0.9419\n",
            "Epoch 21/30\n",
            "179/179 [==============================] - 36s 199ms/step - loss: 0.4712 - accuracy: 0.9590 - precision_2: 0.9697 - recall_2: 0.9407 - f1_score: 0.9524 - val_loss: 0.4856 - val_accuracy: 0.9397 - val_precision_2: 0.9579 - val_recall_2: 0.9199 - val_f1_score: 0.9333\n",
            "Epoch 22/30\n",
            "179/179 [==============================] - 36s 199ms/step - loss: 0.4671 - accuracy: 0.9611 - precision_2: 0.9725 - recall_2: 0.9422 - f1_score: 0.9546 - val_loss: 0.4720 - val_accuracy: 0.9497 - val_precision_2: 0.9629 - val_recall_2: 0.9314 - val_f1_score: 0.9426\n",
            "Epoch 23/30\n",
            "179/179 [==============================] - 36s 199ms/step - loss: 0.4641 - accuracy: 0.9627 - precision_2: 0.9730 - recall_2: 0.9477 - f1_score: 0.9579 - val_loss: 0.4869 - val_accuracy: 0.9413 - val_precision_2: 0.9504 - val_recall_2: 0.9214 - val_f1_score: 0.9312\n",
            "Epoch 24/30\n",
            "179/179 [==============================] - 36s 199ms/step - loss: 0.4755 - accuracy: 0.9564 - precision_2: 0.9701 - recall_2: 0.9370 - f1_score: 0.9505 - val_loss: 0.4828 - val_accuracy: 0.9458 - val_precision_2: 0.9646 - val_recall_2: 0.9153 - val_f1_score: 0.9328\n",
            "Epoch 25/30\n",
            "179/179 [==============================] - 36s 199ms/step - loss: 0.4755 - accuracy: 0.9562 - precision_2: 0.9680 - recall_2: 0.9377 - f1_score: 0.9497 - val_loss: 0.4955 - val_accuracy: 0.9367 - val_precision_2: 0.9536 - val_recall_2: 0.9085 - val_f1_score: 0.9240\n",
            "Epoch 26/30\n",
            "179/179 [==============================] - 36s 199ms/step - loss: 0.4725 - accuracy: 0.9596 - precision_2: 0.9709 - recall_2: 0.9410 - f1_score: 0.9531 - val_loss: 0.4753 - val_accuracy: 0.9481 - val_precision_2: 0.9607 - val_recall_2: 0.9314 - val_f1_score: 0.9417\n",
            "Epoch 27/30\n",
            "179/179 [==============================] - 36s 199ms/step - loss: 0.4657 - accuracy: 0.9624 - precision_2: 0.9740 - recall_2: 0.9435 - f1_score: 0.9560 - val_loss: 0.4876 - val_accuracy: 0.9359 - val_precision_2: 0.9562 - val_recall_2: 0.9161 - val_f1_score: 0.9304\n",
            "Epoch 28/30\n",
            "179/179 [==============================] - 36s 199ms/step - loss: 0.4647 - accuracy: 0.9613 - precision_2: 0.9729 - recall_2: 0.9442 - f1_score: 0.9557 - val_loss: 0.4943 - val_accuracy: 0.9352 - val_precision_2: 0.9560 - val_recall_2: 0.9123 - val_f1_score: 0.9285\n",
            "Epoch 29/30\n",
            "179/179 [==============================] - 36s 200ms/step - loss: 0.4722 - accuracy: 0.9582 - precision_2: 0.9716 - recall_2: 0.9400 - f1_score: 0.9530 - val_loss: 0.4797 - val_accuracy: 0.9481 - val_precision_2: 0.9628 - val_recall_2: 0.9283 - val_f1_score: 0.9407\n",
            "Epoch 30/30\n",
            "179/179 [==============================] - 36s 200ms/step - loss: 0.4691 - accuracy: 0.9615 - precision_2: 0.9726 - recall_2: 0.9429 - f1_score: 0.9548 - val_loss: 0.5007 - val_accuracy: 0.9275 - val_precision_2: 0.9541 - val_recall_2: 0.9039 - val_f1_score: 0.9200\n"
          ]
        }
      ],
      "id": "NDeJsWOmKKQi"
    },
    {
      "cell_type": "code",
      "source": [
        "plt.plot(history.history[\"loss\"], label=\"train_loss\")\n",
        "plt.plot(history.history[\"val_loss\"], label=\"val_loss\")\n",
        "plt.xlabel(\"Epochs\")\n",
        "plt.ylabel(\"Loss\")\n",
        "plt.title(\"Train and Validation Losses Over Epochs\", fontsize=14)\n",
        "plt.legend()\n",
        "plt.grid()\n",
        "plt.show()"
      ],
      "metadata": {
        "id": "xdVX_6wGKKQi",
        "colab": {
          "base_uri": "https://localhost:8080/",
          "height": 473
        },
        "outputId": "20be734d-61c3-4c98-870a-f8dc96f6421b"
      },
      "execution_count": null,
      "outputs": [
        {
          "output_type": "display_data",
          "data": {
            "text/plain": [
              "<Figure size 640x480 with 1 Axes>"
            ],
            "image/png": "[encoded data removed]"
          },
          "metadata": {}
        }
      ],
      "id": "xdVX_6wGKKQi"
    },
    {
      "cell_type": "markdown",
      "source": [
        "\n",
        "\n",
        "---\n",
        "\n"
      ],
      "metadata": {
        "id": "YFSoy6tMNMxL"
      },
      "id": "YFSoy6tMNMxL"
    },
    {
      "cell_type": "markdown",
      "source": [
        "# ConvNeXtLarge\n",
        "\n",
        "\n",
        "\n"
      ],
      "metadata": {
        "id": "lWz0rbMONPHo"
      },
      "id": "lWz0rbMONPHo"
    },
    {
      "cell_type": "code",
      "source": [
        "# Create the base model from the pre-trained model\n",
        "IMG_SHAPE = (IMG_SIZE, IMG_SIZE) + (3,)\n",
        "base_model = tf.keras.applications.ConvNeXtLarge(input_shape=IMG_SHAPE,\n",
        "                                               include_top=False,\n",
        "                                               weights='imagenet')\n",
        "image_batch, label_batch = next(iter(train_ds))\n",
        "feature_batch = base_model(image_batch)\n",
        "base_model.trainable = False"
      ],
      "metadata": {
        "colab": {
          "base_uri": "https://localhost:8080/"
        },
        "outputId": "2e97de03-4a37-4e9b-e0c8-791f19469189",
        "id": "gqh01d_eNPHo"
      },
      "execution_count": null,
      "outputs": [
        {
          "output_type": "stream",
          "name": "stdout",
          "text": [
            "Downloading data from https://storage.googleapis.com/tensorflow/keras-applications/convnext/convnext_large_notop.h5\n",
            "785596384/785596384 [==============================] - 38s 0us/step\n"
          ]
        }
      ],
      "id": "gqh01d_eNPHo"
    },
    {
      "cell_type": "code",
      "source": [
        "#Add a classification head\n",
        "global_average_layer = tf.keras.layers.GlobalAveragePooling2D()\n",
        "feature_batch_average = global_average_layer(feature_batch)\n",
        "\n",
        "prediction_layer = tf.keras.layers.Dense(NUM_CLASSES, activation=('softmax'))\n",
        "prediction_batch = prediction_layer(feature_batch_average)\n",
        "\n",
        "inputs = tf.keras.Input(shape=input_shape)\n",
        "x = inputs\n",
        "x = base_model(x, training=False)\n",
        "x = global_average_layer(x)\n",
        "x = tf.keras.layers.Dropout(0.2)(x)\n",
        "outputs = prediction_layer(x)\n",
        "model = tf.keras.Model(inputs, outputs)"
      ],
      "metadata": {
        "id": "fN5GjUP9NPHp"
      },
      "execution_count": null,
      "outputs": [],
      "id": "fN5GjUP9NPHp"
    },
    {
      "cell_type": "code",
      "source": [
        "optimizer = tfa.optimizers.AdamW(learning_rate=learning_rate, weight_decay=weight_decay)\n",
        "\n",
        "model.compile(\n",
        "    loss=keras.losses.CategoricalCrossentropy(label_smoothing=label_smoothing),\n",
        "    optimizer=tfa.optimizers.AdamW(\n",
        "        learning_rate=learning_rate, weight_decay=weight_decay\n",
        "    ),\n",
        "    metrics=[\n",
        "        keras.metrics.CategoricalAccuracy(name=\"accuracy\"),\n",
        "        tf.keras.metrics.Precision(),\n",
        "        tf.keras.metrics.Recall(),\n",
        "        tfa.metrics.F1Score(num_classes=NUM_CLASSES, average='macro', threshold=0.5),\n",
        "    ],\n",
        ")"
      ],
      "metadata": {
        "id": "ln42w9yBNPHp"
      },
      "execution_count": null,
      "outputs": [],
      "id": "ln42w9yBNPHp"
    },
    {
      "cell_type": "code",
      "source": [
        "history = model.fit(train_ds, validation_data=val_ds, epochs=NUM_EPOCHS)"
      ],
      "metadata": {
        "colab": {
          "base_uri": "https://localhost:8080/"
        },
        "id": "vOOsk7mbNPHp",
        "outputId": "a878ebf7-34c8-4167-c213-edbf4c377f24"
      },
      "execution_count": null,
      "outputs": [
        {
          "output_type": "stream",
          "name": "stdout",
          "text": [
            "Epoch 1/30\n",
            "179/179 [==============================] - 60s 232ms/step - loss: 0.7394 - accuracy: 0.8057 - precision_3: 0.8735 - recall_3: 0.7194 - f1_score: 0.7742 - val_loss: 0.6303 - val_accuracy: 0.8612 - val_precision_3: 0.8982 - val_recall_3: 0.7941 - val_f1_score: 0.8262\n",
            "Epoch 2/30\n",
            "179/179 [==============================] - 27s 152ms/step - loss: 0.5708 - accuracy: 0.9046 - precision_3: 0.9277 - recall_3: 0.8666 - f1_score: 0.8897 - val_loss: 0.5901 - val_accuracy: 0.8749 - val_precision_3: 0.9086 - val_recall_3: 0.8268 - val_f1_score: 0.8490\n",
            "Epoch 3/30\n",
            "179/179 [==============================] - 27s 151ms/step - loss: 0.5372 - accuracy: 0.9174 - precision_3: 0.9404 - recall_3: 0.8873 - f1_score: 0.9082 - val_loss: 0.5464 - val_accuracy: 0.9008 - val_precision_3: 0.9219 - val_recall_3: 0.8734 - val_f1_score: 0.8883\n",
            "Epoch 4/30\n",
            "179/179 [==============================] - 27s 152ms/step - loss: 0.5184 - accuracy: 0.9345 - precision_3: 0.9494 - recall_3: 0.9060 - f1_score: 0.9230 - val_loss: 0.5422 - val_accuracy: 0.9062 - val_precision_3: 0.9254 - val_recall_3: 0.8703 - val_f1_score: 0.8866\n",
            "Epoch 5/30\n",
            "179/179 [==============================] - 27s 151ms/step - loss: 0.5039 - accuracy: 0.9380 - precision_3: 0.9536 - recall_3: 0.9167 - f1_score: 0.9310 - val_loss: 0.5387 - val_accuracy: 0.9069 - val_precision_3: 0.9275 - val_recall_3: 0.8780 - val_f1_score: 0.8929\n",
            "Epoch 6/30\n",
            "179/179 [==============================] - 27s 152ms/step - loss: 0.5002 - accuracy: 0.9393 - precision_3: 0.9523 - recall_3: 0.9189 - f1_score: 0.9317 - val_loss: 0.5363 - val_accuracy: 0.9069 - val_precision_3: 0.9325 - val_recall_3: 0.8749 - val_f1_score: 0.8906\n",
            "Epoch 7/30\n",
            "179/179 [==============================] - 27s 151ms/step - loss: 0.4929 - accuracy: 0.9445 - precision_3: 0.9593 - recall_3: 0.9212 - f1_score: 0.9363 - val_loss: 0.5392 - val_accuracy: 0.9100 - val_precision_3: 0.9253 - val_recall_3: 0.8970 - val_f1_score: 0.9036\n",
            "Epoch 8/30\n",
            "179/179 [==============================] - 27s 152ms/step - loss: 0.4854 - accuracy: 0.9506 - precision_3: 0.9637 - recall_3: 0.9296 - f1_score: 0.9430 - val_loss: 0.5083 - val_accuracy: 0.9176 - val_precision_3: 0.9448 - val_recall_3: 0.9001 - val_f1_score: 0.9154\n",
            "Epoch 9/30\n",
            "179/179 [==============================] - 27s 152ms/step - loss: 0.4859 - accuracy: 0.9480 - precision_3: 0.9634 - recall_3: 0.9272 - f1_score: 0.9418 - val_loss: 0.5168 - val_accuracy: 0.9245 - val_precision_3: 0.9356 - val_recall_3: 0.8978 - val_f1_score: 0.9097\n",
            "Epoch 10/30\n",
            "179/179 [==============================] - 27s 151ms/step - loss: 0.4828 - accuracy: 0.9484 - precision_3: 0.9636 - recall_3: 0.9324 - f1_score: 0.9446 - val_loss: 0.4997 - val_accuracy: 0.9321 - val_precision_3: 0.9510 - val_recall_3: 0.9031 - val_f1_score: 0.9195\n",
            "Epoch 11/30\n",
            "179/179 [==============================] - 27s 152ms/step - loss: 0.4795 - accuracy: 0.9529 - precision_3: 0.9662 - recall_3: 0.9359 - f1_score: 0.9480 - val_loss: 0.5021 - val_accuracy: 0.9245 - val_precision_3: 0.9451 - val_recall_3: 0.9054 - val_f1_score: 0.9185\n",
            "Epoch 12/30\n",
            "179/179 [==============================] - 27s 150ms/step - loss: 0.4768 - accuracy: 0.9519 - precision_3: 0.9655 - recall_3: 0.9359 - f1_score: 0.9476 - val_loss: 0.4974 - val_accuracy: 0.9314 - val_precision_3: 0.9490 - val_recall_3: 0.9077 - val_f1_score: 0.9216\n",
            "Epoch 13/30\n",
            "179/179 [==============================] - 27s 151ms/step - loss: 0.4791 - accuracy: 0.9529 - precision_3: 0.9664 - recall_3: 0.9363 - f1_score: 0.9480 - val_loss: 0.4997 - val_accuracy: 0.9283 - val_precision_3: 0.9477 - val_recall_3: 0.9123 - val_f1_score: 0.9239\n",
            "Epoch 14/30\n",
            "179/179 [==============================] - 27s 151ms/step - loss: 0.4754 - accuracy: 0.9550 - precision_3: 0.9682 - recall_3: 0.9373 - f1_score: 0.9496 - val_loss: 0.4943 - val_accuracy: 0.9382 - val_precision_3: 0.9459 - val_recall_3: 0.9207 - val_f1_score: 0.9284\n",
            "Epoch 15/30\n",
            "179/179 [==============================] - 27s 150ms/step - loss: 0.4730 - accuracy: 0.9566 - precision_3: 0.9678 - recall_3: 0.9363 - f1_score: 0.9488 - val_loss: 0.5409 - val_accuracy: 0.9237 - val_precision_3: 0.9352 - val_recall_3: 0.9138 - val_f1_score: 0.9168\n",
            "Epoch 16/30\n",
            "179/179 [==============================] - 27s 150ms/step - loss: 0.4743 - accuracy: 0.9555 - precision_3: 0.9688 - recall_3: 0.9389 - f1_score: 0.9510 - val_loss: 0.4876 - val_accuracy: 0.9443 - val_precision_3: 0.9580 - val_recall_3: 0.9230 - val_f1_score: 0.9354\n",
            "Epoch 17/30\n",
            "179/179 [==============================] - 27s 150ms/step - loss: 0.4720 - accuracy: 0.9580 - precision_3: 0.9698 - recall_3: 0.9379 - f1_score: 0.9508 - val_loss: 0.4956 - val_accuracy: 0.9306 - val_precision_3: 0.9494 - val_recall_3: 0.9161 - val_f1_score: 0.9272\n",
            "Epoch 18/30\n",
            "179/179 [==============================] - 27s 150ms/step - loss: 0.4717 - accuracy: 0.9576 - precision_3: 0.9694 - recall_3: 0.9380 - f1_score: 0.9508 - val_loss: 0.4832 - val_accuracy: 0.9443 - val_precision_3: 0.9566 - val_recall_3: 0.9252 - val_f1_score: 0.9356\n",
            "Epoch 19/30\n",
            "179/179 [==============================] - 27s 151ms/step - loss: 0.4697 - accuracy: 0.9590 - precision_3: 0.9720 - recall_3: 0.9436 - f1_score: 0.9552 - val_loss: 0.4845 - val_accuracy: 0.9420 - val_precision_3: 0.9559 - val_recall_3: 0.9252 - val_f1_score: 0.9354\n",
            "Epoch 20/30\n",
            "179/179 [==============================] - 27s 150ms/step - loss: 0.4682 - accuracy: 0.9568 - precision_3: 0.9680 - recall_3: 0.9380 - f1_score: 0.9500 - val_loss: 0.4866 - val_accuracy: 0.9390 - val_precision_3: 0.9507 - val_recall_3: 0.9260 - val_f1_score: 0.9334\n",
            "Epoch 21/30\n",
            "179/179 [==============================] - 27s 151ms/step - loss: 0.4709 - accuracy: 0.9578 - precision_3: 0.9696 - recall_3: 0.9377 - f1_score: 0.9505 - val_loss: 0.4962 - val_accuracy: 0.9298 - val_precision_3: 0.9502 - val_recall_3: 0.9169 - val_f1_score: 0.9275\n",
            "Epoch 22/30\n",
            "179/179 [==============================] - 27s 150ms/step - loss: 0.4752 - accuracy: 0.9515 - precision_3: 0.9648 - recall_3: 0.9357 - f1_score: 0.9470 - val_loss: 0.4886 - val_accuracy: 0.9367 - val_precision_3: 0.9497 - val_recall_3: 0.9214 - val_f1_score: 0.9305\n",
            "Epoch 23/30\n",
            "179/179 [==============================] - 27s 151ms/step - loss: 0.4660 - accuracy: 0.9610 - precision_3: 0.9705 - recall_3: 0.9447 - f1_score: 0.9550 - val_loss: 0.4863 - val_accuracy: 0.9336 - val_precision_3: 0.9509 - val_recall_3: 0.9169 - val_f1_score: 0.9283\n",
            "Epoch 24/30\n",
            "179/179 [==============================] - 27s 150ms/step - loss: 0.4675 - accuracy: 0.9592 - precision_3: 0.9710 - recall_3: 0.9435 - f1_score: 0.9544 - val_loss: 0.4844 - val_accuracy: 0.9443 - val_precision_3: 0.9552 - val_recall_3: 0.9268 - val_f1_score: 0.9358\n",
            "Epoch 25/30\n",
            "179/179 [==============================] - 27s 151ms/step - loss: 0.4675 - accuracy: 0.9594 - precision_3: 0.9731 - recall_3: 0.9428 - f1_score: 0.9550 - val_loss: 0.4941 - val_accuracy: 0.9352 - val_precision_3: 0.9491 - val_recall_3: 0.9100 - val_f1_score: 0.9226\n",
            "Epoch 26/30\n",
            "179/179 [==============================] - 27s 151ms/step - loss: 0.4666 - accuracy: 0.9620 - precision_3: 0.9740 - recall_3: 0.9443 - f1_score: 0.9565 - val_loss: 0.4881 - val_accuracy: 0.9405 - val_precision_3: 0.9497 - val_recall_3: 0.9214 - val_f1_score: 0.9301\n",
            "Epoch 27/30\n",
            "179/179 [==============================] - 27s 150ms/step - loss: 0.4689 - accuracy: 0.9594 - precision_3: 0.9699 - recall_3: 0.9429 - f1_score: 0.9535 - val_loss: 0.4834 - val_accuracy: 0.9390 - val_precision_3: 0.9557 - val_recall_3: 0.9222 - val_f1_score: 0.9336\n",
            "Epoch 28/30\n",
            "179/179 [==============================] - 27s 151ms/step - loss: 0.4673 - accuracy: 0.9582 - precision_3: 0.9705 - recall_3: 0.9429 - f1_score: 0.9541 - val_loss: 0.4786 - val_accuracy: 0.9451 - val_precision_3: 0.9613 - val_recall_3: 0.9275 - val_f1_score: 0.9396\n",
            "Epoch 29/30\n",
            "179/179 [==============================] - 27s 150ms/step - loss: 0.4659 - accuracy: 0.9608 - precision_3: 0.9716 - recall_3: 0.9447 - f1_score: 0.9554 - val_loss: 0.4817 - val_accuracy: 0.9390 - val_precision_3: 0.9574 - val_recall_3: 0.9268 - val_f1_score: 0.9372\n",
            "Epoch 30/30\n",
            "179/179 [==============================] - 27s 151ms/step - loss: 0.4674 - accuracy: 0.9585 - precision_3: 0.9698 - recall_3: 0.9431 - f1_score: 0.9537 - val_loss: 0.4781 - val_accuracy: 0.9451 - val_precision_3: 0.9596 - val_recall_3: 0.9237 - val_f1_score: 0.9361\n"
          ]
        }
      ],
      "id": "vOOsk7mbNPHp"
    },
    {
      "cell_type": "code",
      "source": [
        "plt.plot(history.history[\"loss\"], label=\"train_loss\")\n",
        "plt.plot(history.history[\"val_loss\"], label=\"val_loss\")\n",
        "plt.xlabel(\"Epochs\")\n",
        "plt.ylabel(\"Loss\")\n",
        "plt.title(\"Train and Validation Losses Over Epochs\", fontsize=14)\n",
        "plt.legend()\n",
        "plt.grid()\n",
        "plt.show()"
      ],
      "metadata": {
        "colab": {
          "base_uri": "https://localhost:8080/",
          "height": 473
        },
        "id": "YIRtteOrNPHp",
        "outputId": "589ec6a4-c333-48a4-c82f-30317eafbcb9"
      },
      "execution_count": null,
      "outputs": [
        {
          "output_type": "display_data",
          "data": {
            "text/plain": [
              "<Figure size 640x480 with 1 Axes>"
            ],
            "image/png": "[encoded data removed]"
          },
          "metadata": {}
        }
      ],
      "id": "YIRtteOrNPHp"
    },
    {
      "cell_type": "markdown",
      "source": [
        "\n",
        "\n",
        "---\n",
        "\n"
      ],
      "metadata": {
        "id": "iuHrkllWNZ7d"
      },
      "id": "iuHrkllWNZ7d"
    },
    {
      "cell_type": "markdown",
      "source": [
        "# ConvNeXtBase\n",
        "\n",
        "\n",
        "\n"
      ],
      "metadata": {
        "id": "FgdPvI34NZ7d"
      },
      "id": "FgdPvI34NZ7d"
    },
    {
      "cell_type": "code",
      "source": [
        "# Create the base model from the pre-trained model\n",
        "IMG_SHAPE = (IMG_SIZE, IMG_SIZE) + (3,)\n",
        "base_model = tf.keras.applications.ConvNeXtBase(input_shape=IMG_SHAPE,\n",
        "                                               include_top=False,\n",
        "                                               weights='imagenet')\n",
        "image_batch, label_batch = next(iter(train_ds))\n",
        "feature_batch = base_model(image_batch)\n",
        "base_model.trainable = False"
      ],
      "metadata": {
        "colab": {
          "base_uri": "https://localhost:8080/"
        },
        "id": "PPVDK0h7NZ7d",
        "outputId": "56116f51-56e2-47c0-e7f9-ffb2c586d983"
      },
      "execution_count": null,
      "outputs": [
        {
          "output_type": "stream",
          "name": "stdout",
          "text": [
            "Downloading data from https://storage.googleapis.com/tensorflow/keras-applications/convnext/convnext_base_notop.h5\n",
            "350926856/350926856 [==============================] - 18s 0us/step\n"
          ]
        }
      ],
      "id": "PPVDK0h7NZ7d"
    },
    {
      "cell_type": "code",
      "source": [
        "#Add a classification head\n",
        "global_average_layer = tf.keras.layers.GlobalAveragePooling2D()\n",
        "feature_batch_average = global_average_layer(feature_batch)\n",
        "\n",
        "prediction_layer = tf.keras.layers.Dense(NUM_CLASSES, activation=('softmax'))\n",
        "prediction_batch = prediction_layer(feature_batch_average)\n",
        "\n",
        "inputs = tf.keras.Input(shape=input_shape)\n",
        "x = inputs\n",
        "x = base_model(x, training=False)\n",
        "x = global_average_layer(x)\n",
        "x = tf.keras.layers.Dropout(0.2)(x)\n",
        "outputs = prediction_layer(x)\n",
        "model = tf.keras.Model(inputs, outputs)"
      ],
      "metadata": {
        "id": "X5C0dgjPNZ7e"
      },
      "execution_count": null,
      "outputs": [],
      "id": "X5C0dgjPNZ7e"
    },
    {
      "cell_type": "code",
      "source": [
        "optimizer = tfa.optimizers.AdamW(learning_rate=learning_rate, weight_decay=weight_decay)\n",
        "\n",
        "model.compile(\n",
        "    loss=keras.losses.CategoricalCrossentropy(label_smoothing=label_smoothing),\n",
        "    optimizer=tfa.optimizers.AdamW(\n",
        "        learning_rate=learning_rate, weight_decay=weight_decay\n",
        "    ),\n",
        "    metrics=[\n",
        "        keras.metrics.CategoricalAccuracy(name=\"accuracy\"),\n",
        "        tf.keras.metrics.Precision(),\n",
        "        tf.keras.metrics.Recall(),\n",
        "        tfa.metrics.F1Score(num_classes=NUM_CLASSES, average='macro', threshold=0.5),\n",
        "    ],\n",
        ")"
      ],
      "metadata": {
        "id": "NGVrqmyuNZ7e"
      },
      "execution_count": null,
      "outputs": [],
      "id": "NGVrqmyuNZ7e"
    },
    {
      "cell_type": "code",
      "source": [
        "history = model.fit(train_ds, validation_data=val_ds, epochs=NUM_EPOCHS)"
      ],
      "metadata": {
        "colab": {
          "base_uri": "https://localhost:8080/"
        },
        "id": "LfC0ql_KNZ7e",
        "outputId": "a492d370-7927-4e1d-9055-b5d4686a986c"
      },
      "execution_count": null,
      "outputs": [
        {
          "output_type": "stream",
          "name": "stdout",
          "text": [
            "Epoch 1/30\n",
            "179/179 [==============================] - 51s 186ms/step - loss: 0.7881 - accuracy: 0.7729 - precision_4: 0.8549 - recall_4: 0.6754 - f1_score: 0.7347 - val_loss: 0.6885 - val_accuracy: 0.8337 - val_precision_4: 0.8870 - val_recall_4: 0.7605 - val_f1_score: 0.7914\n",
            "Epoch 2/30\n",
            "179/179 [==============================] - 20s 108ms/step - loss: 0.6193 - accuracy: 0.8727 - precision_4: 0.9160 - recall_4: 0.8206 - f1_score: 0.8557 - val_loss: 0.6416 - val_accuracy: 0.8452 - val_precision_4: 0.8909 - val_recall_4: 0.7910 - val_f1_score: 0.8116\n",
            "Epoch 3/30\n",
            "179/179 [==============================] - 20s 109ms/step - loss: 0.5831 - accuracy: 0.8950 - precision_4: 0.9238 - recall_4: 0.8580 - f1_score: 0.8821 - val_loss: 0.6023 - val_accuracy: 0.8734 - val_precision_4: 0.9050 - val_recall_4: 0.8360 - val_f1_score: 0.8577\n",
            "Epoch 4/30\n",
            "179/179 [==============================] - 20s 108ms/step - loss: 0.5595 - accuracy: 0.9084 - precision_4: 0.9333 - recall_4: 0.8725 - f1_score: 0.8955 - val_loss: 0.5946 - val_accuracy: 0.8734 - val_precision_4: 0.9086 - val_recall_4: 0.8337 - val_f1_score: 0.8574\n",
            "Epoch 5/30\n",
            "179/179 [==============================] - 20s 109ms/step - loss: 0.5518 - accuracy: 0.9125 - precision_4: 0.9355 - recall_4: 0.8731 - f1_score: 0.8966 - val_loss: 0.5737 - val_accuracy: 0.8886 - val_precision_4: 0.9147 - val_recall_4: 0.8429 - val_f1_score: 0.8627\n",
            "Epoch 6/30\n",
            "179/179 [==============================] - 20s 108ms/step - loss: 0.5413 - accuracy: 0.9198 - precision_4: 0.9424 - recall_4: 0.8885 - f1_score: 0.9094 - val_loss: 0.5656 - val_accuracy: 0.8902 - val_precision_4: 0.9156 - val_recall_4: 0.8436 - val_f1_score: 0.8629\n",
            "Epoch 7/30\n",
            "179/179 [==============================] - 20s 108ms/step - loss: 0.5323 - accuracy: 0.9237 - precision_4: 0.9442 - recall_4: 0.8918 - f1_score: 0.9120 - val_loss: 0.5611 - val_accuracy: 0.8940 - val_precision_4: 0.9217 - val_recall_4: 0.8535 - val_f1_score: 0.8726\n",
            "Epoch 8/30\n",
            "179/179 [==============================] - 20s 109ms/step - loss: 0.5289 - accuracy: 0.9242 - precision_4: 0.9449 - recall_4: 0.8913 - f1_score: 0.9119 - val_loss: 0.5522 - val_accuracy: 0.9039 - val_precision_4: 0.9222 - val_recall_4: 0.8764 - val_f1_score: 0.8910\n",
            "Epoch 9/30\n",
            "179/179 [==============================] - 19s 108ms/step - loss: 0.5271 - accuracy: 0.9265 - precision_4: 0.9470 - recall_4: 0.8923 - f1_score: 0.9141 - val_loss: 0.5522 - val_accuracy: 0.8932 - val_precision_4: 0.9290 - val_recall_4: 0.8589 - val_f1_score: 0.8799\n",
            "Epoch 10/30\n",
            "179/179 [==============================] - 20s 109ms/step - loss: 0.5213 - accuracy: 0.9270 - precision_4: 0.9463 - recall_4: 0.8978 - f1_score: 0.9165 - val_loss: 0.5362 - val_accuracy: 0.9077 - val_precision_4: 0.9316 - val_recall_4: 0.8833 - val_f1_score: 0.8991\n",
            "Epoch 11/30\n",
            "179/179 [==============================] - 20s 109ms/step - loss: 0.5181 - accuracy: 0.9312 - precision_4: 0.9518 - recall_4: 0.9020 - f1_score: 0.9216 - val_loss: 0.5430 - val_accuracy: 0.8986 - val_precision_4: 0.9246 - val_recall_4: 0.8703 - val_f1_score: 0.8874\n",
            "Epoch 12/30\n",
            "179/179 [==============================] - 20s 108ms/step - loss: 0.5160 - accuracy: 0.9321 - precision_4: 0.9495 - recall_4: 0.9053 - f1_score: 0.9221 - val_loss: 0.5422 - val_accuracy: 0.8993 - val_precision_4: 0.9302 - val_recall_4: 0.8642 - val_f1_score: 0.8840\n",
            "Epoch 13/30\n",
            "179/179 [==============================] - 20s 109ms/step - loss: 0.5137 - accuracy: 0.9321 - precision_4: 0.9505 - recall_4: 0.9042 - f1_score: 0.9221 - val_loss: 0.5411 - val_accuracy: 0.9054 - val_precision_4: 0.9259 - val_recall_4: 0.8772 - val_f1_score: 0.8926\n",
            "Epoch 14/30\n",
            "179/179 [==============================] - 19s 108ms/step - loss: 0.5140 - accuracy: 0.9321 - precision_4: 0.9486 - recall_4: 0.9051 - f1_score: 0.9217 - val_loss: 0.5441 - val_accuracy: 0.9031 - val_precision_4: 0.9214 - val_recall_4: 0.8764 - val_f1_score: 0.8904\n",
            "Epoch 15/30\n",
            "179/179 [==============================] - 20s 109ms/step - loss: 0.5097 - accuracy: 0.9357 - precision_4: 0.9535 - recall_4: 0.9109 - f1_score: 0.9275 - val_loss: 0.5399 - val_accuracy: 0.8993 - val_precision_4: 0.9299 - val_recall_4: 0.8696 - val_f1_score: 0.8891\n",
            "Epoch 16/30\n",
            "179/179 [==============================] - 19s 108ms/step - loss: 0.5097 - accuracy: 0.9356 - precision_4: 0.9531 - recall_4: 0.9081 - f1_score: 0.9256 - val_loss: 0.5295 - val_accuracy: 0.9130 - val_precision_4: 0.9352 - val_recall_4: 0.8917 - val_f1_score: 0.9064\n",
            "Epoch 17/30\n",
            "179/179 [==============================] - 19s 108ms/step - loss: 0.5103 - accuracy: 0.9347 - precision_4: 0.9530 - recall_4: 0.9083 - f1_score: 0.9260 - val_loss: 0.5337 - val_accuracy: 0.9001 - val_precision_4: 0.9294 - val_recall_4: 0.8734 - val_f1_score: 0.8913\n",
            "Epoch 18/30\n",
            "179/179 [==============================] - 20s 109ms/step - loss: 0.5119 - accuracy: 0.9366 - precision_4: 0.9552 - recall_4: 0.9107 - f1_score: 0.9281 - val_loss: 0.5560 - val_accuracy: 0.8902 - val_precision_4: 0.9189 - val_recall_4: 0.8551 - val_f1_score: 0.8692\n",
            "Epoch 19/30\n",
            "179/179 [==============================] - 20s 108ms/step - loss: 0.5062 - accuracy: 0.9363 - precision_4: 0.9545 - recall_4: 0.9135 - f1_score: 0.9292 - val_loss: 0.5351 - val_accuracy: 0.9001 - val_precision_4: 0.9289 - val_recall_4: 0.8772 - val_f1_score: 0.8940\n",
            "Epoch 20/30\n",
            "179/179 [==============================] - 20s 109ms/step - loss: 0.5073 - accuracy: 0.9370 - precision_4: 0.9537 - recall_4: 0.9126 - f1_score: 0.9283 - val_loss: 0.5310 - val_accuracy: 0.9054 - val_precision_4: 0.9293 - val_recall_4: 0.8818 - val_f1_score: 0.8969\n",
            "Epoch 21/30\n",
            "179/179 [==============================] - 20s 109ms/step - loss: 0.5084 - accuracy: 0.9387 - precision_4: 0.9542 - recall_4: 0.9114 - f1_score: 0.9279 - val_loss: 0.5313 - val_accuracy: 0.9191 - val_precision_4: 0.9325 - val_recall_4: 0.8963 - val_f1_score: 0.9078\n",
            "Epoch 22/30\n",
            "179/179 [==============================] - 19s 108ms/step - loss: 0.5062 - accuracy: 0.9377 - precision_4: 0.9550 - recall_4: 0.9109 - f1_score: 0.9283 - val_loss: 0.5249 - val_accuracy: 0.9138 - val_precision_4: 0.9327 - val_recall_4: 0.8879 - val_f1_score: 0.9023\n",
            "Epoch 23/30\n",
            "179/179 [==============================] - 20s 109ms/step - loss: 0.5037 - accuracy: 0.9373 - precision_4: 0.9542 - recall_4: 0.9128 - f1_score: 0.9290 - val_loss: 0.5329 - val_accuracy: 0.9008 - val_precision_4: 0.9335 - val_recall_4: 0.8780 - val_f1_score: 0.8958\n",
            "Epoch 24/30\n",
            "179/179 [==============================] - 20s 108ms/step - loss: 0.5063 - accuracy: 0.9357 - precision_4: 0.9532 - recall_4: 0.9102 - f1_score: 0.9269 - val_loss: 0.5197 - val_accuracy: 0.9138 - val_precision_4: 0.9367 - val_recall_4: 0.8917 - val_f1_score: 0.9062\n",
            "Epoch 25/30\n",
            "179/179 [==============================] - 20s 108ms/step - loss: 0.5043 - accuracy: 0.9403 - precision_4: 0.9571 - recall_4: 0.9135 - f1_score: 0.9308 - val_loss: 0.5238 - val_accuracy: 0.9153 - val_precision_4: 0.9305 - val_recall_4: 0.8886 - val_f1_score: 0.9017\n",
            "Epoch 26/30\n",
            "179/179 [==============================] - 20s 109ms/step - loss: 0.4998 - accuracy: 0.9443 - precision_4: 0.9590 - recall_4: 0.9174 - f1_score: 0.9341 - val_loss: 0.5271 - val_accuracy: 0.9054 - val_precision_4: 0.9373 - val_recall_4: 0.8787 - val_f1_score: 0.8984\n",
            "Epoch 27/30\n",
            "179/179 [==============================] - 20s 109ms/step - loss: 0.5037 - accuracy: 0.9403 - precision_4: 0.9564 - recall_4: 0.9149 - f1_score: 0.9311 - val_loss: 0.5213 - val_accuracy: 0.9153 - val_precision_4: 0.9372 - val_recall_4: 0.8886 - val_f1_score: 0.9045\n",
            "Epoch 28/30\n",
            "179/179 [==============================] - 20s 109ms/step - loss: 0.5094 - accuracy: 0.9380 - precision_4: 0.9542 - recall_4: 0.9147 - f1_score: 0.9301 - val_loss: 0.5380 - val_accuracy: 0.9001 - val_precision_4: 0.9287 - val_recall_4: 0.8650 - val_f1_score: 0.8843\n",
            "Epoch 29/30\n",
            "179/179 [==============================] - 19s 108ms/step - loss: 0.5037 - accuracy: 0.9394 - precision_4: 0.9556 - recall_4: 0.9125 - f1_score: 0.9296 - val_loss: 0.5297 - val_accuracy: 0.9054 - val_precision_4: 0.9312 - val_recall_4: 0.8772 - val_f1_score: 0.8940\n",
            "Epoch 30/30\n",
            "179/179 [==============================] - 20s 109ms/step - loss: 0.5026 - accuracy: 0.9396 - precision_4: 0.9583 - recall_4: 0.9144 - f1_score: 0.9316 - val_loss: 0.5300 - val_accuracy: 0.9123 - val_precision_4: 0.9255 - val_recall_4: 0.8902 - val_f1_score: 0.8998\n"
          ]
        }
      ],
      "id": "LfC0ql_KNZ7e"
    },
    {
      "cell_type": "code",
      "source": [
        "plt.plot(history.history[\"loss\"], label=\"train_loss\")\n",
        "plt.plot(history.history[\"val_loss\"], label=\"val_loss\")\n",
        "plt.xlabel(\"Epochs\")\n",
        "plt.ylabel(\"Loss\")\n",
        "plt.title(\"Train and Validation Losses Over Epochs\", fontsize=14)\n",
        "plt.legend()\n",
        "plt.grid()\n",
        "plt.show()"
      ],
      "metadata": {
        "colab": {
          "base_uri": "https://localhost:8080/",
          "height": 473
        },
        "id": "WBROd5MyNZ7e",
        "outputId": "718095c4-8b8c-4cfb-e438-ba678431ad89"
      },
      "execution_count": null,
      "outputs": [
        {
          "output_type": "display_data",
          "data": {
            "text/plain": [
              "<Figure size 640x480 with 1 Axes>"
            ],
            "image/png": "[encoded data removed]"
          },
          "metadata": {}
        }
      ],
      "id": "WBROd5MyNZ7e"
    },
    {
      "cell_type": "markdown",
      "source": [
        "\n",
        "\n",
        "---\n",
        "\n",
        "# ⏰ Flush memory varibales before using the next transfomer"
      ],
      "metadata": {
        "id": "bmLNEnJ-Rhtl"
      },
      "id": "bmLNEnJ-Rhtl"
    },
    {
      "cell_type": "code",
      "source": [
        "del history\n",
        "del model\n",
        "del base_model\n",
        "del optimizer"
      ],
      "metadata": {
        "id": "RNE46kyuRhtm"
      },
      "execution_count": null,
      "outputs": [],
      "id": "RNE46kyuRhtm"
    }
  ],
  "metadata": {
    "kernelspec": {
      "display_name": "Python 3",
      "name": "python3"
    },
    "language_info": {
      "codemirror_mode": {
        "name": "ipython",
        "version": 3
      },
      "file_extension": ".py",
      "mimetype": "text/x-python",
      "name": "python",
      "nbconvert_exporter": "python",
      "pygments_lexer": "ipython3",
      "version": "3.10.9"
    },
    "colab": {
      "provenance": [],
      "machine_shape": "hm",
      "gpuType": "A100",
      "toc_visible": true,
      "include_colab_link": true
    },
    "accelerator": "GPU"
  },
  "nbformat": 4,
  "nbformat_minor": 5
}