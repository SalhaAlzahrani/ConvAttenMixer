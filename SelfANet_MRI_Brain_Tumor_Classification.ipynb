{
  "cells": [
    {
      "cell_type": "markdown",
      "metadata": {
        "id": "view-in-github",
        "colab_type": "text"
      },
      "source": [
        "<a href=\"https://colab.research.google.com/github/SalhaAlzahrani/ConvAttenMixer/blob/main/SelfANet_MRI_Brain_Tumor_Classification.ipynb\" target=\"_parent\"><img src=\"https://colab.research.google.com/assets/colab-badge.svg\" alt=\"Open In Colab\"/></a>"
      ]
    },
    {
      "cell_type": "markdown",
      "id": "ee8751e2",
      "metadata": {
        "id": "ee8751e2"
      },
      "source": [
        "# Image classification with Self-Attention Transformer\n",
        "\n",
        "# MRI Brain Tumor Classification"
      ]
    },
    {
      "cell_type": "markdown",
      "id": "d352abf3",
      "metadata": {
        "id": "d352abf3"
      },
      "source": [
        "# Requirmenets"
      ]
    },
    {
      "cell_type": "code",
      "source": [
        "!pip install -U tensorflow-addons\n",
        "!pip install --upgrade accelerate"
      ],
      "metadata": {
        "colab": {
          "base_uri": "https://localhost:8080/"
        },
        "id": "bWmlzDBbXp9D",
        "outputId": "067cdef4-0c49-42c1-80c9-c5aa59d3d132"
      },
      "id": "bWmlzDBbXp9D",
      "execution_count": null,
      "outputs": [
        {
          "output_type": "stream",
          "name": "stdout",
          "text": [
            "Collecting tensorflow-addons\n",
            "  Downloading tensorflow_addons-0.21.0-cp310-cp310-manylinux_2_17_x86_64.manylinux2014_x86_64.whl (612 kB)\n",
            "\u001b[?25l     \u001b[90m━━━━━━━━━━━━━━━━━━━━━━━━━━━━━━━━━━━━━━━━\u001b[0m \u001b[32m0.0/612.1 kB\u001b[0m \u001b[31m?\u001b[0m eta \u001b[36m-:--:--\u001b[0m\r\u001b[2K     \u001b[91m━━━━━\u001b[0m\u001b[90m╺\u001b[0m\u001b[90m━━━━━━━━━━━━━━━━━━━━━━━━━━━━━━━━━━\u001b[0m \u001b[32m81.9/612.1 kB\u001b[0m \u001b[31m2.4 MB/s\u001b[0m eta \u001b[36m0:00:01\u001b[0m\r\u001b[2K     \u001b[90m━━━━━━━━━━━━━━━━━━━━━━━━━━━━━━━━━━━━━━\u001b[0m \u001b[32m612.1/612.1 kB\u001b[0m \u001b[31m10.1 MB/s\u001b[0m eta \u001b[36m0:00:00\u001b[0m\n",
            "\u001b[?25hRequirement already satisfied: packaging in /usr/local/lib/python3.10/dist-packages (from tensorflow-addons) (23.1)\n",
            "Collecting typeguard<3.0.0,>=2.7 (from tensorflow-addons)\n",
            "  Downloading typeguard-2.13.3-py3-none-any.whl (17 kB)\n",
            "Installing collected packages: typeguard, tensorflow-addons\n",
            "Successfully installed tensorflow-addons-0.21.0 typeguard-2.13.3\n",
            "Collecting accelerate\n",
            "  Downloading accelerate-0.21.0-py3-none-any.whl (244 kB)\n",
            "\u001b[2K     \u001b[90m━━━━━━━━━━━━━━━━━━━━━━━━━━━━━━━━━━━━━━━\u001b[0m \u001b[32m244.2/244.2 kB\u001b[0m \u001b[31m4.2 MB/s\u001b[0m eta \u001b[36m0:00:00\u001b[0m\n",
            "\u001b[?25hRequirement already satisfied: numpy>=1.17 in /usr/local/lib/python3.10/dist-packages (from accelerate) (1.23.5)\n",
            "Requirement already satisfied: packaging>=20.0 in /usr/local/lib/python3.10/dist-packages (from accelerate) (23.1)\n",
            "Requirement already satisfied: psutil in /usr/local/lib/python3.10/dist-packages (from accelerate) (5.9.5)\n",
            "Requirement already satisfied: pyyaml in /usr/local/lib/python3.10/dist-packages (from accelerate) (6.0.1)\n",
            "Requirement already satisfied: torch>=1.10.0 in /usr/local/lib/python3.10/dist-packages (from accelerate) (2.0.1+cu118)\n",
            "Requirement already satisfied: filelock in /usr/local/lib/python3.10/dist-packages (from torch>=1.10.0->accelerate) (3.12.2)\n",
            "Requirement already satisfied: typing-extensions in /usr/local/lib/python3.10/dist-packages (from torch>=1.10.0->accelerate) (4.7.1)\n",
            "Requirement already satisfied: sympy in /usr/local/lib/python3.10/dist-packages (from torch>=1.10.0->accelerate) (1.12)\n",
            "Requirement already satisfied: networkx in /usr/local/lib/python3.10/dist-packages (from torch>=1.10.0->accelerate) (3.1)\n",
            "Requirement already satisfied: jinja2 in /usr/local/lib/python3.10/dist-packages (from torch>=1.10.0->accelerate) (3.1.2)\n",
            "Requirement already satisfied: triton==2.0.0 in /usr/local/lib/python3.10/dist-packages (from torch>=1.10.0->accelerate) (2.0.0)\n",
            "Requirement already satisfied: cmake in /usr/local/lib/python3.10/dist-packages (from triton==2.0.0->torch>=1.10.0->accelerate) (3.27.1)\n",
            "Requirement already satisfied: lit in /usr/local/lib/python3.10/dist-packages (from triton==2.0.0->torch>=1.10.0->accelerate) (16.0.6)\n",
            "Requirement already satisfied: MarkupSafe>=2.0 in /usr/local/lib/python3.10/dist-packages (from jinja2->torch>=1.10.0->accelerate) (2.1.3)\n",
            "Requirement already satisfied: mpmath>=0.19 in /usr/local/lib/python3.10/dist-packages (from sympy->torch>=1.10.0->accelerate) (1.3.0)\n",
            "Installing collected packages: accelerate\n",
            "Successfully installed accelerate-0.21.0\n"
          ]
        }
      ]
    },
    {
      "cell_type": "code",
      "execution_count": null,
      "id": "fe992f1f",
      "metadata": {
        "id": "fe992f1f",
        "colab": {
          "base_uri": "https://localhost:8080/"
        },
        "outputId": "fd0710af-e1fb-4ee0-9844-aaed509da6fe"
      },
      "outputs": [
        {
          "output_type": "stream",
          "name": "stderr",
          "text": [
            "/usr/local/lib/python3.10/dist-packages/tensorflow_addons/utils/tfa_eol_msg.py:23: UserWarning: \n",
            "\n",
            "TensorFlow Addons (TFA) has ended development and introduction of new features.\n",
            "TFA has entered a minimal maintenance and release mode until a planned end of life in May 2024.\n",
            "Please modify downstream libraries to take dependencies from other repositories in our TensorFlow community (e.g. Keras, Keras-CV, and Keras-NLP). \n",
            "\n",
            "For more information see: https://github.com/tensorflow/addons/issues/2807 \n",
            "\n",
            "  warnings.warn(\n"
          ]
        }
      ],
      "source": [
        "import numpy as np\n",
        "import tensorflow as tf\n",
        "from tensorflow import keras\n",
        "from tensorflow.keras import layers\n",
        "import tensorflow_addons as tfa\n",
        "import matplotlib.pyplot as plt\n",
        "from tensorflow.keras.preprocessing import image_dataset_from_directory\n",
        "from google.colab import drive"
      ]
    },
    {
      "cell_type": "markdown",
      "id": "2aeaa699",
      "metadata": {
        "id": "2aeaa699"
      },
      "source": [
        "# Prepare the data"
      ]
    },
    {
      "cell_type": "code",
      "execution_count": null,
      "id": "6a9db35d",
      "metadata": {
        "colab": {
          "base_uri": "https://localhost:8080/"
        },
        "id": "6a9db35d",
        "outputId": "f7ed962a-ea45-4bb0-a1ea-cef9d6721c8d"
      },
      "outputs": [
        {
          "output_type": "stream",
          "name": "stdout",
          "text": [
            "Mounted at /content/drive\n",
            "Found 5712 files belonging to 4 classes.\n",
            "Found 1311 files belonging to 4 classes.\n"
          ]
        }
      ],
      "source": [
        "drive.mount('/content/drive', force_remount=True)\n",
        "\n",
        "num_classes = 4\n",
        "input_shape = (160, 160, 3)\n",
        "# train data\n",
        "train_ds = image_dataset_from_directory(\n",
        "    directory='/content/drive/MyDrive/Brain Tumor MRI/data/Training/',\n",
        "    labels='inferred',\n",
        "    label_mode='categorical',\n",
        "    #batch_size=32,\n",
        "    image_size=(160, 160),\n",
        "    #validation_split=0.1,\n",
        "    #subset=\"training\",\n",
        "    seed=1024\n",
        ")\n",
        "\n",
        "# test data\n",
        "val_ds = image_dataset_from_directory(\n",
        "    directory='/content/drive/MyDrive/Brain Tumor MRI/data/Testing/',\n",
        "    labels='inferred',\n",
        "    label_mode='categorical',\n",
        "    #batch_size=32,\n",
        "    image_size=(160, 160),\n",
        "    #validation_split=0.1,\n",
        "    #subset=\"validation\",\n",
        "    seed=1024\n",
        ")\n"
      ]
    },
    {
      "cell_type": "code",
      "source": [
        "#Configure the dataset for performance\n",
        "AUTOTUNE = tf.data.AUTOTUNE\n",
        "\n",
        "train_ds = train_ds.prefetch(buffer_size=AUTOTUNE)\n",
        "val_ds = val_ds.prefetch(buffer_size=AUTOTUNE)"
      ],
      "metadata": {
        "id": "CBdPtsqZ0aJz"
      },
      "id": "CBdPtsqZ0aJz",
      "execution_count": null,
      "outputs": []
    },
    {
      "cell_type": "markdown",
      "id": "4529fdb5",
      "metadata": {
        "id": "4529fdb5"
      },
      "source": [
        "# Configure the hyperparameters\n"
      ]
    },
    {
      "cell_type": "code",
      "execution_count": null,
      "id": "25590f21",
      "metadata": {
        "colab": {
          "base_uri": "https://localhost:8080/"
        },
        "id": "25590f21",
        "outputId": "410e84c0-db49-485f-b477-af867ade1749"
      },
      "outputs": [
        {
          "output_type": "stream",
          "name": "stdout",
          "text": [
            "Patch size: 4 X 4 = 16 \n",
            "Patches per image: 1600\n"
          ]
        }
      ],
      "source": [
        "weight_decay = 0.0001\n",
        "learning_rate = 0.001\n",
        "label_smoothing = 0.1\n",
        "validation_split = 0.2\n",
        "batch_size = 16\n",
        "num_epochs = 30\n",
        "patch_size = 4  # Size of the patches to be extracted from the input images.\n",
        "num_patches = (input_shape[0] // patch_size) ** 2  # Number of patch\n",
        "embedding_dim = 64  # Number of hidden units.\n",
        "mlp_dim = 64\n",
        "dim_coefficient = 4\n",
        "num_heads = 2\n",
        "attention_dropout = 0.2\n",
        "projection_dropout = 0.2\n",
        "num_transformer_blocks = 8  # Number of repetitions of the transformer layer\n",
        "\n",
        "print(f\"Patch size: {patch_size} X {patch_size} = {patch_size ** 2} \")\n",
        "print(f\"Patches per image: {num_patches}\")\n"
      ]
    },
    {
      "cell_type": "markdown",
      "id": "a8ee03e3",
      "metadata": {
        "id": "a8ee03e3"
      },
      "source": [
        "# Implement the patch extraction and encoding layer\n"
      ]
    },
    {
      "cell_type": "code",
      "execution_count": null,
      "id": "f7f1fabb",
      "metadata": {
        "id": "f7f1fabb"
      },
      "outputs": [],
      "source": [
        "class PatchExtract(layers.Layer):\n",
        "    def __init__(self, patch_size, **kwargs):\n",
        "        super().__init__(**kwargs)\n",
        "        self.patch_size = patch_size\n",
        "\n",
        "    def call(self, images):\n",
        "        batch_size = tf.shape(images)[0]\n",
        "        patches = tf.image.extract_patches(\n",
        "            images=images,\n",
        "            sizes=(1, self.patch_size, self.patch_size, 1),\n",
        "            strides=(1, self.patch_size, self.patch_size, 1),\n",
        "            rates=(1, 1, 1, 1),\n",
        "            padding=\"VALID\",\n",
        "        )\n",
        "        patch_dim = patches.shape[-1]\n",
        "        patch_num = patches.shape[1]\n",
        "        return tf.reshape(patches, (batch_size, patch_num * patch_num, patch_dim))\n",
        "\n",
        "\n",
        "class PatchEmbedding(layers.Layer):\n",
        "    def __init__(self, num_patch, embed_dim, **kwargs):\n",
        "        super().__init__(**kwargs)\n",
        "        self.num_patch = num_patch\n",
        "        self.proj = layers.Dense(embed_dim)\n",
        "        self.pos_embed = layers.Embedding(input_dim=num_patch, output_dim=embed_dim)\n",
        "\n",
        "    def call(self, patch):\n",
        "        pos = tf.range(start=0, limit=self.num_patch, delta=1)\n",
        "        return self.proj(patch) + self.pos_embed(pos)\n"
      ]
    },
    {
      "cell_type": "markdown",
      "id": "866a8253",
      "metadata": {
        "id": "866a8253"
      },
      "source": [
        "# Implement the MLP block\n"
      ]
    },
    {
      "cell_type": "code",
      "execution_count": null,
      "id": "1bb8b591",
      "metadata": {
        "id": "1bb8b591"
      },
      "outputs": [],
      "source": [
        "def mlp(x, embedding_dim, mlp_dim, drop_rate=0.2):\n",
        "    x = layers.Dense(mlp_dim, activation=tf.nn.gelu)(x)\n",
        "    x = layers.Dropout(drop_rate)(x)\n",
        "    x = layers.Dense(embedding_dim)(x)\n",
        "    x = layers.Dropout(drop_rate)(x)\n",
        "    return x\n"
      ]
    },
    {
      "cell_type": "markdown",
      "id": "ad6dea21",
      "metadata": {
        "id": "ad6dea21"
      },
      "source": [
        "# Implement the Transformer block\n"
      ]
    },
    {
      "cell_type": "code",
      "execution_count": null,
      "id": "928e66a6",
      "metadata": {
        "id": "928e66a6"
      },
      "outputs": [],
      "source": [
        "def transformer_encoder(\n",
        "    x,\n",
        "    embedding_dim,\n",
        "    mlp_dim,\n",
        "    num_heads,\n",
        "    dim_coefficient,\n",
        "    attention_dropout,\n",
        "    projection_dropout,\n",
        "    attention_type=\"self_attention\",\n",
        "):\n",
        "    residual_1 = x\n",
        "    x = layers.LayerNormalization(epsilon=1e-5)(x)\n",
        "    if attention_type == \"self_attention\":\n",
        "        x = layers.MultiHeadAttention(\n",
        "            num_heads=num_heads, key_dim=embedding_dim, dropout=attention_dropout\n",
        "        )(x, x)\n",
        "    x = layers.add([x, residual_1])\n",
        "    residual_2 = x\n",
        "    x = layers.LayerNormalization(epsilon=1e-5)(x)\n",
        "    x = mlp(x, embedding_dim, mlp_dim)\n",
        "    x = layers.add([x, residual_2])\n",
        "    return x\n"
      ]
    },
    {
      "cell_type": "markdown",
      "id": "7d916a2c",
      "metadata": {
        "id": "7d916a2c"
      },
      "source": [
        "# Implement the Self-Attention Net model\n"
      ]
    },
    {
      "cell_type": "code",
      "execution_count": null,
      "id": "ccaea1d9",
      "metadata": {
        "id": "ccaea1d9"
      },
      "outputs": [],
      "source": [
        "def get_model(attention_type=\"self_attention\"):\n",
        "    inputs = layers.Input(shape=input_shape)\n",
        "    # Image augment\n",
        "    #x = data_augmentation(inputs)\n",
        "    x = inputs\n",
        "    # Extract patches.\n",
        "    x = PatchExtract(patch_size)(x)\n",
        "    # Create patch embedding.\n",
        "    x = PatchEmbedding(num_patches, embedding_dim)(x)\n",
        "    # Create Transformer block.\n",
        "    for _ in range(num_transformer_blocks):\n",
        "        x = transformer_encoder(\n",
        "            x,\n",
        "            embedding_dim,\n",
        "            mlp_dim,\n",
        "            num_heads,\n",
        "            dim_coefficient,\n",
        "            attention_dropout,\n",
        "            projection_dropout,\n",
        "            attention_type,\n",
        "        )\n",
        "\n",
        "    x = layers.GlobalAvgPool1D()(x)\n",
        "    outputs = layers.Dense(num_classes, activation=\"softmax\")(x)\n",
        "    model = keras.Model(inputs=inputs, outputs=outputs)\n",
        "    return model"
      ]
    },
    {
      "cell_type": "markdown",
      "id": "309f45ba",
      "metadata": {
        "id": "309f45ba"
      },
      "source": [
        "# Train on MRI Dataset\n"
      ]
    },
    {
      "cell_type": "code",
      "execution_count": null,
      "id": "403e4b80",
      "metadata": {
        "id": "403e4b80"
      },
      "outputs": [],
      "source": [
        "model = get_model(attention_type=\"self_attention\")\n",
        "\n",
        "model.compile(\n",
        "    loss=keras.losses.CategoricalCrossentropy(label_smoothing=label_smoothing),\n",
        "    optimizer=tfa.optimizers.AdamW(\n",
        "        learning_rate=learning_rate, weight_decay=weight_decay\n",
        "    ),\n",
        "    metrics=[\n",
        "        keras.metrics.CategoricalAccuracy(name=\"accuracy\"),\n",
        "        tf.keras.metrics.Precision(),\n",
        "        tf.keras.metrics.Recall(),\n",
        "        tfa.metrics.F1Score(num_classes=4, average='macro', threshold=0.5),\n",
        "    ],\n",
        ")"
      ]
    },
    {
      "cell_type": "code",
      "source": [
        "model.summary()"
      ],
      "metadata": {
        "colab": {
          "base_uri": "https://localhost:8080/"
        },
        "id": "tI8U2b6iFaY0",
        "outputId": "7d470ef6-8646-4f40-d67e-3cfd0b4779af"
      },
      "id": "tI8U2b6iFaY0",
      "execution_count": null,
      "outputs": [
        {
          "output_type": "stream",
          "name": "stdout",
          "text": [
            "Model: \"model\"\n",
            "__________________________________________________________________________________________________\n",
            " Layer (type)                   Output Shape         Param #     Connected to                     \n",
            "==================================================================================================\n",
            " input_1 (InputLayer)           [(None, 160, 160, 3  0           []                               \n",
            "                                )]                                                                \n",
            "                                                                                                  \n",
            " patch_extract (PatchExtract)   (None, 1600, 48)     0           ['input_1[0][0]']                \n",
            "                                                                                                  \n",
            " patch_embedding (PatchEmbeddin  (None, 1600, 64)    105536      ['patch_extract[0][0]']          \n",
            " g)                                                                                               \n",
            "                                                                                                  \n",
            " layer_normalization (LayerNorm  (None, 1600, 64)    128         ['patch_embedding[0][0]']        \n",
            " alization)                                                                                       \n",
            "                                                                                                  \n",
            " multi_head_attention (MultiHea  (None, 1600, 64)    33216       ['layer_normalization[0][0]',    \n",
            " dAttention)                                                      'layer_normalization[0][0]']    \n",
            "                                                                                                  \n",
            " add (Add)                      (None, 1600, 64)     0           ['multi_head_attention[0][0]',   \n",
            "                                                                  'patch_embedding[0][0]']        \n",
            "                                                                                                  \n",
            " layer_normalization_1 (LayerNo  (None, 1600, 64)    128         ['add[0][0]']                    \n",
            " rmalization)                                                                                     \n",
            "                                                                                                  \n",
            " dense_1 (Dense)                (None, 1600, 64)     4160        ['layer_normalization_1[0][0]']  \n",
            "                                                                                                  \n",
            " dropout (Dropout)              (None, 1600, 64)     0           ['dense_1[0][0]']                \n",
            "                                                                                                  \n",
            " dense_2 (Dense)                (None, 1600, 64)     4160        ['dropout[0][0]']                \n",
            "                                                                                                  \n",
            " dropout_1 (Dropout)            (None, 1600, 64)     0           ['dense_2[0][0]']                \n",
            "                                                                                                  \n",
            " add_1 (Add)                    (None, 1600, 64)     0           ['dropout_1[0][0]',              \n",
            "                                                                  'add[0][0]']                    \n",
            "                                                                                                  \n",
            " layer_normalization_2 (LayerNo  (None, 1600, 64)    128         ['add_1[0][0]']                  \n",
            " rmalization)                                                                                     \n",
            "                                                                                                  \n",
            " multi_head_attention_1 (MultiH  (None, 1600, 64)    33216       ['layer_normalization_2[0][0]',  \n",
            " eadAttention)                                                    'layer_normalization_2[0][0]']  \n",
            "                                                                                                  \n",
            " add_2 (Add)                    (None, 1600, 64)     0           ['multi_head_attention_1[0][0]', \n",
            "                                                                  'add_1[0][0]']                  \n",
            "                                                                                                  \n",
            " layer_normalization_3 (LayerNo  (None, 1600, 64)    128         ['add_2[0][0]']                  \n",
            " rmalization)                                                                                     \n",
            "                                                                                                  \n",
            " dense_3 (Dense)                (None, 1600, 64)     4160        ['layer_normalization_3[0][0]']  \n",
            "                                                                                                  \n",
            " dropout_2 (Dropout)            (None, 1600, 64)     0           ['dense_3[0][0]']                \n",
            "                                                                                                  \n",
            " dense_4 (Dense)                (None, 1600, 64)     4160        ['dropout_2[0][0]']              \n",
            "                                                                                                  \n",
            " dropout_3 (Dropout)            (None, 1600, 64)     0           ['dense_4[0][0]']                \n",
            "                                                                                                  \n",
            " add_3 (Add)                    (None, 1600, 64)     0           ['dropout_3[0][0]',              \n",
            "                                                                  'add_2[0][0]']                  \n",
            "                                                                                                  \n",
            " layer_normalization_4 (LayerNo  (None, 1600, 64)    128         ['add_3[0][0]']                  \n",
            " rmalization)                                                                                     \n",
            "                                                                                                  \n",
            " multi_head_attention_2 (MultiH  (None, 1600, 64)    33216       ['layer_normalization_4[0][0]',  \n",
            " eadAttention)                                                    'layer_normalization_4[0][0]']  \n",
            "                                                                                                  \n",
            " add_4 (Add)                    (None, 1600, 64)     0           ['multi_head_attention_2[0][0]', \n",
            "                                                                  'add_3[0][0]']                  \n",
            "                                                                                                  \n",
            " layer_normalization_5 (LayerNo  (None, 1600, 64)    128         ['add_4[0][0]']                  \n",
            " rmalization)                                                                                     \n",
            "                                                                                                  \n",
            " dense_5 (Dense)                (None, 1600, 64)     4160        ['layer_normalization_5[0][0]']  \n",
            "                                                                                                  \n",
            " dropout_4 (Dropout)            (None, 1600, 64)     0           ['dense_5[0][0]']                \n",
            "                                                                                                  \n",
            " dense_6 (Dense)                (None, 1600, 64)     4160        ['dropout_4[0][0]']              \n",
            "                                                                                                  \n",
            " dropout_5 (Dropout)            (None, 1600, 64)     0           ['dense_6[0][0]']                \n",
            "                                                                                                  \n",
            " add_5 (Add)                    (None, 1600, 64)     0           ['dropout_5[0][0]',              \n",
            "                                                                  'add_4[0][0]']                  \n",
            "                                                                                                  \n",
            " layer_normalization_6 (LayerNo  (None, 1600, 64)    128         ['add_5[0][0]']                  \n",
            " rmalization)                                                                                     \n",
            "                                                                                                  \n",
            " multi_head_attention_3 (MultiH  (None, 1600, 64)    33216       ['layer_normalization_6[0][0]',  \n",
            " eadAttention)                                                    'layer_normalization_6[0][0]']  \n",
            "                                                                                                  \n",
            " add_6 (Add)                    (None, 1600, 64)     0           ['multi_head_attention_3[0][0]', \n",
            "                                                                  'add_5[0][0]']                  \n",
            "                                                                                                  \n",
            " layer_normalization_7 (LayerNo  (None, 1600, 64)    128         ['add_6[0][0]']                  \n",
            " rmalization)                                                                                     \n",
            "                                                                                                  \n",
            " dense_7 (Dense)                (None, 1600, 64)     4160        ['layer_normalization_7[0][0]']  \n",
            "                                                                                                  \n",
            " dropout_6 (Dropout)            (None, 1600, 64)     0           ['dense_7[0][0]']                \n",
            "                                                                                                  \n",
            " dense_8 (Dense)                (None, 1600, 64)     4160        ['dropout_6[0][0]']              \n",
            "                                                                                                  \n",
            " dropout_7 (Dropout)            (None, 1600, 64)     0           ['dense_8[0][0]']                \n",
            "                                                                                                  \n",
            " add_7 (Add)                    (None, 1600, 64)     0           ['dropout_7[0][0]',              \n",
            "                                                                  'add_6[0][0]']                  \n",
            "                                                                                                  \n",
            " layer_normalization_8 (LayerNo  (None, 1600, 64)    128         ['add_7[0][0]']                  \n",
            " rmalization)                                                                                     \n",
            "                                                                                                  \n",
            " multi_head_attention_4 (MultiH  (None, 1600, 64)    33216       ['layer_normalization_8[0][0]',  \n",
            " eadAttention)                                                    'layer_normalization_8[0][0]']  \n",
            "                                                                                                  \n",
            " add_8 (Add)                    (None, 1600, 64)     0           ['multi_head_attention_4[0][0]', \n",
            "                                                                  'add_7[0][0]']                  \n",
            "                                                                                                  \n",
            " layer_normalization_9 (LayerNo  (None, 1600, 64)    128         ['add_8[0][0]']                  \n",
            " rmalization)                                                                                     \n",
            "                                                                                                  \n",
            " dense_9 (Dense)                (None, 1600, 64)     4160        ['layer_normalization_9[0][0]']  \n",
            "                                                                                                  \n",
            " dropout_8 (Dropout)            (None, 1600, 64)     0           ['dense_9[0][0]']                \n",
            "                                                                                                  \n",
            " dense_10 (Dense)               (None, 1600, 64)     4160        ['dropout_8[0][0]']              \n",
            "                                                                                                  \n",
            " dropout_9 (Dropout)            (None, 1600, 64)     0           ['dense_10[0][0]']               \n",
            "                                                                                                  \n",
            " add_9 (Add)                    (None, 1600, 64)     0           ['dropout_9[0][0]',              \n",
            "                                                                  'add_8[0][0]']                  \n",
            "                                                                                                  \n",
            " layer_normalization_10 (LayerN  (None, 1600, 64)    128         ['add_9[0][0]']                  \n",
            " ormalization)                                                                                    \n",
            "                                                                                                  \n",
            " multi_head_attention_5 (MultiH  (None, 1600, 64)    33216       ['layer_normalization_10[0][0]', \n",
            " eadAttention)                                                    'layer_normalization_10[0][0]'] \n",
            "                                                                                                  \n",
            " add_10 (Add)                   (None, 1600, 64)     0           ['multi_head_attention_5[0][0]', \n",
            "                                                                  'add_9[0][0]']                  \n",
            "                                                                                                  \n",
            " layer_normalization_11 (LayerN  (None, 1600, 64)    128         ['add_10[0][0]']                 \n",
            " ormalization)                                                                                    \n",
            "                                                                                                  \n",
            " dense_11 (Dense)               (None, 1600, 64)     4160        ['layer_normalization_11[0][0]'] \n",
            "                                                                                                  \n",
            " dropout_10 (Dropout)           (None, 1600, 64)     0           ['dense_11[0][0]']               \n",
            "                                                                                                  \n",
            " dense_12 (Dense)               (None, 1600, 64)     4160        ['dropout_10[0][0]']             \n",
            "                                                                                                  \n",
            " dropout_11 (Dropout)           (None, 1600, 64)     0           ['dense_12[0][0]']               \n",
            "                                                                                                  \n",
            " add_11 (Add)                   (None, 1600, 64)     0           ['dropout_11[0][0]',             \n",
            "                                                                  'add_10[0][0]']                 \n",
            "                                                                                                  \n",
            " layer_normalization_12 (LayerN  (None, 1600, 64)    128         ['add_11[0][0]']                 \n",
            " ormalization)                                                                                    \n",
            "                                                                                                  \n",
            " multi_head_attention_6 (MultiH  (None, 1600, 64)    33216       ['layer_normalization_12[0][0]', \n",
            " eadAttention)                                                    'layer_normalization_12[0][0]'] \n",
            "                                                                                                  \n",
            " add_12 (Add)                   (None, 1600, 64)     0           ['multi_head_attention_6[0][0]', \n",
            "                                                                  'add_11[0][0]']                 \n",
            "                                                                                                  \n",
            " layer_normalization_13 (LayerN  (None, 1600, 64)    128         ['add_12[0][0]']                 \n",
            " ormalization)                                                                                    \n",
            "                                                                                                  \n",
            " dense_13 (Dense)               (None, 1600, 64)     4160        ['layer_normalization_13[0][0]'] \n",
            "                                                                                                  \n",
            " dropout_12 (Dropout)           (None, 1600, 64)     0           ['dense_13[0][0]']               \n",
            "                                                                                                  \n",
            " dense_14 (Dense)               (None, 1600, 64)     4160        ['dropout_12[0][0]']             \n",
            "                                                                                                  \n",
            " dropout_13 (Dropout)           (None, 1600, 64)     0           ['dense_14[0][0]']               \n",
            "                                                                                                  \n",
            " add_13 (Add)                   (None, 1600, 64)     0           ['dropout_13[0][0]',             \n",
            "                                                                  'add_12[0][0]']                 \n",
            "                                                                                                  \n",
            " layer_normalization_14 (LayerN  (None, 1600, 64)    128         ['add_13[0][0]']                 \n",
            " ormalization)                                                                                    \n",
            "                                                                                                  \n",
            " multi_head_attention_7 (MultiH  (None, 1600, 64)    33216       ['layer_normalization_14[0][0]', \n",
            " eadAttention)                                                    'layer_normalization_14[0][0]'] \n",
            "                                                                                                  \n",
            " add_14 (Add)                   (None, 1600, 64)     0           ['multi_head_attention_7[0][0]', \n",
            "                                                                  'add_13[0][0]']                 \n",
            "                                                                                                  \n",
            " layer_normalization_15 (LayerN  (None, 1600, 64)    128         ['add_14[0][0]']                 \n",
            " ormalization)                                                                                    \n",
            "                                                                                                  \n",
            " dense_15 (Dense)               (None, 1600, 64)     4160        ['layer_normalization_15[0][0]'] \n",
            "                                                                                                  \n",
            " dropout_14 (Dropout)           (None, 1600, 64)     0           ['dense_15[0][0]']               \n",
            "                                                                                                  \n",
            " dense_16 (Dense)               (None, 1600, 64)     4160        ['dropout_14[0][0]']             \n",
            "                                                                                                  \n",
            " dropout_15 (Dropout)           (None, 1600, 64)     0           ['dense_16[0][0]']               \n",
            "                                                                                                  \n",
            " add_15 (Add)                   (None, 1600, 64)     0           ['dropout_15[0][0]',             \n",
            "                                                                  'add_14[0][0]']                 \n",
            "                                                                                                  \n",
            " global_average_pooling1d (Glob  (None, 64)          0           ['add_15[0][0]']                 \n",
            " alAveragePooling1D)                                                                              \n",
            "                                                                                                  \n",
            " dense_17 (Dense)               (None, 4)            260         ['global_average_pooling1d[0][0]'\n",
            "                                                                 ]                                \n",
            "                                                                                                  \n",
            "==================================================================================================\n",
            "Total params: 440,132\n",
            "Trainable params: 440,132\n",
            "Non-trainable params: 0\n",
            "__________________________________________________________________________________________________\n"
          ]
        }
      ]
    },
    {
      "cell_type": "code",
      "source": [
        "history = model.fit(\n",
        "    train_ds,\n",
        "    validation_data=val_ds,\n",
        "    batch_size=batch_size,\n",
        "    epochs=num_epochs,\n",
        ")"
      ],
      "metadata": {
        "colab": {
          "base_uri": "https://localhost:8080/"
        },
        "id": "AUP9hhbjtoJ5",
        "outputId": "ad790274-548d-43e6-db54-155978211016"
      },
      "id": "AUP9hhbjtoJ5",
      "execution_count": null,
      "outputs": [
        {
          "output_type": "stream",
          "name": "stdout",
          "text": [
            "Epoch 1/30\n",
            "179/179 [==============================] - 351s 2s/step - loss: 3.2628 - accuracy: 0.6017 - precision: 0.6243 - recall: 0.5600 - f1_score: 0.5873 - val_loss: 1.9449 - val_accuracy: 0.6415 - val_precision: 0.6592 - val_recall: 0.6079 - val_f1_score: 0.5521\n",
            "Epoch 2/30\n",
            "179/179 [==============================] - 34s 187ms/step - loss: 1.1497 - accuracy: 0.7482 - precision: 0.7693 - recall: 0.7251 - f1_score: 0.7430 - val_loss: 1.0158 - val_accuracy: 0.7818 - val_precision: 0.7911 - val_recall: 0.7742 - val_f1_score: 0.7606\n",
            "Epoch 3/30\n",
            "179/179 [==============================] - 34s 187ms/step - loss: 1.0367 - accuracy: 0.7815 - precision: 0.8012 - recall: 0.7612 - f1_score: 0.7758 - val_loss: 1.0111 - val_accuracy: 0.7620 - val_precision: 0.7861 - val_recall: 0.7346 - val_f1_score: 0.7309\n",
            "Epoch 4/30\n",
            "179/179 [==============================] - 34s 187ms/step - loss: 0.8595 - accuracy: 0.8157 - precision: 0.8354 - recall: 0.7924 - f1_score: 0.8080 - val_loss: 0.8805 - val_accuracy: 0.7864 - val_precision: 0.8050 - val_recall: 0.7651 - val_f1_score: 0.7697\n",
            "Epoch 5/30\n",
            "179/179 [==============================] - 34s 187ms/step - loss: 0.9627 - accuracy: 0.8083 - precision: 0.8250 - recall: 0.7841 - f1_score: 0.7992 - val_loss: 1.8601 - val_accuracy: 0.7483 - val_precision: 0.7767 - val_recall: 0.7216 - val_f1_score: 0.7144\n",
            "Epoch 6/30\n",
            "179/179 [==============================] - 34s 187ms/step - loss: 0.8444 - accuracy: 0.8269 - precision: 0.8453 - recall: 0.8071 - f1_score: 0.8213 - val_loss: 1.0908 - val_accuracy: 0.7948 - val_precision: 0.8156 - val_recall: 0.7826 - val_f1_score: 0.7667\n",
            "Epoch 7/30\n",
            "179/179 [==============================] - 34s 187ms/step - loss: 0.7929 - accuracy: 0.8414 - precision: 0.8581 - recall: 0.8223 - f1_score: 0.8343 - val_loss: 0.8109 - val_accuracy: 0.7971 - val_precision: 0.8080 - val_recall: 0.7834 - val_f1_score: 0.7863\n",
            "Epoch 8/30\n",
            "179/179 [==============================] - 34s 187ms/step - loss: 0.8018 - accuracy: 0.8391 - precision: 0.8572 - recall: 0.8186 - f1_score: 0.8332 - val_loss: 0.7414 - val_accuracy: 0.8246 - val_precision: 0.8414 - val_recall: 0.8055 - val_f1_score: 0.8043\n",
            "Epoch 9/30\n",
            "179/179 [==============================] - 34s 187ms/step - loss: 0.7866 - accuracy: 0.8487 - precision: 0.8682 - recall: 0.8244 - f1_score: 0.8414 - val_loss: 0.9916 - val_accuracy: 0.8070 - val_precision: 0.8262 - val_recall: 0.7941 - val_f1_score: 0.7813\n",
            "Epoch 10/30\n",
            "179/179 [==============================] - 34s 187ms/step - loss: 0.7322 - accuracy: 0.8589 - precision: 0.8760 - recall: 0.8370 - f1_score: 0.8526 - val_loss: 1.4100 - val_accuracy: 0.7811 - val_precision: 0.8096 - val_recall: 0.7559 - val_f1_score: 0.7016\n",
            "Epoch 11/30\n",
            "179/179 [==============================] - 34s 186ms/step - loss: 0.9029 - accuracy: 0.8248 - precision: 0.8429 - recall: 0.8069 - f1_score: 0.8203 - val_loss: 1.3151 - val_accuracy: 0.8070 - val_precision: 0.8190 - val_recall: 0.7872 - val_f1_score: 0.7796\n",
            "Epoch 12/30\n",
            "179/179 [==============================] - 34s 186ms/step - loss: 0.6919 - accuracy: 0.8715 - precision: 0.8881 - recall: 0.8491 - f1_score: 0.8638 - val_loss: 0.8928 - val_accuracy: 0.8215 - val_precision: 0.8327 - val_recall: 0.8124 - val_f1_score: 0.8067\n",
            "Epoch 13/30\n",
            "179/179 [==============================] - 34s 187ms/step - loss: 0.6628 - accuracy: 0.8769 - precision: 0.8954 - recall: 0.8571 - f1_score: 0.8718 - val_loss: 0.7855 - val_accuracy: 0.8154 - val_precision: 0.8238 - val_recall: 0.7986 - val_f1_score: 0.8054\n",
            "Epoch 14/30\n",
            "179/179 [==============================] - 34s 186ms/step - loss: 0.6415 - accuracy: 0.8922 - precision: 0.9056 - recall: 0.8699 - f1_score: 0.8842 - val_loss: 0.7285 - val_accuracy: 0.8452 - val_precision: 0.8541 - val_recall: 0.8352 - val_f1_score: 0.8388\n",
            "Epoch 15/30\n",
            "179/179 [==============================] - 34s 187ms/step - loss: 0.6249 - accuracy: 0.8890 - precision: 0.9058 - recall: 0.8657 - f1_score: 0.8819 - val_loss: 0.7387 - val_accuracy: 0.8146 - val_precision: 0.8269 - val_recall: 0.8017 - val_f1_score: 0.8114\n",
            "Epoch 16/30\n",
            "179/179 [==============================] - 34s 187ms/step - loss: 0.5888 - accuracy: 0.9011 - precision: 0.9151 - recall: 0.8845 - f1_score: 0.8962 - val_loss: 0.9595 - val_accuracy: 0.8215 - val_precision: 0.8343 - val_recall: 0.7948 - val_f1_score: 0.7829\n",
            "Epoch 17/30\n",
            "179/179 [==============================] - 34s 186ms/step - loss: 0.6074 - accuracy: 0.8997 - precision: 0.9132 - recall: 0.8824 - f1_score: 0.8935 - val_loss: 0.6769 - val_accuracy: 0.8558 - val_precision: 0.8632 - val_recall: 0.8474 - val_f1_score: 0.8474\n",
            "Epoch 18/30\n",
            "179/179 [==============================] - 34s 186ms/step - loss: 0.6552 - accuracy: 0.8904 - precision: 0.9058 - recall: 0.8736 - f1_score: 0.8859 - val_loss: 0.6619 - val_accuracy: 0.8467 - val_precision: 0.8564 - val_recall: 0.8322 - val_f1_score: 0.8309\n",
            "Epoch 19/30\n",
            "179/179 [==============================] - 34s 187ms/step - loss: 0.6016 - accuracy: 0.9034 - precision: 0.9167 - recall: 0.8818 - f1_score: 0.8958 - val_loss: 0.6275 - val_accuracy: 0.8604 - val_precision: 0.8709 - val_recall: 0.8490 - val_f1_score: 0.8468\n",
            "Epoch 20/30\n",
            "179/179 [==============================] - 34s 186ms/step - loss: 0.5740 - accuracy: 0.9107 - precision: 0.9232 - recall: 0.8950 - f1_score: 0.9055 - val_loss: 0.7563 - val_accuracy: 0.8429 - val_precision: 0.8588 - val_recall: 0.8261 - val_f1_score: 0.8241\n",
            "Epoch 21/30\n",
            "179/179 [==============================] - 34s 186ms/step - loss: 0.5419 - accuracy: 0.9223 - precision: 0.9330 - recall: 0.9065 - f1_score: 0.9166 - val_loss: 0.6293 - val_accuracy: 0.8574 - val_precision: 0.8743 - val_recall: 0.8436 - val_f1_score: 0.8464\n",
            "Epoch 22/30\n",
            "179/179 [==============================] - 34s 186ms/step - loss: 0.5516 - accuracy: 0.9184 - precision: 0.9290 - recall: 0.9030 - f1_score: 0.9126 - val_loss: 0.6692 - val_accuracy: 0.8627 - val_precision: 0.8713 - val_recall: 0.8520 - val_f1_score: 0.8590\n",
            "Epoch 23/30\n",
            "179/179 [==============================] - 34s 186ms/step - loss: 0.5395 - accuracy: 0.9179 - precision: 0.9295 - recall: 0.9049 - f1_score: 0.9139 - val_loss: 0.5960 - val_accuracy: 0.8703 - val_precision: 0.8790 - val_recall: 0.8589 - val_f1_score: 0.8612\n",
            "Epoch 24/30\n",
            "179/179 [==============================] - 34s 187ms/step - loss: 0.5736 - accuracy: 0.9116 - precision: 0.9232 - recall: 0.8943 - f1_score: 0.9061 - val_loss: 0.7306 - val_accuracy: 0.8291 - val_precision: 0.8513 - val_recall: 0.8078 - val_f1_score: 0.7980\n",
            "Epoch 25/30\n",
            "179/179 [==============================] - 34s 186ms/step - loss: 0.5289 - accuracy: 0.9256 - precision: 0.9365 - recall: 0.9109 - f1_score: 0.9206 - val_loss: 0.6701 - val_accuracy: 0.8574 - val_precision: 0.8686 - val_recall: 0.8421 - val_f1_score: 0.8400\n",
            "Epoch 26/30\n",
            "179/179 [==============================] - 34s 187ms/step - loss: 0.5472 - accuracy: 0.9186 - precision: 0.9275 - recall: 0.9020 - f1_score: 0.9116 - val_loss: 0.6141 - val_accuracy: 0.8696 - val_precision: 0.8863 - val_recall: 0.8444 - val_f1_score: 0.8558\n",
            "Epoch 27/30\n",
            "179/179 [==============================] - 34s 187ms/step - loss: 0.5301 - accuracy: 0.9238 - precision: 0.9320 - recall: 0.9112 - f1_score: 0.9188 - val_loss: 0.6410 - val_accuracy: 0.8635 - val_precision: 0.8727 - val_recall: 0.8474 - val_f1_score: 0.8574\n",
            "Epoch 28/30\n",
            "179/179 [==============================] - 34s 187ms/step - loss: 0.5067 - accuracy: 0.9279 - precision: 0.9391 - recall: 0.9175 - f1_score: 0.9255 - val_loss: 0.6181 - val_accuracy: 0.8741 - val_precision: 0.8789 - val_recall: 0.8688 - val_f1_score: 0.8665\n",
            "Epoch 29/30\n",
            "179/179 [==============================] - 34s 187ms/step - loss: 0.4956 - accuracy: 0.9347 - precision: 0.9440 - recall: 0.9237 - f1_score: 0.9312 - val_loss: 0.6635 - val_accuracy: 0.8513 - val_precision: 0.8609 - val_recall: 0.8406 - val_f1_score: 0.8351\n",
            "Epoch 30/30\n",
            "179/179 [==============================] - 34s 187ms/step - loss: 0.4910 - accuracy: 0.9364 - precision: 0.9438 - recall: 0.9266 - f1_score: 0.9326 - val_loss: 0.6202 - val_accuracy: 0.8711 - val_precision: 0.8802 - val_recall: 0.8627 - val_f1_score: 0.8637\n"
          ]
        }
      ]
    },
    {
      "cell_type": "markdown",
      "id": "3fd391b0",
      "metadata": {
        "id": "3fd391b0"
      },
      "source": [
        "# Let's visualize the training progress of the model.\n"
      ]
    },
    {
      "cell_type": "code",
      "execution_count": null,
      "id": "cfb4e9a5",
      "metadata": {
        "colab": {
          "base_uri": "https://localhost:8080/",
          "height": 473
        },
        "id": "cfb4e9a5",
        "outputId": "7721154b-b6fe-40c7-9aee-e3c0125811ac"
      },
      "outputs": [
        {
          "output_type": "display_data",
          "data": {
            "text/plain": [
              "<Figure size 640x480 with 1 Axes>"
            ],
            "image/png": "[encoded data removed]"
          },
          "metadata": {}
        }
      ],
      "source": [
        "plt.plot(history.history[\"loss\"], label=\"train_loss\")\n",
        "plt.plot(history.history[\"val_loss\"], label=\"val_loss\")\n",
        "plt.xlabel(\"Epochs\")\n",
        "plt.ylabel(\"Loss\")\n",
        "plt.title(\"Train and Validation Losses Over Epochs\", fontsize=14)\n",
        "plt.legend()\n",
        "plt.grid()\n",
        "plt.show()\n"
      ]
    }
  ],
  "metadata": {
    "kernelspec": {
      "display_name": "Python 3",
      "name": "python3"
    },
    "language_info": {
      "codemirror_mode": {
        "name": "ipython",
        "version": 3
      },
      "file_extension": ".py",
      "mimetype": "text/x-python",
      "name": "python",
      "nbconvert_exporter": "python",
      "pygments_lexer": "ipython3",
      "version": "3.10.9"
    },
    "colab": {
      "provenance": [],
      "machine_shape": "hm",
      "gpuType": "A100",
      "include_colab_link": true
    },
    "accelerator": "GPU"
  },
  "nbformat": 4,
  "nbformat_minor": 5
}