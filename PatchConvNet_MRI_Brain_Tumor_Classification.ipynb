{
  "cells": [
    {
      "cell_type": "markdown",
      "metadata": {
        "id": "view-in-github",
        "colab_type": "text"
      },
      "source": [
        "<a href=\"https://colab.research.google.com/github/SalhaAlzahrani/ConvAttenMixer/blob/main/PatchConvNet_MRI_Brain_Tumor_Classification.ipynb\" target=\"_parent\"><img src=\"https://colab.research.google.com/assets/colab-badge.svg\" alt=\"Open In Colab\"/></a>"
      ]
    },
    {
      "cell_type": "markdown",
      "id": "ee8751e2",
      "metadata": {
        "id": "ee8751e2"
      },
      "source": [
        "# Image classification with PatchConvNet (Augmenting convnets with aggregated attention)\n",
        "\n",
        "# MRI Brain Tumor Classification"
      ]
    },
    {
      "cell_type": "markdown",
      "id": "d352abf3",
      "metadata": {
        "id": "d352abf3"
      },
      "source": [
        "# Requirmenets"
      ]
    },
    {
      "cell_type": "code",
      "execution_count": null,
      "id": "bWmlzDBbXp9D",
      "metadata": {
        "colab": {
          "base_uri": "https://localhost:8080/"
        },
        "id": "bWmlzDBbXp9D",
        "outputId": "51a9a580-9c8e-459c-cac0-de2d6f69cac0"
      },
      "outputs": [
        {
          "output_type": "stream",
          "name": "stdout",
          "text": [
            "Collecting tensorflow-addons\n",
            "  Downloading tensorflow_addons-0.21.0-cp310-cp310-manylinux_2_17_x86_64.manylinux2014_x86_64.whl (612 kB)\n",
            "\u001b[?25l     \u001b[90m━━━━━━━━━━━━━━━━━━━━━━━━━━━━━━━━━━━━━━━━\u001b[0m \u001b[32m0.0/612.1 kB\u001b[0m \u001b[31m?\u001b[0m eta \u001b[36m-:--:--\u001b[0m\r\u001b[2K     \u001b[91m━━━━\u001b[0m\u001b[90m╺\u001b[0m\u001b[90m━━━━━━━━━━━━━━━━━━━━━━━━━━━━━━━━━━━\u001b[0m \u001b[32m61.4/612.1 kB\u001b[0m \u001b[31m1.8 MB/s\u001b[0m eta \u001b[36m0:00:01\u001b[0m\r\u001b[2K     \u001b[90m━━━━━━━━━━━━━━━━━━━━━━━━━━━━━━━━━━━━━━━\u001b[0m \u001b[32m612.1/612.1 kB\u001b[0m \u001b[31m9.7 MB/s\u001b[0m eta \u001b[36m0:00:00\u001b[0m\n",
            "\u001b[?25hRequirement already satisfied: packaging in /usr/local/lib/python3.10/dist-packages (from tensorflow-addons) (23.1)\n",
            "Collecting typeguard<3.0.0,>=2.7 (from tensorflow-addons)\n",
            "  Downloading typeguard-2.13.3-py3-none-any.whl (17 kB)\n",
            "Installing collected packages: typeguard, tensorflow-addons\n",
            "Successfully installed tensorflow-addons-0.21.0 typeguard-2.13.3\n"
          ]
        }
      ],
      "source": [
        "pip install -U tensorflow-addons"
      ]
    },
    {
      "cell_type": "code",
      "execution_count": null,
      "id": "fe992f1f",
      "metadata": {
        "id": "fe992f1f",
        "colab": {
          "base_uri": "https://localhost:8080/"
        },
        "outputId": "10569c0e-0530-424b-b062-564adf65ee41"
      },
      "outputs": [
        {
          "output_type": "stream",
          "name": "stderr",
          "text": [
            "/usr/local/lib/python3.10/dist-packages/tensorflow_addons/utils/tfa_eol_msg.py:23: UserWarning: \n",
            "\n",
            "TensorFlow Addons (TFA) has ended development and introduction of new features.\n",
            "TFA has entered a minimal maintenance and release mode until a planned end of life in May 2024.\n",
            "Please modify downstream libraries to take dependencies from other repositories in our TensorFlow community (e.g. Keras, Keras-CV, and Keras-NLP). \n",
            "\n",
            "For more information see: https://github.com/tensorflow/addons/issues/2807 \n",
            "\n",
            "  warnings.warn(\n"
          ]
        }
      ],
      "source": [
        "import math\n",
        "import numpy as np\n",
        "import tensorflow as tf\n",
        "from tensorflow import keras\n",
        "from tensorflow.keras import layers\n",
        "import tensorflow_addons as tfa\n",
        "import matplotlib.pyplot as plt\n",
        "from tensorflow.keras.preprocessing import image_dataset_from_directory\n",
        "\n",
        "# Set seed for reproducibiltiy\n",
        "SEED = 42\n",
        "keras.utils.set_random_seed(SEED)"
      ]
    },
    {
      "cell_type": "markdown",
      "id": "b04c53b5",
      "metadata": {
        "id": "b04c53b5"
      },
      "source": [
        "# Hyperparameters"
      ]
    },
    {
      "cell_type": "code",
      "execution_count": null,
      "id": "b6a59c3e",
      "metadata": {
        "id": "b6a59c3e"
      },
      "outputs": [],
      "source": [
        "# DATA\n",
        "BATCH_SIZE = 128\n",
        "BUFFER_SIZE = BATCH_SIZE * 2\n",
        "AUTO = tf.data.AUTOTUNE\n",
        "INPUT_SHAPE = (224, 224, 3)\n",
        "NUM_CLASSES = 4  # for Brain Tumer\n",
        "\n",
        "# AUGMENTATION\n",
        "IMAGE_SIZE = 224  # We will resize input images to this size.\n",
        "\n",
        "# ARCHITECTURE\n",
        "DIMENSIONS = 256\n",
        "SE_RATIO = 8\n",
        "TRUNK_DEPTH = 2\n",
        "\n",
        "# OPTIMIZER\n",
        "LEARNING_RATE = 1e-3\n",
        "WEIGHT_DECAY = 1e-4\n",
        "\n",
        "# PRETRAINING\n",
        "EPOCHS = 30\n"
      ]
    },
    {
      "cell_type": "markdown",
      "id": "2aeaa699",
      "metadata": {
        "id": "2aeaa699"
      },
      "source": [
        "# Load the dataset (MRI Brain Tumor Images)"
      ]
    },
    {
      "cell_type": "code",
      "execution_count": null,
      "id": "6a9db35d",
      "metadata": {
        "colab": {
          "base_uri": "https://localhost:8080/"
        },
        "id": "6a9db35d",
        "outputId": "294d7b2c-fd97-473a-a4d0-e79c4ae067d3"
      },
      "outputs": [
        {
          "output_type": "stream",
          "name": "stdout",
          "text": [
            "Mounted at /content/drive\n",
            "Found 5712 files belonging to 4 classes.\n",
            "Found 1311 files belonging to 4 classes.\n"
          ]
        }
      ],
      "source": [
        "from google.colab import drive\n",
        "drive.mount('/content/drive', force_remount=True)\n",
        "\n",
        "# train data\n",
        "train_ds = image_dataset_from_directory(\n",
        "    directory='/content/drive/MyDrive/Brain Tumor MRI/data/Training/',\n",
        "    #directory='Brain Tumor MRI/data/Training/',\n",
        "    labels='inferred',\n",
        "    label_mode='int',\n",
        "    batch_size=32,\n",
        "    image_size=(224, 224),\n",
        "    #validation_split=0.1,\n",
        "    #subset=\"training\",\n",
        "    seed=1024\n",
        ")\n",
        "\n",
        "# validation data\n",
        "val_ds = image_dataset_from_directory(\n",
        "    directory='/content/drive/MyDrive/Brain Tumor MRI/data/Testing/',\n",
        "    #directory='Brain Tumor MRI/data/Testing/',\n",
        "    labels='inferred',\n",
        "    label_mode='int',\n",
        "    batch_size=32,\n",
        "    image_size=(224, 224),\n",
        "    #validation_split=0.1,\n",
        "    #subset=\"validation\",\n",
        "    seed=1024\n",
        ")\n"
      ]
    },
    {
      "cell_type": "markdown",
      "id": "dac3b4f8",
      "metadata": {
        "id": "dac3b4f8"
      },
      "source": [
        "# Augmentation layers"
      ]
    },
    {
      "cell_type": "code",
      "execution_count": null,
      "id": "4254ecc2",
      "metadata": {
        "id": "4254ecc2"
      },
      "outputs": [],
      "source": [
        "def get_preprocessing():\n",
        "    model = keras.Sequential(\n",
        "        [layers.Rescaling(1 / 255.0), layers.Resizing(IMAGE_SIZE, IMAGE_SIZE),],\n",
        "        name=\"preprocessing\",\n",
        "    )\n",
        "    return model\n",
        "\n",
        "def get_train_augmentation_model():\n",
        "    model = keras.Sequential(\n",
        "        [\n",
        "            layers.Rescaling(1 / 255.0),\n",
        "            layers.Resizing(INPUT_SHAPE[0] + 20, INPUT_SHAPE[0] + 20),\n",
        "            layers.RandomCrop(IMAGE_SIZE, IMAGE_SIZE),\n",
        "            layers.RandomFlip(\"horizontal\"),\n",
        "        ],\n",
        "        name=\"train_data_augmentation\",\n",
        "    )\n",
        "    return model\n"
      ]
    },
    {
      "cell_type": "markdown",
      "id": "a8ee03e3",
      "metadata": {
        "id": "a8ee03e3"
      },
      "source": [
        "# Convolutional stem\n",
        "The stem of the model is a lightweight preprocessing module that maps images pixels to a set of vectors (patches)."
      ]
    },
    {
      "cell_type": "code",
      "execution_count": null,
      "id": "f7f1fabb",
      "metadata": {
        "id": "f7f1fabb"
      },
      "outputs": [],
      "source": [
        "def build_convolutional_stem(dimensions):\n",
        "    \"\"\"Build the convolutional stem.\n",
        "    Args:\n",
        "        dimensions: The embedding dimension of the patches (d in paper).\n",
        "\n",
        "    Returs:\n",
        "        The convolutional stem as a keras seqeuntial model.\n",
        "    \"\"\"\n",
        "    config = {\n",
        "        \"kernel_size\": (3, 3),\n",
        "        \"strides\": (2, 2),\n",
        "        \"activation\": tf.nn.gelu,\n",
        "        \"padding\": \"same\",\n",
        "    }\n",
        "\n",
        "    convolutional_stem = keras.Sequential(\n",
        "        [\n",
        "            layers.Conv2D(filters=dimensions // 2, **config),\n",
        "            layers.Conv2D(filters=dimensions, **config),\n",
        "        ],\n",
        "        name=\"convolutional_stem\",\n",
        "    )\n",
        "\n",
        "    return convolutional_stem"
      ]
    },
    {
      "cell_type": "markdown",
      "id": "a93748a8",
      "metadata": {
        "id": "a93748a8"
      },
      "source": [
        "# Convolutional trunk\n",
        "The trunk of the model is the most compute-intesive part. It consists of N stacked residual convolutional blocks."
      ]
    },
    {
      "cell_type": "code",
      "execution_count": null,
      "id": "10b3bbc3",
      "metadata": {
        "id": "10b3bbc3"
      },
      "outputs": [],
      "source": [
        "class SqueezeExcite(layers.Layer):\n",
        "    \"\"\"Applies squeeze and excitation to input feature maps as seen in https://arxiv.org/abs/1709.01507.\n",
        "    Args:\n",
        "        ratio: The ratio with which the feature map needs to be reduced in the reduction phase.\n",
        "    Inputs:\n",
        "        Convolutional features.\n",
        "    Outputs:\n",
        "        Attention modified feature maps.\n",
        "    \"\"\"\n",
        "\n",
        "    def __init__(self, ratio, **kwargs):\n",
        "        super().__init__(**kwargs)\n",
        "        self.ratio = ratio\n",
        "\n",
        "    def get_config(self):\n",
        "        config = super().get_config()\n",
        "        config.update({\"ratio\": self.ratio})\n",
        "        return config\n",
        "\n",
        "    def build(self, input_shape):\n",
        "        filters = input_shape[-1]\n",
        "        self.squeeze = layers.GlobalAveragePooling2D(keepdims=True)\n",
        "        self.reduction = layers.Dense(\n",
        "            units=filters // self.ratio, activation=\"relu\", use_bias=False,\n",
        "        )\n",
        "        self.excite = layers.Dense(units=filters, activation=\"sigmoid\", use_bias=False)\n",
        "        self.multiply = layers.Multiply()\n",
        "\n",
        "    def call(self, x):\n",
        "        shortcut = x\n",
        "        x = self.squeeze(x)\n",
        "        x = self.reduction(x)\n",
        "        x = self.excite(x)\n",
        "        x = self.multiply([shortcut, x])\n",
        "        return x\n",
        "\n",
        "\n",
        "class Trunk(layers.Layer):\n",
        "    \"\"\"Convolutional residual trunk as in the https://arxiv.org/abs/2112.13692\n",
        "    Args:\n",
        "        depth: Number of trunk residual blocks\n",
        "        dimensions: Dimnesion of the model (denoted by d in the paper)\n",
        "        ratio: The Squeeze-Excitation ratio\n",
        "    Inputs:\n",
        "        Convolutional features extracted from the conv stem.\n",
        "    Outputs:\n",
        "        Flattened patches.\n",
        "    \"\"\"\n",
        "\n",
        "    def __init__(self, depth, dimensions, ratio, **kwargs):\n",
        "        super().__init__(**kwargs)\n",
        "        self.ratio = ratio\n",
        "        self.dimensions = dimensions\n",
        "        self.depth = depth\n",
        "\n",
        "    def get_config(self):\n",
        "        config = super().get_config()\n",
        "        config.update(\n",
        "            {\"ratio\": self.ratio, \"dimensions\": self.dimensions, \"depth\": self.depth,}\n",
        "        )\n",
        "        return config\n",
        "\n",
        "    def build(self, input_shape):\n",
        "        config = {\n",
        "            \"filters\": self.dimensions,\n",
        "            \"activation\": tf.nn.gelu,\n",
        "            \"padding\": \"same\",\n",
        "        }\n",
        "\n",
        "        trunk_block = [\n",
        "            layers.LayerNormalization(epsilon=1e-6),\n",
        "            layers.Conv2D(kernel_size=(1, 1), **config),\n",
        "            layers.Conv2D(kernel_size=(3, 3), **config),\n",
        "            SqueezeExcite(ratio=self.ratio),\n",
        "            layers.Conv2D(kernel_size=(1, 1), filters=self.dimensions, padding=\"same\"),\n",
        "        ]\n",
        "\n",
        "        self.trunk_blocks = [keras.Sequential(trunk_block) for _ in range(self.depth)]\n",
        "        self.add = layers.Add()\n",
        "        self.flatten_spatial = layers.Reshape((-1, self.dimensions))\n",
        "\n",
        "    def call(self, x):\n",
        "        # Remember the input.\n",
        "        shortcut = x\n",
        "        for trunk_block in self.trunk_blocks:\n",
        "            output = trunk_block(x)\n",
        "            shortcut = self.add([output, shortcut])\n",
        "            x = shortcut\n",
        "        # Flatten the patches.\n",
        "        x = self.flatten_spatial(x)\n",
        "        return x\n"
      ]
    },
    {
      "cell_type": "markdown",
      "id": "866a8253",
      "metadata": {
        "id": "866a8253"
      },
      "source": [
        "# Attention Pooling\n",
        "The output of the convolutional trunk is attended with a trainable query class token. The resulting attention map is the weight of every patch of the image for a classification decision."
      ]
    },
    {
      "cell_type": "code",
      "execution_count": null,
      "id": "1bb8b591",
      "metadata": {
        "id": "1bb8b591"
      },
      "outputs": [],
      "source": [
        "class AttentionPooling(layers.Layer):\n",
        "    \"\"\"Applies attention to the patches extracted form the trunk with the CLS token.\n",
        "    Args:\n",
        "        dimensions: The dimension of the whole architecture.\n",
        "        num_classes: The number of classes in the dataset.\n",
        "    Inputs:\n",
        "        Flattened patches from the trunk.\n",
        "    Outputs:\n",
        "        The modifies CLS token.\n",
        "    \"\"\"\n",
        "\n",
        "    def __init__(self, dimensions, num_classes, **kwargs):\n",
        "        super().__init__(**kwargs)\n",
        "        self.dimensions = dimensions\n",
        "        self.num_classes = num_classes\n",
        "        self.cls = tf.Variable(tf.zeros((1, 1, dimensions)))\n",
        "\n",
        "    def get_config(self):\n",
        "        config = super().get_config()\n",
        "        config.update(\n",
        "            {\n",
        "                \"dimensions\": self.dimensions,\n",
        "                \"num_classes\": self.num_classes,\n",
        "                \"cls\": self.cls.numpy(),\n",
        "            }\n",
        "        )\n",
        "        return config\n",
        "\n",
        "    def build(self, input_shape):\n",
        "        self.attention = layers.MultiHeadAttention(\n",
        "            num_heads=1, key_dim=self.dimensions, dropout=0.2,\n",
        "        )\n",
        "        self.layer_norm1 = layers.LayerNormalization(epsilon=1e-6)\n",
        "        self.layer_norm2 = layers.LayerNormalization(epsilon=1e-6)\n",
        "        self.layer_norm3 = layers.LayerNormalization(epsilon=1e-6)\n",
        "        self.mlp = keras.Sequential(\n",
        "            [\n",
        "                layers.Dense(units=self.dimensions, activation=tf.nn.gelu),\n",
        "                layers.Dropout(0.2),\n",
        "                layers.Dense(units=self.dimensions, activation=tf.nn.gelu),\n",
        "            ]\n",
        "        )\n",
        "        self.dense = layers.Dense(units=self.num_classes)\n",
        "        self.flatten = layers.Flatten()\n",
        "\n",
        "    def call(self, x):\n",
        "        batch_size = tf.shape(x)[0]\n",
        "        # Expand the class token batch number of times.\n",
        "        class_token = tf.repeat(self.cls, repeats=batch_size, axis=0)\n",
        "        # Concat the input with the trainable class token.\n",
        "        x = tf.concat([class_token, x], axis=1)\n",
        "        # Apply attention to x.\n",
        "        x = self.layer_norm1(x)\n",
        "        x, viz_weights = self.attention(\n",
        "            query=x[:, 0:1], key=x, value=x, return_attention_scores=True\n",
        "        )\n",
        "        class_token = class_token + x\n",
        "        class_token = self.layer_norm2(class_token)\n",
        "        class_token = self.flatten(class_token)\n",
        "        class_token = self.layer_norm3(class_token)\n",
        "        class_token = class_token + self.mlp(class_token)\n",
        "        # Build the logits\n",
        "        logits = self.dense(class_token)\n",
        "        return logits, tf.squeeze(viz_weights)[..., 1:]\n"
      ]
    },
    {
      "cell_type": "markdown",
      "id": "ad6dea21",
      "metadata": {
        "id": "ad6dea21"
      },
      "source": [
        "# Patch convnet\n",
        "The patch-convnet is shown in the figure below.\n",
        "![image.png](attachment:image.png)\n",
        "\n",
        "All the modules in the architecture are built in the earlier seciton. In this section, we stack all of the different modules together."
      ]
    },
    {
      "cell_type": "code",
      "execution_count": null,
      "id": "928e66a6",
      "metadata": {
        "id": "928e66a6"
      },
      "outputs": [],
      "source": [
        "class PatchConvNet(keras.Model):\n",
        "    def __init__(\n",
        "        self,\n",
        "        stem,\n",
        "        trunk,\n",
        "        attention_pooling,\n",
        "        preprocessing_model,\n",
        "        train_augmentation_model,\n",
        "        **kwargs,\n",
        "    ):\n",
        "        super().__init__(**kwargs)\n",
        "        self.stem = stem\n",
        "        self.trunk = trunk\n",
        "        self.attention_pooling = attention_pooling\n",
        "        self.train_augmentation_model = train_augmentation_model\n",
        "        self.preprocessing_model = preprocessing_model\n",
        "\n",
        "    def get_config(self):\n",
        "        config = super().get_config()\n",
        "        config.update(\n",
        "            {\n",
        "                \"stem\": self.stem,\n",
        "                \"trunk\": self.trunk,\n",
        "                \"attention_pooling\": self.attention_pooling,\n",
        "                \"train_augmentation_model\": self.train_augmentation_model,\n",
        "                \"preprocessing_model\": self.preprocessing_model,\n",
        "            }\n",
        "        )\n",
        "        return config\n",
        "\n",
        "    def _calculate_loss(self, inputs, test=False):\n",
        "        images, labels = inputs\n",
        "        # Augment the input images.\n",
        "        if test:\n",
        "            augmented_images = self.preprocessing_model(images)\n",
        "        else:\n",
        "            augmented_images = self.train_augmentation_model(images)\n",
        "        # Pass through the stem.\n",
        "        x = self.stem(augmented_images)\n",
        "        # Pass through the trunk.\n",
        "        x = self.trunk(x)\n",
        "        # Pass through the attention pooling block.\n",
        "        logits, _ = self.attention_pooling(x)\n",
        "        # Compute the total loss.\n",
        "        total_loss = self.compiled_loss(labels, logits)\n",
        "        return total_loss, logits\n",
        "\n",
        "    def train_step(self, inputs):\n",
        "        with tf.GradientTape() as tape:\n",
        "            total_loss, logits = self._calculate_loss(inputs)\n",
        "        # Apply gradients.\n",
        "        train_vars = [\n",
        "            self.stem.trainable_variables,\n",
        "            self.trunk.trainable_variables,\n",
        "            self.attention_pooling.trainable_variables,\n",
        "        ]\n",
        "        grads = tape.gradient(total_loss, train_vars)\n",
        "        trainable_variable_list = []\n",
        "        for (grad, var) in zip(grads, train_vars):\n",
        "            for g, v in zip(grad, var):\n",
        "                trainable_variable_list.append((g, v))\n",
        "        self.optimizer.apply_gradients(trainable_variable_list)\n",
        "        # Report progress.\n",
        "        _, labels = inputs\n",
        "\n",
        "        self.compiled_metrics.update_state(labels, logits)\n",
        "        return {m.name: m.result() for m in self.metrics}\n",
        "\n",
        "    def test_step(self, inputs):\n",
        "        total_loss, logits = self._calculate_loss(inputs, test=True)\n",
        "        # Report progress.\n",
        "        _, labels = inputs\n",
        "        self.compiled_metrics.update_state(labels, logits)\n",
        "        return {m.name: m.result() for m in self.metrics}\n",
        "\n",
        "    def call(self, images):\n",
        "        # Augment the input images.\n",
        "        augmented_images = self.preprocessing_model(images)\n",
        "        # Pass through the stem.\n",
        "        x = self.stem(augmented_images)\n",
        "        # Pass through the trunk.\n",
        "        x = self.trunk(x)\n",
        "        # Pass through the attention pooling block.\n",
        "        logits, viz_weights = self.attention_pooling(x)\n",
        "        return logits, viz_weights\n"
      ]
    },
    {
      "cell_type": "markdown",
      "id": "7d916a2c",
      "metadata": {
        "id": "7d916a2c"
      },
      "source": [
        "# Training\n",
        "We build the model, compile it, and train it."
      ]
    },
    {
      "cell_type": "code",
      "source": [
        "m1 = tf.keras.metrics.Recall()\n",
        "m2 = tf.keras.metrics.Recall()\n",
        "def my_recall(y_true, y_pred):\n",
        "    y_true = tf.cast(y_true, dtype=tf.int32)\n",
        "    actual_onehot = tf.one_hot(y_true, 4)\n",
        "    actual_a = actual_onehot[1]\n",
        "    pred_a = tf.reshape(y_pred[1], (1,4))\n",
        "    actual_b = actual_onehot[2]\n",
        "    pred_b = tf.reshape(y_pred[2], (1,4))\n",
        "    m1.update_state(actual_a, pred_a)\n",
        "    m2.update_state(actual_b, pred_b)\n",
        "    return (m1.result() + m2.result())/2\n",
        "\n",
        "p1 = tf.keras.metrics.Precision()\n",
        "p2 = tf.keras.metrics.Precision()\n",
        "def my_prec(y_true, y_pred):\n",
        "    y_true = tf.cast(y_true, dtype=tf.int32)\n",
        "    actual_onehot = tf.one_hot(y_true, 4)\n",
        "    actual_a = actual_onehot[1]\n",
        "    pred_a = tf.reshape(y_pred[1], (1,4))\n",
        "    actual_b = actual_onehot[2]\n",
        "    pred_b = tf.reshape(y_pred[2], (1,4))\n",
        "    p1.update_state(actual_a, pred_a)\n",
        "    p2.update_state(actual_b, pred_b)\n",
        "    return (p1.result() + p2.result())/2\n",
        "\n",
        "f1 = tfa.metrics.F1Score(num_classes=4, average='macro', threshold=0.5)\n",
        "f2 = tfa.metrics.F1Score(num_classes=4, average='macro', threshold=0.5)\n",
        "def my_f(y_true, y_pred):\n",
        "    y_true = tf.cast(y_true, dtype=tf.int32)\n",
        "    actual_onehot = tf.one_hot(y_true, 4)\n",
        "    actual_a = actual_onehot[1]\n",
        "    pred_a = tf.reshape(y_pred[1], (1,4))\n",
        "    actual_b = actual_onehot[2]\n",
        "    pred_b = tf.reshape(y_pred[2], (1,4))\n",
        "    f1.update_state(actual_a, pred_a)\n",
        "    f2.update_state(actual_b, pred_b)\n",
        "    return (f1.result() + f2.result())/2"
      ],
      "metadata": {
        "id": "j43tt0W3P71H"
      },
      "id": "j43tt0W3P71H",
      "execution_count": null,
      "outputs": []
    },
    {
      "cell_type": "code",
      "execution_count": null,
      "id": "ccaea1d9",
      "metadata": {
        "id": "ccaea1d9"
      },
      "outputs": [],
      "source": [
        "train_augmentation_model = get_train_augmentation_model()\n",
        "preprocessing_model = get_preprocessing()\n",
        "conv_stem = build_convolutional_stem(dimensions=DIMENSIONS)\n",
        "conv_trunk = Trunk(depth=TRUNK_DEPTH, dimensions=DIMENSIONS, ratio=SE_RATIO)\n",
        "attention_pooling = AttentionPooling(dimensions=DIMENSIONS, num_classes=NUM_CLASSES)\n",
        "\n",
        "patch_convnet = PatchConvNet(\n",
        "    stem=conv_stem,\n",
        "    trunk=conv_trunk,\n",
        "    attention_pooling=attention_pooling,\n",
        "    train_augmentation_model=train_augmentation_model,\n",
        "    preprocessing_model=preprocessing_model,\n",
        ")\n",
        "\n",
        "# Get the optimizer.\n",
        "optimizer = tfa.optimizers.AdamW(learning_rate=LEARNING_RATE, weight_decay=WEIGHT_DECAY)\n",
        "# Compile and pretrain the model.\n",
        "patch_convnet.compile(\n",
        "    optimizer=optimizer,\n",
        "    loss=keras.losses.SparseCategoricalCrossentropy(from_logits=True),\n",
        "\n",
        "    metrics=[\n",
        "        keras.metrics.CategoricalAccuracy(name=\"accuracy\"),\n",
        "\n",
        "        my_recall, my_prec, my_f\n",
        "    ],\n",
        ")\n"
      ]
    },
    {
      "cell_type": "code",
      "execution_count": null,
      "id": "403e4b80",
      "metadata": {
        "colab": {
          "base_uri": "https://localhost:8080/"
        },
        "id": "403e4b80",
        "outputId": "cdfd3acd-96b2-474d-c282-247f2a56efce"
      },
      "outputs": [
        {
          "output_type": "stream",
          "name": "stdout",
          "text": [
            "Epoch 1/30\n",
            "179/179 [==============================] - 379s 2s/step - loss: 1.3619 - accuracy: 0.2047 - my_recall: 0.4789 - my_prec: 0.3507 - my_f: 0.3907 - val_loss: 1.1346 - val_accuracy: 0.3181 - val_my_recall: 0.5837 - val_my_prec: 0.3998 - val_my_f: 0.4679\n",
            "Epoch 2/30\n",
            "179/179 [==============================] - 16s 89ms/step - loss: 0.8788 - accuracy: 0.2369 - my_recall: 0.6543 - my_prec: 0.4416 - my_f: 0.5241 - val_loss: 1.0556 - val_accuracy: 0.1434 - val_my_recall: 0.6830 - val_my_prec: 0.4550 - val_my_f: 0.5444\n",
            "Epoch 3/30\n",
            "179/179 [==============================] - 16s 89ms/step - loss: 0.7907 - accuracy: 0.2057 - my_recall: 0.7115 - my_prec: 0.4719 - my_f: 0.5665 - val_loss: 1.0365 - val_accuracy: 0.2487 - val_my_recall: 0.7359 - val_my_prec: 0.4814 - val_my_f: 0.5812\n",
            "Epoch 4/30\n",
            "179/179 [==============================] - 16s 89ms/step - loss: 0.7591 - accuracy: 0.2160 - my_recall: 0.7500 - my_prec: 0.4868 - my_f: 0.5903 - val_loss: 1.1035 - val_accuracy: 0.2387 - val_my_recall: 0.7621 - val_my_prec: 0.4913 - val_my_f: 0.5980\n",
            "Epoch 5/30\n",
            "179/179 [==============================] - 16s 89ms/step - loss: 0.8267 - accuracy: 0.2171 - my_recall: 0.7710 - my_prec: 0.4950 - my_f: 0.6042 - val_loss: 1.0938 - val_accuracy: 0.3112 - val_my_recall: 0.7773 - val_my_prec: 0.4953 - val_my_f: 0.6066\n",
            "Epoch 6/30\n",
            "179/179 [==============================] - 16s 89ms/step - loss: 0.7547 - accuracy: 0.2246 - my_recall: 0.7823 - my_prec: 0.4964 - my_f: 0.6090 - val_loss: 0.9567 - val_accuracy: 0.2334 - val_my_recall: 0.7890 - val_my_prec: 0.4990 - val_my_f: 0.6135\n",
            "Epoch 7/30\n",
            "179/179 [==============================] - 16s 89ms/step - loss: 0.6595 - accuracy: 0.2015 - my_recall: 0.7936 - my_prec: 0.5019 - my_f: 0.6178 - val_loss: 0.9711 - val_accuracy: 0.2273 - val_my_recall: 0.7980 - val_my_prec: 0.5035 - val_my_f: 0.6212\n",
            "Epoch 8/30\n",
            "179/179 [==============================] - 16s 89ms/step - loss: 0.5731 - accuracy: 0.2017 - my_recall: 0.8012 - my_prec: 0.5053 - my_f: 0.6241 - val_loss: 1.0201 - val_accuracy: 0.2830 - val_my_recall: 0.8050 - val_my_prec: 0.5090 - val_my_f: 0.6283\n",
            "Epoch 9/30\n",
            "179/179 [==============================] - 16s 89ms/step - loss: 0.5282 - accuracy: 0.2045 - my_recall: 0.8102 - my_prec: 0.5146 - my_f: 0.6341 - val_loss: 0.8333 - val_accuracy: 0.2387 - val_my_recall: 0.8157 - val_my_prec: 0.5189 - val_my_f: 0.6391\n",
            "Epoch 10/30\n",
            "179/179 [==============================] - 16s 89ms/step - loss: 0.5192 - accuracy: 0.2031 - my_recall: 0.8201 - my_prec: 0.5226 - my_f: 0.6435 - val_loss: 0.7848 - val_accuracy: 0.2021 - val_my_recall: 0.8242 - val_my_prec: 0.5261 - val_my_f: 0.6477\n",
            "Epoch 11/30\n",
            "179/179 [==============================] - 16s 89ms/step - loss: 0.5096 - accuracy: 0.1980 - my_recall: 0.8284 - my_prec: 0.5284 - my_f: 0.6511 - val_loss: 0.8313 - val_accuracy: 0.3585 - val_my_recall: 0.8315 - val_my_prec: 0.5302 - val_my_f: 0.6538\n",
            "Epoch 12/30\n",
            "179/179 [==============================] - 16s 89ms/step - loss: 0.5137 - accuracy: 0.2022 - my_recall: 0.8348 - my_prec: 0.5331 - my_f: 0.6571 - val_loss: 1.0799 - val_accuracy: 0.3150 - val_my_recall: 0.8368 - val_my_prec: 0.5351 - val_my_f: 0.6593\n",
            "Epoch 13/30\n",
            "179/179 [==============================] - 16s 89ms/step - loss: 0.5194 - accuracy: 0.2040 - my_recall: 0.8378 - my_prec: 0.5364 - my_f: 0.6608 - val_loss: 0.9224 - val_accuracy: 0.2746 - val_my_recall: 0.8402 - val_my_prec: 0.5385 - val_my_f: 0.6633\n",
            "Epoch 14/30\n",
            "179/179 [==============================] - 16s 89ms/step - loss: 0.4653 - accuracy: 0.2057 - my_recall: 0.8425 - my_prec: 0.5411 - my_f: 0.6661 - val_loss: 0.9377 - val_accuracy: 0.2967 - val_my_recall: 0.8440 - val_my_prec: 0.5419 - val_my_f: 0.6674\n",
            "Epoch 15/30\n",
            "179/179 [==============================] - 16s 89ms/step - loss: 0.4660 - accuracy: 0.2001 - my_recall: 0.8458 - my_prec: 0.5437 - my_f: 0.6695 - val_loss: 0.9792 - val_accuracy: 0.3844 - val_my_recall: 0.8475 - val_my_prec: 0.5460 - val_my_f: 0.6716\n",
            "Epoch 16/30\n",
            "179/179 [==============================] - 16s 89ms/step - loss: 0.4740 - accuracy: 0.2048 - my_recall: 0.8498 - my_prec: 0.5476 - my_f: 0.6735 - val_loss: 1.0266 - val_accuracy: 0.3097 - val_my_recall: 0.8509 - val_my_prec: 0.5484 - val_my_f: 0.6745\n",
            "Epoch 17/30\n",
            "179/179 [==============================] - 16s 89ms/step - loss: 0.4435 - accuracy: 0.1991 - my_recall: 0.8530 - my_prec: 0.5501 - my_f: 0.6766 - val_loss: 1.1670 - val_accuracy: 0.3417 - val_my_recall: 0.8548 - val_my_prec: 0.5504 - val_my_f: 0.6776\n",
            "Epoch 18/30\n",
            "179/179 [==============================] - 16s 89ms/step - loss: 0.4461 - accuracy: 0.1966 - my_recall: 0.8569 - my_prec: 0.5514 - my_f: 0.6791 - val_loss: 0.7651 - val_accuracy: 0.3310 - val_my_recall: 0.8587 - val_my_prec: 0.5524 - val_my_f: 0.6804\n",
            "Epoch 19/30\n",
            "179/179 [==============================] - 16s 89ms/step - loss: 0.4304 - accuracy: 0.2059 - my_recall: 0.8602 - my_prec: 0.5541 - my_f: 0.6822 - val_loss: 0.7421 - val_accuracy: 0.2357 - val_my_recall: 0.8619 - val_my_prec: 0.5555 - val_my_f: 0.6838\n",
            "Epoch 20/30\n",
            "179/179 [==============================] - 16s 90ms/step - loss: 0.4293 - accuracy: 0.2038 - my_recall: 0.8637 - my_prec: 0.5569 - my_f: 0.6854 - val_loss: 0.9822 - val_accuracy: 0.3707 - val_my_recall: 0.8649 - val_my_prec: 0.5580 - val_my_f: 0.6866\n",
            "Epoch 21/30\n",
            "179/179 [==============================] - 16s 89ms/step - loss: 0.4105 - accuracy: 0.1989 - my_recall: 0.8660 - my_prec: 0.5583 - my_f: 0.6874 - val_loss: 0.8362 - val_accuracy: 0.3852 - val_my_recall: 0.8677 - val_my_prec: 0.5587 - val_my_f: 0.6885\n",
            "Epoch 22/30\n",
            "179/179 [==============================] - 16s 89ms/step - loss: 0.4030 - accuracy: 0.2034 - my_recall: 0.8698 - my_prec: 0.5591 - my_f: 0.6896 - val_loss: 1.1093 - val_accuracy: 0.3394 - val_my_recall: 0.8711 - val_my_prec: 0.5595 - val_my_f: 0.6905\n",
            "Epoch 23/30\n",
            "179/179 [==============================] - 16s 89ms/step - loss: 0.4145 - accuracy: 0.1950 - my_recall: 0.8723 - my_prec: 0.5607 - my_f: 0.6917 - val_loss: 0.8877 - val_accuracy: 0.3105 - val_my_recall: 0.8733 - val_my_prec: 0.5610 - val_my_f: 0.6923\n",
            "Epoch 24/30\n",
            "179/179 [==============================] - 16s 90ms/step - loss: 0.3909 - accuracy: 0.2008 - my_recall: 0.8751 - my_prec: 0.5618 - my_f: 0.6935 - val_loss: 0.7755 - val_accuracy: 0.2349 - val_my_recall: 0.8771 - val_my_prec: 0.5626 - val_my_f: 0.6949\n",
            "Epoch 25/30\n",
            "179/179 [==============================] - 16s 89ms/step - loss: 0.4116 - accuracy: 0.1987 - my_recall: 0.8785 - my_prec: 0.5634 - my_f: 0.6960 - val_loss: 1.1317 - val_accuracy: 0.3066 - val_my_recall: 0.8791 - val_my_prec: 0.5638 - val_my_f: 0.6965\n",
            "Epoch 26/30\n",
            "179/179 [==============================] - 16s 89ms/step - loss: 0.3936 - accuracy: 0.2026 - my_recall: 0.8803 - my_prec: 0.5647 - my_f: 0.6975 - val_loss: 0.9337 - val_accuracy: 0.4005 - val_my_recall: 0.8817 - val_my_prec: 0.5651 - val_my_f: 0.6985\n",
            "Epoch 27/30\n",
            "179/179 [==============================] - 16s 89ms/step - loss: 0.3927 - accuracy: 0.2008 - my_recall: 0.8827 - my_prec: 0.5658 - my_f: 0.6995 - val_loss: 0.9925 - val_accuracy: 0.3829 - val_my_recall: 0.8831 - val_my_prec: 0.5662 - val_my_f: 0.7000\n",
            "Epoch 28/30\n",
            "179/179 [==============================] - 16s 89ms/step - loss: 0.3841 - accuracy: 0.1961 - my_recall: 0.8840 - my_prec: 0.5671 - my_f: 0.7009 - val_loss: 1.1028 - val_accuracy: 0.4005 - val_my_recall: 0.8853 - val_my_prec: 0.5679 - val_my_f: 0.7019\n",
            "Epoch 29/30\n",
            "179/179 [==============================] - 16s 89ms/step - loss: 0.3792 - accuracy: 0.1957 - my_recall: 0.8869 - my_prec: 0.5688 - my_f: 0.7031 - val_loss: 0.9598 - val_accuracy: 0.3135 - val_my_recall: 0.8880 - val_my_prec: 0.5689 - val_my_f: 0.7037\n",
            "Epoch 30/30\n",
            "179/179 [==============================] - 16s 89ms/step - loss: 0.3867 - accuracy: 0.1949 - my_recall: 0.8892 - my_prec: 0.5694 - my_f: 0.7047 - val_loss: 0.8355 - val_accuracy: 0.2433 - val_my_recall: 0.8902 - val_my_prec: 0.5699 - val_my_f: 0.7054\n"
          ]
        }
      ],
      "source": [
        "history = patch_convnet.fit(\n",
        "    train_ds, epochs=EPOCHS, validation_data=val_ds,\n",
        ")"
      ]
    },
    {
      "cell_type": "markdown",
      "id": "3fd391b0",
      "metadata": {
        "id": "3fd391b0"
      },
      "source": [
        "# Let's visualize the training progress of the model.\n"
      ]
    },
    {
      "cell_type": "code",
      "execution_count": null,
      "id": "cfb4e9a5",
      "metadata": {
        "colab": {
          "base_uri": "https://localhost:8080/",
          "height": 473
        },
        "id": "cfb4e9a5",
        "outputId": "900cee7f-8d5c-41b1-996e-63e435af3f6c"
      },
      "outputs": [
        {
          "output_type": "display_data",
          "data": {
            "text/plain": [
              "<Figure size 640x480 with 1 Axes>"
            ],
            "image/png": "[encoded data removed]"
          },
          "metadata": {}
        }
      ],
      "source": [
        "plt.plot(history.history[\"loss\"], label=\"train_loss\")\n",
        "plt.plot(history.history[\"val_loss\"], label=\"val_loss\")\n",
        "plt.xlabel(\"Epochs\")\n",
        "plt.ylabel(\"Loss\")\n",
        "plt.title(\"Train and Validation Losses Over Epochs\", fontsize=14)\n",
        "plt.legend()\n",
        "plt.grid()\n",
        "plt.show()\n"
      ]
    },
    {
      "cell_type": "markdown",
      "id": "dcb1bad6",
      "metadata": {
        "id": "dcb1bad6"
      },
      "source": [
        "# Let's display the final results of the test on MRI dataset.\n"
      ]
    },
    {
      "cell_type": "code",
      "execution_count": null,
      "id": "61277e2e",
      "metadata": {
        "colab": {
          "base_uri": "https://localhost:8080/"
        },
        "id": "61277e2e",
        "outputId": "6b14e3c3-ebdf-4aa9-9e98-1471cdc313e3"
      },
      "outputs": [
        {
          "name": "stdout",
          "output_type": "stream",
          "text": [
            "41/41 [==============================] - 110s 3s/step - loss: 0.7109 - accuracy: 0.8276 - top-5-accuracy: 1.0000\n",
            "Test loss: 0.71\n",
            "Test accuracy: 82.76%\n",
            "Test top 5 accuracy: 100.0%\n"
          ]
        }
      ],
      "source": [
        "loss, accuracy, top_5_accuracy = model.evaluate(val_ds)\n",
        "print(f\"Test loss: {round(loss, 2)}\")\n",
        "print(f\"Test accuracy: {round(accuracy * 100, 2)}%\")\n",
        "print(f\"Test top 5 accuracy: {round(top_5_accuracy * 100, 2)}%\")\n"
      ]
    },
    {
      "cell_type": "markdown",
      "id": "2b6717aa",
      "metadata": {
        "id": "2b6717aa"
      },
      "source": [
        "EANet just replaces self attention in Vit with external attention. The traditional Vit achieved a ~73% test top-5 accuracy and ~41 top-1 accuracy after training 50 epochs, but with 0.6M parameters. Under the same experimental environment and the same hyperparameters, The EANet model we just trained has just 0.3M parameters, and it gets us to ~73% test top-5 accuracy and ~43% top-1 accuracy. This fully demonstrates the effectiveness of external attention. We only show the training process of EANet, you can train Vit under the same experimental conditions and observe the test results.\n",
        "\n"
      ]
    }
  ],
  "metadata": {
    "accelerator": "GPU",
    "colab": {
      "machine_shape": "hm",
      "provenance": [],
      "gpuType": "A100",
      "include_colab_link": true
    },
    "kernelspec": {
      "display_name": "Python 3",
      "name": "python3"
    },
    "language_info": {
      "codemirror_mode": {
        "name": "ipython",
        "version": 3
      },
      "file_extension": ".py",
      "mimetype": "text/x-python",
      "name": "python",
      "nbconvert_exporter": "python",
      "pygments_lexer": "ipython3",
      "version": "3.10.9"
    }
  },
  "nbformat": 4,
  "nbformat_minor": 5
}