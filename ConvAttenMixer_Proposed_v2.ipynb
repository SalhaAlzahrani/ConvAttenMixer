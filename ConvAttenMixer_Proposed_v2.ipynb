{
  "cells": [
    {
      "cell_type": "markdown",
      "metadata": {
        "id": "view-in-github",
        "colab_type": "text"
      },
      "source": [
        "<a href=\"https://colab.research.google.com/github/SalhaAlzahrani/ConvAttenMixer/blob/main/ConvAttenMixer_Proposed_v2.ipynb\" target=\"_parent\"><img src=\"https://colab.research.google.com/assets/colab-badge.svg\" alt=\"Open In Colab\"/></a>"
      ]
    },
    {
      "cell_type": "markdown",
      "metadata": {
        "id": "__SZBMGRSSer"
      },
      "source": [
        "# MRI Brain Tumor Classification\n",
        "# Proposed Method\n",
        "## ConvAttenMixer (no data augmentation) \t224 x 224"
      ]
    },
    {
      "cell_type": "code",
      "execution_count": null,
      "metadata": {
        "colab": {
          "base_uri": "https://localhost:8080/"
        },
        "id": "h67nb3BOZ2AM",
        "outputId": "14f20f42-82f9-4b74-e0bd-52bcb93a09c6"
      },
      "outputs": [
        {
          "output_type": "stream",
          "name": "stdout",
          "text": [
            "Collecting tensorflow-addons\n",
            "  Downloading tensorflow_addons-0.21.0-cp310-cp310-manylinux_2_17_x86_64.manylinux2014_x86_64.whl (612 kB)\n",
            "\u001b[?25l     \u001b[90m━━━━━━━━━━━━━━━━━━━━━━━━━━━━━━━━━━━━━━━━\u001b[0m \u001b[32m0.0/612.1 kB\u001b[0m \u001b[31m?\u001b[0m eta \u001b[36m-:--:--\u001b[0m\r\u001b[2K     \u001b[91m━━━━\u001b[0m\u001b[90m╺\u001b[0m\u001b[90m━━━━━━━━━━━━━━━━━━━━━━━━━━━━━━━━━━━\u001b[0m \u001b[32m61.4/612.1 kB\u001b[0m \u001b[31m2.2 MB/s\u001b[0m eta \u001b[36m0:00:01\u001b[0m\r\u001b[2K     \u001b[90m━━━━━━━━━━━━━━━━━━━━━━━━━━━━━━━━━━━━━━━\u001b[0m \u001b[32m612.1/612.1 kB\u001b[0m \u001b[31m9.3 MB/s\u001b[0m eta \u001b[36m0:00:00\u001b[0m\n",
            "\u001b[?25hRequirement already satisfied: packaging in /usr/local/lib/python3.10/dist-packages (from tensorflow-addons) (23.1)\n",
            "Collecting typeguard<3.0.0,>=2.7 (from tensorflow-addons)\n",
            "  Downloading typeguard-2.13.3-py3-none-any.whl (17 kB)\n",
            "Installing collected packages: typeguard, tensorflow-addons\n",
            "Successfully installed tensorflow-addons-0.21.0 typeguard-2.13.3\n",
            "Collecting accelerate\n",
            "  Downloading accelerate-0.21.0-py3-none-any.whl (244 kB)\n",
            "\u001b[2K     \u001b[90m━━━━━━━━━━━━━━━━━━━━━━━━━━━━━━━━━━━━━━━\u001b[0m \u001b[32m244.2/244.2 kB\u001b[0m \u001b[31m4.5 MB/s\u001b[0m eta \u001b[36m0:00:00\u001b[0m\n",
            "\u001b[?25hRequirement already satisfied: numpy>=1.17 in /usr/local/lib/python3.10/dist-packages (from accelerate) (1.23.5)\n",
            "Requirement already satisfied: packaging>=20.0 in /usr/local/lib/python3.10/dist-packages (from accelerate) (23.1)\n",
            "Requirement already satisfied: psutil in /usr/local/lib/python3.10/dist-packages (from accelerate) (5.9.5)\n",
            "Requirement already satisfied: pyyaml in /usr/local/lib/python3.10/dist-packages (from accelerate) (6.0.1)\n",
            "Requirement already satisfied: torch>=1.10.0 in /usr/local/lib/python3.10/dist-packages (from accelerate) (2.0.1+cu118)\n",
            "Requirement already satisfied: filelock in /usr/local/lib/python3.10/dist-packages (from torch>=1.10.0->accelerate) (3.12.2)\n",
            "Requirement already satisfied: typing-extensions in /usr/local/lib/python3.10/dist-packages (from torch>=1.10.0->accelerate) (4.7.1)\n",
            "Requirement already satisfied: sympy in /usr/local/lib/python3.10/dist-packages (from torch>=1.10.0->accelerate) (1.12)\n",
            "Requirement already satisfied: networkx in /usr/local/lib/python3.10/dist-packages (from torch>=1.10.0->accelerate) (3.1)\n",
            "Requirement already satisfied: jinja2 in /usr/local/lib/python3.10/dist-packages (from torch>=1.10.0->accelerate) (3.1.2)\n",
            "Requirement already satisfied: triton==2.0.0 in /usr/local/lib/python3.10/dist-packages (from torch>=1.10.0->accelerate) (2.0.0)\n",
            "Requirement already satisfied: cmake in /usr/local/lib/python3.10/dist-packages (from triton==2.0.0->torch>=1.10.0->accelerate) (3.27.1)\n",
            "Requirement already satisfied: lit in /usr/local/lib/python3.10/dist-packages (from triton==2.0.0->torch>=1.10.0->accelerate) (16.0.6)\n",
            "Requirement already satisfied: MarkupSafe>=2.0 in /usr/local/lib/python3.10/dist-packages (from jinja2->torch>=1.10.0->accelerate) (2.1.3)\n",
            "Requirement already satisfied: mpmath>=0.19 in /usr/local/lib/python3.10/dist-packages (from sympy->torch>=1.10.0->accelerate) (1.3.0)\n",
            "Installing collected packages: accelerate\n",
            "Successfully installed accelerate-0.21.0\n"
          ]
        }
      ],
      "source": [
        "!pip install -U tensorflow-addons\n",
        "!pip install --upgrade accelerate"
      ]
    },
    {
      "cell_type": "code",
      "execution_count": null,
      "metadata": {
        "id": "l43G6TfDZ6Jq",
        "colab": {
          "base_uri": "https://localhost:8080/"
        },
        "outputId": "71a82ce8-1d0f-4e92-ce6b-d9cc38ffb1fd"
      },
      "outputs": [
        {
          "output_type": "stream",
          "name": "stderr",
          "text": [
            "/usr/local/lib/python3.10/dist-packages/tensorflow_addons/utils/tfa_eol_msg.py:23: UserWarning: \n",
            "\n",
            "TensorFlow Addons (TFA) has ended development and introduction of new features.\n",
            "TFA has entered a minimal maintenance and release mode until a planned end of life in May 2024.\n",
            "Please modify downstream libraries to take dependencies from other repositories in our TensorFlow community (e.g. Keras, Keras-CV, and Keras-NLP). \n",
            "\n",
            "For more information see: https://github.com/tensorflow/addons/issues/2807 \n",
            "\n",
            "  warnings.warn(\n"
          ]
        }
      ],
      "source": [
        "from tensorflow.keras import layers\n",
        "from tensorflow import keras\n",
        "from tensorflow.keras.preprocessing import image_dataset_from_directory\n",
        "from keras.optimizers import Adam\n",
        "\n",
        "import matplotlib.pyplot as plt\n",
        "import tensorflow_addons as tfa\n",
        "import tensorflow as tf\n",
        "import numpy as np\n",
        "from google.colab import drive\n",
        "import tensorflow_addons as tfa"
      ]
    },
    {
      "cell_type": "markdown",
      "metadata": {
        "id": "cKEQ3GQwaQoT"
      },
      "source": [
        "# Prepare the data"
      ]
    },
    {
      "cell_type": "code",
      "execution_count": null,
      "metadata": {
        "colab": {
          "base_uri": "https://localhost:8080/"
        },
        "id": "7t2AITNSaTXh",
        "outputId": "c12f8e04-0e86-40a1-c4d6-bba6b06284f8"
      },
      "outputs": [
        {
          "output_type": "stream",
          "name": "stdout",
          "text": [
            "Mounted at /content/drive\n",
            "Found 5712 files belonging to 4 classes.\n",
            "Found 1311 files belonging to 4 classes.\n"
          ]
        }
      ],
      "source": [
        "drive.mount('/content/drive', force_remount=True)\n",
        "\n",
        "num_classes = 4\n",
        "input_shape = (224, 224, 3)\n",
        "# train data\n",
        "train_ds = image_dataset_from_directory(\n",
        "    directory='/content/drive/MyDrive/Brain Tumor MRI/data/Training/',\n",
        "    #directory='Brain Tumor MRI/data/Training/',\n",
        "    labels='inferred',\n",
        "    label_mode='categorical',\n",
        "    batch_size=128,\n",
        "    image_size=(224, 224),\n",
        "    seed=1024\n",
        ")\n",
        "\n",
        "# validation data\n",
        "val_ds = image_dataset_from_directory(\n",
        "    directory='/content/drive/MyDrive/Brain Tumor MRI/data/Testing/',\n",
        "    #directory='Brain Tumor MRI/data/Testing/',\n",
        "    labels='inferred',\n",
        "    label_mode='categorical',\n",
        "    batch_size=128,\n",
        "    image_size=(224, 224),\n",
        "    seed=1024\n",
        ")"
      ]
    },
    {
      "cell_type": "code",
      "source": [
        "#Configure the dataset for performance\n",
        "AUTOTUNE = tf.data.AUTOTUNE\n",
        "\n",
        "train_ds = train_ds.prefetch(buffer_size=AUTOTUNE)\n",
        "val_ds = val_ds.prefetch(buffer_size=AUTOTUNE)"
      ],
      "metadata": {
        "id": "PkJu467qcKhL"
      },
      "execution_count": null,
      "outputs": []
    },
    {
      "cell_type": "markdown",
      "metadata": {
        "id": "f1R9Ew7iZ-f_"
      },
      "source": [
        "# Hyperparameters\n",
        "To keep run time short, we will train the model for only 10 epochs. To focus on the core ideas of ConvMixer, we will not use other training-specific elements like RandAugment (Cubuk et al.). If you are interested in learning more about those details, please refer to the original paper.\n"
      ]
    },
    {
      "cell_type": "code",
      "execution_count": null,
      "metadata": {
        "id": "hXA22Qz2aK8c",
        "colab": {
          "base_uri": "https://localhost:8080/"
        },
        "outputId": "ae47a2dc-2f70-404d-e917-20236ad47834"
      },
      "outputs": [
        {
          "output_type": "stream",
          "name": "stdout",
          "text": [
            "Patch size: 4 X 4 = 16 \n",
            "Patches per image: 3136\n"
          ]
        }
      ],
      "source": [
        "learning_rate = 0.001\n",
        "weight_decay = 0.0001\n",
        "label_smoothing = 0.1\n",
        "\n",
        "filters=256\n",
        "depth=8\n",
        "kernel_size=5\n",
        "\n",
        "batch_size = 128\n",
        "num_epochs = 30\n",
        "patch_size = 4  # Size of the patches to be extracted from the input images.\n",
        "\n",
        "num_patches = (input_shape[0] // patch_size) ** 2  # Number of patch\n",
        "embedding_dim = 64  # Number of hidden units.\n",
        "mlp_dim = 64\n",
        "dim_coefficient = 4\n",
        "num_heads = 4\n",
        "attention_dropout = 0.2\n",
        "projection_dropout = 0.2\n",
        "\n",
        "#num_transformer_blocks = 8  # Number of repetitions of the transformer layer\n",
        "\n",
        "print(f\"Patch size: {patch_size} X {patch_size} = {patch_size ** 2} \")\n",
        "print(f\"Patches per image: {num_patches}\")"
      ]
    },
    {
      "cell_type": "markdown",
      "metadata": {
        "id": "UnG3jCCGSSew"
      },
      "source": [
        "# Patch extraction and embedding : encoding layer"
      ]
    },
    {
      "cell_type": "code",
      "execution_count": null,
      "metadata": {
        "id": "ivBl8Qv5SSew"
      },
      "outputs": [],
      "source": [
        "class PatchExtract(layers.Layer):\n",
        "    def __init__(self, patch_size, **kwargs):\n",
        "        super().__init__(**kwargs)\n",
        "        self.patch_size = patch_size\n",
        "\n",
        "    def call(self, images):\n",
        "        batch_size = tf.shape(images)[0]\n",
        "        patches = tf.image.extract_patches(\n",
        "            images=images,\n",
        "            sizes=(1, self.patch_size, self.patch_size, 1),\n",
        "            strides=(1, self.patch_size, self.patch_size, 1),\n",
        "            rates=(1, 1, 1, 1),\n",
        "            padding=\"VALID\",\n",
        "        )\n",
        "        patch_dim = patches.shape[-1]\n",
        "        patch_num = patches.shape[1]\n",
        "        return tf.reshape(patches, (batch_size, patch_num * patch_num, patch_dim))\n",
        "\n",
        "\n",
        "class PatchEmbedding(layers.Layer):\n",
        "    def __init__(self, num_patch, embed_dim, **kwargs):\n",
        "        super().__init__(**kwargs)\n",
        "        self.num_patch = num_patch\n",
        "        self.proj = layers.Dense(embed_dim)\n",
        "        self.pos_embed = layers.Embedding(input_dim=num_patch, output_dim=embed_dim)\n",
        "\n",
        "    def call(self, patch):\n",
        "        pos = tf.range(start=0, limit=self.num_patch, delta=1)\n",
        "        return self.proj(patch) + self.pos_embed(pos)\n"
      ]
    },
    {
      "cell_type": "markdown",
      "metadata": {
        "id": "_bfeGEQSSSew"
      },
      "source": [
        "# External attention block"
      ]
    },
    {
      "cell_type": "code",
      "execution_count": null,
      "metadata": {
        "id": "g9NgSEwESSew"
      },
      "outputs": [],
      "source": [
        "def external_attention(x, dim, num_heads, dim_coefficient=4, attention_dropout=0, projection_dropout=0):\n",
        "    _, num_patch, channel = x.shape\n",
        "    assert dim % num_heads == 0\n",
        "    num_heads = num_heads * dim_coefficient\n",
        "\n",
        "    x = layers.Dense(dim * dim_coefficient)(x)\n",
        "    # create tensor [batch_size, num_patches, num_heads, dim*dim_coefficient//num_heads]\n",
        "    x = tf.reshape(\n",
        "        x, shape=(-1, num_patch, num_heads, dim * dim_coefficient // num_heads)\n",
        "    )\n",
        "    x = tf.transpose(x, perm=[0, 2, 1, 3])\n",
        "    # a linear layer M_k\n",
        "    attn = layers.Dense(dim // dim_coefficient)(x)\n",
        "    # normalize attention map\n",
        "    attn = layers.Softmax(axis=2)(attn)\n",
        "    # dobule-normalization\n",
        "    attn = attn / (1e-9 + tf.reduce_sum(attn, axis=-1, keepdims=True))\n",
        "    attn = layers.Dropout(attention_dropout)(attn)\n",
        "    # a linear layer M_v\n",
        "    x = layers.Dense(dim * dim_coefficient // num_heads)(attn)\n",
        "    x = tf.transpose(x, perm=[0, 2, 1, 3])\n",
        "    x = tf.reshape(x, [-1, num_patch, dim * dim_coefficient])\n",
        "    # a linear layer to project original dim\n",
        "    x = layers.Dense(dim)(x)\n",
        "    x = layers.Dropout(projection_dropout)(x)\n",
        "    return x"
      ]
    },
    {
      "cell_type": "markdown",
      "metadata": {
        "id": "BtZf2tQdSSex"
      },
      "source": [
        "# Implement Conv.1D block"
      ]
    },
    {
      "cell_type": "code",
      "execution_count": null,
      "metadata": {
        "id": "aQahkq57SSex"
      },
      "outputs": [],
      "source": [
        "class SqueezeExcite(layers.Layer):\n",
        "    \"\"\"Applies squeeze and excitation to input feature maps as seen in https://arxiv.org/abs/1709.01507.\n",
        "    Args:\n",
        "        ratio: The ratio with which the feature map needs to be reduced in the reduction phase.\n",
        "    Inputs:\n",
        "        Convolutional features.\n",
        "    Outputs:\n",
        "        Attention modified feature maps.\n",
        "    \"\"\"\n",
        "    def __init__(self, ratio, **kwargs):\n",
        "        super().__init__(**kwargs)\n",
        "        self.ratio = ratio\n",
        "\n",
        "    def get_config(self):\n",
        "        config = super().get_config()\n",
        "        config.update({\"ratio\": self.ratio})\n",
        "        return config\n",
        "\n",
        "    def build(self, input_shape):\n",
        "        filters = input_shape[-1]\n",
        "        self.squeeze = layers.GlobalAveragePooling2D(keepdims=True)\n",
        "        self.reduction = layers.Dense(\n",
        "            units=filters // self.ratio, activation=\"relu\", use_bias=False,\n",
        "        )\n",
        "        self.excite = layers.Dense(units=filters, activation=\"sigmoid\", use_bias=False)\n",
        "        self.multiply = layers.Multiply()\n",
        "\n",
        "    def call(self, x):\n",
        "        shortcut = x\n",
        "        x = self.squeeze(x)\n",
        "        x = self.reduction(x)\n",
        "        x = self.excite(x)\n",
        "        x = self.multiply([shortcut, x])\n",
        "        return x\n",
        "\n",
        "def conv1d(x, embedding_dim, mlp_dim, drop_rate=0.2):\n",
        "    x = layers.Conv1D(mlp_dim,2, padding=\"same\")(x)\n",
        "    #x = layers.Conv1D(embedding_dim, 2, padding=\"same\")(x)\n",
        "    SqueezeExcite(x)\n",
        "    x = layers.Conv1D(embedding_dim, 3, padding=\"same\")(x)\n",
        "    return x"
      ]
    },
    {
      "cell_type": "markdown",
      "metadata": {
        "id": "ZrFymzgVamYQ"
      },
      "source": [
        "# ConvMixer utilities"
      ]
    },
    {
      "cell_type": "markdown",
      "metadata": {
        "id": "PweLq876axe6"
      },
      "source": [
        "The model used in this experiment is termed as ConvMixer-256/8 where 256 denotes the number of channels and 8 denotes the depth. The resulting model only has 0.8 million parameters.\n"
      ]
    },
    {
      "cell_type": "code",
      "execution_count": null,
      "metadata": {
        "id": "OicMTQNrarCB"
      },
      "outputs": [],
      "source": [
        "def activation_block(x):\n",
        "    x = layers.Activation(\"gelu\")(x)\n",
        "    return layers.BatchNormalization()(x)\n",
        "\n",
        "\n",
        "def conv_stem(x, filters: int, patch_size: int):\n",
        "    x = layers.Conv1D(filters, kernel_size=patch_size, strides=patch_size)(x)\n",
        "    return activation_block(x)\n",
        "\n",
        "\n",
        "def conv_mixer_block(x, filters: int, kernel_size: int):\n",
        "    # Depthwise convolution.\n",
        "    x0 = x\n",
        "    x = layers.DepthwiseConv1D(kernel_size=kernel_size, padding=\"same\")(x)\n",
        "    x = layers.Add()([activation_block(x), x0])  # Residual.\n",
        "    # Pointwise convolution.\n",
        "    x = layers.Conv1D(filters, kernel_size=1)(x)\n",
        "    x = activation_block(x)\n",
        "    return x\n",
        "\n",
        "\n",
        "def get_conv_mixer_256_8(x):\n",
        "    \"\"\"ConvMixer-256/8: https://openreview.net/pdf?id=TVHS5Y4dNvM.\n",
        "    The hyperparameter values are taken from the paper.\n",
        "    \"\"\"\n",
        "    x = layers.Rescaling(scale=1.0 / 255)(x)\n",
        "    # Extract patch embeddings.\n",
        "    x = conv_stem(x, filters, patch_size)\n",
        "    # ConvMixer blocks.\n",
        "    for _ in range(depth):\n",
        "        x = conv_mixer_block(x, filters, kernel_size)\n",
        "    return x\n"
      ]
    },
    {
      "cell_type": "markdown",
      "metadata": {
        "id": "nxr-qk0zSSey"
      },
      "source": [
        "# Proposed combined (ConvMixer, SA, EA) model"
      ]
    },
    {
      "cell_type": "code",
      "execution_count": null,
      "metadata": {
        "id": "cHJyXiyeSSey"
      },
      "outputs": [],
      "source": [
        "def get_model():\n",
        "    inputs = keras.Input(shape=input_shape)\n",
        "    x = inputs\n",
        "\n",
        "    ################## STEP 1 : Patch Embedding ##################\n",
        "    # Extract patches\n",
        "    x = PatchExtract(patch_size)(x)\n",
        "    # Create patch embedding\n",
        "    x = PatchEmbedding(num_patches, embedding_dim)(x)\n",
        "\n",
        "    ################## STEP 2 : ConvMixer      ##################\n",
        "    x = get_conv_mixer_256_8(x)\n",
        "\n",
        "    ################## STEP 3 : Self-attention ##################\n",
        "    residual_1 = x\n",
        "    x = layers.LayerNormalization(epsilon=1e-5)(x)\n",
        "    x = layers.MultiHeadAttention(\n",
        "            num_heads=num_heads, key_dim=embedding_dim, dropout=attention_dropout\n",
        "        )(x, x)\n",
        "    x = layers.add([x, residual_1])\n",
        "\n",
        "     ################## STEP 4 : ConvMixer      ##################\n",
        "    x = get_conv_mixer_256_8(x)\n",
        "\n",
        "    ################## STEP 5 : External attention ##################\n",
        "    x = external_attention(\n",
        "            x,\n",
        "            embedding_dim,\n",
        "            num_heads,\n",
        "            dim_coefficient,\n",
        "            attention_dropout,\n",
        "            projection_dropout,\n",
        "        )\n",
        "    residual_2 = x\n",
        "    x = layers.LayerNormalization(epsilon=1e-5)(x)\n",
        "\n",
        "    # Classification block\n",
        "    x = conv1d(x, embedding_dim, mlp_dim)\n",
        "    x = layers.add([x, residual_2])\n",
        "    x = layers.GlobalAvgPool1D()(x)\n",
        "    outputs = layers.Dense(num_classes, activation=\"softmax\")(x)\n",
        "    model = keras.Model(inputs=inputs, outputs=outputs)\n",
        "    return model"
      ]
    },
    {
      "cell_type": "code",
      "execution_count": null,
      "metadata": {
        "colab": {
          "base_uri": "https://localhost:8080/"
        },
        "id": "T-Mo3vf5bBYU",
        "outputId": "43a15f8d-cb36-4a73-c950-93a60f99a64d"
      },
      "outputs": [
        {
          "output_type": "stream",
          "name": "stdout",
          "text": [
            "Model: \"model_1\"\n",
            "__________________________________________________________________________________________________\n",
            " Layer (type)                   Output Shape         Param #     Connected to                     \n",
            "==================================================================================================\n",
            " input_2 (InputLayer)           [(None, 224, 224, 3  0           []                               \n",
            "                                )]                                                                \n",
            "                                                                                                  \n",
            " patch_extract_1 (PatchExtract)  (None, 3136, 48)    0           ['input_2[0][0]']                \n",
            "                                                                                                  \n",
            " patch_embedding_1 (PatchEmbedd  (None, 3136, 64)    203840      ['patch_extract_1[0][0]']        \n",
            " ing)                                                                                             \n",
            "                                                                                                  \n",
            " rescaling_2 (Rescaling)        (None, 3136, 64)     0           ['patch_embedding_1[0][0]']      \n",
            "                                                                                                  \n",
            " conv1d_20 (Conv1D)             (None, 784, 256)     65792       ['rescaling_2[0][0]']            \n",
            "                                                                                                  \n",
            " activation_34 (Activation)     (None, 784, 256)     0           ['conv1d_20[0][0]']              \n",
            "                                                                                                  \n",
            " batch_normalization_34 (BatchN  (None, 784, 256)    1024        ['activation_34[0][0]']          \n",
            " ormalization)                                                                                    \n",
            "                                                                                                  \n",
            " depthwise_conv1d_16 (Depthwise  (None, 784, 256)    1536        ['batch_normalization_34[0][0]'] \n",
            " Conv1D)                                                                                          \n",
            "                                                                                                  \n",
            " activation_35 (Activation)     (None, 784, 256)     0           ['depthwise_conv1d_16[0][0]']    \n",
            "                                                                                                  \n",
            " batch_normalization_35 (BatchN  (None, 784, 256)    1024        ['activation_35[0][0]']          \n",
            " ormalization)                                                                                    \n",
            "                                                                                                  \n",
            " add_18 (Add)                   (None, 784, 256)     0           ['batch_normalization_35[0][0]', \n",
            "                                                                  'batch_normalization_34[0][0]'] \n",
            "                                                                                                  \n",
            " conv1d_21 (Conv1D)             (None, 784, 256)     65792       ['add_18[0][0]']                 \n",
            "                                                                                                  \n",
            " activation_36 (Activation)     (None, 784, 256)     0           ['conv1d_21[0][0]']              \n",
            "                                                                                                  \n",
            " batch_normalization_36 (BatchN  (None, 784, 256)    1024        ['activation_36[0][0]']          \n",
            " ormalization)                                                                                    \n",
            "                                                                                                  \n",
            " depthwise_conv1d_17 (Depthwise  (None, 784, 256)    1536        ['batch_normalization_36[0][0]'] \n",
            " Conv1D)                                                                                          \n",
            "                                                                                                  \n",
            " activation_37 (Activation)     (None, 784, 256)     0           ['depthwise_conv1d_17[0][0]']    \n",
            "                                                                                                  \n",
            " batch_normalization_37 (BatchN  (None, 784, 256)    1024        ['activation_37[0][0]']          \n",
            " ormalization)                                                                                    \n",
            "                                                                                                  \n",
            " add_19 (Add)                   (None, 784, 256)     0           ['batch_normalization_37[0][0]', \n",
            "                                                                  'batch_normalization_36[0][0]'] \n",
            "                                                                                                  \n",
            " conv1d_22 (Conv1D)             (None, 784, 256)     65792       ['add_19[0][0]']                 \n",
            "                                                                                                  \n",
            " activation_38 (Activation)     (None, 784, 256)     0           ['conv1d_22[0][0]']              \n",
            "                                                                                                  \n",
            " batch_normalization_38 (BatchN  (None, 784, 256)    1024        ['activation_38[0][0]']          \n",
            " ormalization)                                                                                    \n",
            "                                                                                                  \n",
            " depthwise_conv1d_18 (Depthwise  (None, 784, 256)    1536        ['batch_normalization_38[0][0]'] \n",
            " Conv1D)                                                                                          \n",
            "                                                                                                  \n",
            " activation_39 (Activation)     (None, 784, 256)     0           ['depthwise_conv1d_18[0][0]']    \n",
            "                                                                                                  \n",
            " batch_normalization_39 (BatchN  (None, 784, 256)    1024        ['activation_39[0][0]']          \n",
            " ormalization)                                                                                    \n",
            "                                                                                                  \n",
            " add_20 (Add)                   (None, 784, 256)     0           ['batch_normalization_39[0][0]', \n",
            "                                                                  'batch_normalization_38[0][0]'] \n",
            "                                                                                                  \n",
            " conv1d_23 (Conv1D)             (None, 784, 256)     65792       ['add_20[0][0]']                 \n",
            "                                                                                                  \n",
            " activation_40 (Activation)     (None, 784, 256)     0           ['conv1d_23[0][0]']              \n",
            "                                                                                                  \n",
            " batch_normalization_40 (BatchN  (None, 784, 256)    1024        ['activation_40[0][0]']          \n",
            " ormalization)                                                                                    \n",
            "                                                                                                  \n",
            " depthwise_conv1d_19 (Depthwise  (None, 784, 256)    1536        ['batch_normalization_40[0][0]'] \n",
            " Conv1D)                                                                                          \n",
            "                                                                                                  \n",
            " activation_41 (Activation)     (None, 784, 256)     0           ['depthwise_conv1d_19[0][0]']    \n",
            "                                                                                                  \n",
            " batch_normalization_41 (BatchN  (None, 784, 256)    1024        ['activation_41[0][0]']          \n",
            " ormalization)                                                                                    \n",
            "                                                                                                  \n",
            " add_21 (Add)                   (None, 784, 256)     0           ['batch_normalization_41[0][0]', \n",
            "                                                                  'batch_normalization_40[0][0]'] \n",
            "                                                                                                  \n",
            " conv1d_24 (Conv1D)             (None, 784, 256)     65792       ['add_21[0][0]']                 \n",
            "                                                                                                  \n",
            " activation_42 (Activation)     (None, 784, 256)     0           ['conv1d_24[0][0]']              \n",
            "                                                                                                  \n",
            " batch_normalization_42 (BatchN  (None, 784, 256)    1024        ['activation_42[0][0]']          \n",
            " ormalization)                                                                                    \n",
            "                                                                                                  \n",
            " depthwise_conv1d_20 (Depthwise  (None, 784, 256)    1536        ['batch_normalization_42[0][0]'] \n",
            " Conv1D)                                                                                          \n",
            "                                                                                                  \n",
            " activation_43 (Activation)     (None, 784, 256)     0           ['depthwise_conv1d_20[0][0]']    \n",
            "                                                                                                  \n",
            " batch_normalization_43 (BatchN  (None, 784, 256)    1024        ['activation_43[0][0]']          \n",
            " ormalization)                                                                                    \n",
            "                                                                                                  \n",
            " add_22 (Add)                   (None, 784, 256)     0           ['batch_normalization_43[0][0]', \n",
            "                                                                  'batch_normalization_42[0][0]'] \n",
            "                                                                                                  \n",
            " conv1d_25 (Conv1D)             (None, 784, 256)     65792       ['add_22[0][0]']                 \n",
            "                                                                                                  \n",
            " activation_44 (Activation)     (None, 784, 256)     0           ['conv1d_25[0][0]']              \n",
            "                                                                                                  \n",
            " batch_normalization_44 (BatchN  (None, 784, 256)    1024        ['activation_44[0][0]']          \n",
            " ormalization)                                                                                    \n",
            "                                                                                                  \n",
            " depthwise_conv1d_21 (Depthwise  (None, 784, 256)    1536        ['batch_normalization_44[0][0]'] \n",
            " Conv1D)                                                                                          \n",
            "                                                                                                  \n",
            " activation_45 (Activation)     (None, 784, 256)     0           ['depthwise_conv1d_21[0][0]']    \n",
            "                                                                                                  \n",
            " batch_normalization_45 (BatchN  (None, 784, 256)    1024        ['activation_45[0][0]']          \n",
            " ormalization)                                                                                    \n",
            "                                                                                                  \n",
            " add_23 (Add)                   (None, 784, 256)     0           ['batch_normalization_45[0][0]', \n",
            "                                                                  'batch_normalization_44[0][0]'] \n",
            "                                                                                                  \n",
            " conv1d_26 (Conv1D)             (None, 784, 256)     65792       ['add_23[0][0]']                 \n",
            "                                                                                                  \n",
            " activation_46 (Activation)     (None, 784, 256)     0           ['conv1d_26[0][0]']              \n",
            "                                                                                                  \n",
            " batch_normalization_46 (BatchN  (None, 784, 256)    1024        ['activation_46[0][0]']          \n",
            " ormalization)                                                                                    \n",
            "                                                                                                  \n",
            " depthwise_conv1d_22 (Depthwise  (None, 784, 256)    1536        ['batch_normalization_46[0][0]'] \n",
            " Conv1D)                                                                                          \n",
            "                                                                                                  \n",
            " activation_47 (Activation)     (None, 784, 256)     0           ['depthwise_conv1d_22[0][0]']    \n",
            "                                                                                                  \n",
            " batch_normalization_47 (BatchN  (None, 784, 256)    1024        ['activation_47[0][0]']          \n",
            " ormalization)                                                                                    \n",
            "                                                                                                  \n",
            " add_24 (Add)                   (None, 784, 256)     0           ['batch_normalization_47[0][0]', \n",
            "                                                                  'batch_normalization_46[0][0]'] \n",
            "                                                                                                  \n",
            " conv1d_27 (Conv1D)             (None, 784, 256)     65792       ['add_24[0][0]']                 \n",
            "                                                                                                  \n",
            " activation_48 (Activation)     (None, 784, 256)     0           ['conv1d_27[0][0]']              \n",
            "                                                                                                  \n",
            " batch_normalization_48 (BatchN  (None, 784, 256)    1024        ['activation_48[0][0]']          \n",
            " ormalization)                                                                                    \n",
            "                                                                                                  \n",
            " depthwise_conv1d_23 (Depthwise  (None, 784, 256)    1536        ['batch_normalization_48[0][0]'] \n",
            " Conv1D)                                                                                          \n",
            "                                                                                                  \n",
            " activation_49 (Activation)     (None, 784, 256)     0           ['depthwise_conv1d_23[0][0]']    \n",
            "                                                                                                  \n",
            " batch_normalization_49 (BatchN  (None, 784, 256)    1024        ['activation_49[0][0]']          \n",
            " ormalization)                                                                                    \n",
            "                                                                                                  \n",
            " add_25 (Add)                   (None, 784, 256)     0           ['batch_normalization_49[0][0]', \n",
            "                                                                  'batch_normalization_48[0][0]'] \n",
            "                                                                                                  \n",
            " conv1d_28 (Conv1D)             (None, 784, 256)     65792       ['add_25[0][0]']                 \n",
            "                                                                                                  \n",
            " activation_50 (Activation)     (None, 784, 256)     0           ['conv1d_28[0][0]']              \n",
            "                                                                                                  \n",
            " batch_normalization_50 (BatchN  (None, 784, 256)    1024        ['activation_50[0][0]']          \n",
            " ormalization)                                                                                    \n",
            "                                                                                                  \n",
            " layer_normalization_2 (LayerNo  (None, 784, 256)    512         ['batch_normalization_50[0][0]'] \n",
            " rmalization)                                                                                     \n",
            "                                                                                                  \n",
            " multi_head_attention_1 (MultiH  (None, 784, 256)    263168      ['layer_normalization_2[0][0]',  \n",
            " eadAttention)                                                    'layer_normalization_2[0][0]']  \n",
            "                                                                                                  \n",
            " add_26 (Add)                   (None, 784, 256)     0           ['multi_head_attention_1[0][0]', \n",
            "                                                                  'batch_normalization_50[0][0]'] \n",
            "                                                                                                  \n",
            " rescaling_3 (Rescaling)        (None, 784, 256)     0           ['add_26[0][0]']                 \n",
            "                                                                                                  \n",
            " conv1d_29 (Conv1D)             (None, 196, 256)     262400      ['rescaling_3[0][0]']            \n",
            "                                                                                                  \n",
            " activation_51 (Activation)     (None, 196, 256)     0           ['conv1d_29[0][0]']              \n",
            "                                                                                                  \n",
            " batch_normalization_51 (BatchN  (None, 196, 256)    1024        ['activation_51[0][0]']          \n",
            " ormalization)                                                                                    \n",
            "                                                                                                  \n",
            " depthwise_conv1d_24 (Depthwise  (None, 196, 256)    1536        ['batch_normalization_51[0][0]'] \n",
            " Conv1D)                                                                                          \n",
            "                                                                                                  \n",
            " activation_52 (Activation)     (None, 196, 256)     0           ['depthwise_conv1d_24[0][0]']    \n",
            "                                                                                                  \n",
            " batch_normalization_52 (BatchN  (None, 196, 256)    1024        ['activation_52[0][0]']          \n",
            " ormalization)                                                                                    \n",
            "                                                                                                  \n",
            " add_27 (Add)                   (None, 196, 256)     0           ['batch_normalization_52[0][0]', \n",
            "                                                                  'batch_normalization_51[0][0]'] \n",
            "                                                                                                  \n",
            " conv1d_30 (Conv1D)             (None, 196, 256)     65792       ['add_27[0][0]']                 \n",
            "                                                                                                  \n",
            " activation_53 (Activation)     (None, 196, 256)     0           ['conv1d_30[0][0]']              \n",
            "                                                                                                  \n",
            " batch_normalization_53 (BatchN  (None, 196, 256)    1024        ['activation_53[0][0]']          \n",
            " ormalization)                                                                                    \n",
            "                                                                                                  \n",
            " depthwise_conv1d_25 (Depthwise  (None, 196, 256)    1536        ['batch_normalization_53[0][0]'] \n",
            " Conv1D)                                                                                          \n",
            "                                                                                                  \n",
            " activation_54 (Activation)     (None, 196, 256)     0           ['depthwise_conv1d_25[0][0]']    \n",
            "                                                                                                  \n",
            " batch_normalization_54 (BatchN  (None, 196, 256)    1024        ['activation_54[0][0]']          \n",
            " ormalization)                                                                                    \n",
            "                                                                                                  \n",
            " add_28 (Add)                   (None, 196, 256)     0           ['batch_normalization_54[0][0]', \n",
            "                                                                  'batch_normalization_53[0][0]'] \n",
            "                                                                                                  \n",
            " conv1d_31 (Conv1D)             (None, 196, 256)     65792       ['add_28[0][0]']                 \n",
            "                                                                                                  \n",
            " activation_55 (Activation)     (None, 196, 256)     0           ['conv1d_31[0][0]']              \n",
            "                                                                                                  \n",
            " batch_normalization_55 (BatchN  (None, 196, 256)    1024        ['activation_55[0][0]']          \n",
            " ormalization)                                                                                    \n",
            "                                                                                                  \n",
            " depthwise_conv1d_26 (Depthwise  (None, 196, 256)    1536        ['batch_normalization_55[0][0]'] \n",
            " Conv1D)                                                                                          \n",
            "                                                                                                  \n",
            " activation_56 (Activation)     (None, 196, 256)     0           ['depthwise_conv1d_26[0][0]']    \n",
            "                                                                                                  \n",
            " batch_normalization_56 (BatchN  (None, 196, 256)    1024        ['activation_56[0][0]']          \n",
            " ormalization)                                                                                    \n",
            "                                                                                                  \n",
            " add_29 (Add)                   (None, 196, 256)     0           ['batch_normalization_56[0][0]', \n",
            "                                                                  'batch_normalization_55[0][0]'] \n",
            "                                                                                                  \n",
            " conv1d_32 (Conv1D)             (None, 196, 256)     65792       ['add_29[0][0]']                 \n",
            "                                                                                                  \n",
            " activation_57 (Activation)     (None, 196, 256)     0           ['conv1d_32[0][0]']              \n",
            "                                                                                                  \n",
            " batch_normalization_57 (BatchN  (None, 196, 256)    1024        ['activation_57[0][0]']          \n",
            " ormalization)                                                                                    \n",
            "                                                                                                  \n",
            " depthwise_conv1d_27 (Depthwise  (None, 196, 256)    1536        ['batch_normalization_57[0][0]'] \n",
            " Conv1D)                                                                                          \n",
            "                                                                                                  \n",
            " activation_58 (Activation)     (None, 196, 256)     0           ['depthwise_conv1d_27[0][0]']    \n",
            "                                                                                                  \n",
            " batch_normalization_58 (BatchN  (None, 196, 256)    1024        ['activation_58[0][0]']          \n",
            " ormalization)                                                                                    \n",
            "                                                                                                  \n",
            " add_30 (Add)                   (None, 196, 256)     0           ['batch_normalization_58[0][0]', \n",
            "                                                                  'batch_normalization_57[0][0]'] \n",
            "                                                                                                  \n",
            " conv1d_33 (Conv1D)             (None, 196, 256)     65792       ['add_30[0][0]']                 \n",
            "                                                                                                  \n",
            " activation_59 (Activation)     (None, 196, 256)     0           ['conv1d_33[0][0]']              \n",
            "                                                                                                  \n",
            " batch_normalization_59 (BatchN  (None, 196, 256)    1024        ['activation_59[0][0]']          \n",
            " ormalization)                                                                                    \n",
            "                                                                                                  \n",
            " depthwise_conv1d_28 (Depthwise  (None, 196, 256)    1536        ['batch_normalization_59[0][0]'] \n",
            " Conv1D)                                                                                          \n",
            "                                                                                                  \n",
            " activation_60 (Activation)     (None, 196, 256)     0           ['depthwise_conv1d_28[0][0]']    \n",
            "                                                                                                  \n",
            " batch_normalization_60 (BatchN  (None, 196, 256)    1024        ['activation_60[0][0]']          \n",
            " ormalization)                                                                                    \n",
            "                                                                                                  \n",
            " add_31 (Add)                   (None, 196, 256)     0           ['batch_normalization_60[0][0]', \n",
            "                                                                  'batch_normalization_59[0][0]'] \n",
            "                                                                                                  \n",
            " conv1d_34 (Conv1D)             (None, 196, 256)     65792       ['add_31[0][0]']                 \n",
            "                                                                                                  \n",
            " activation_61 (Activation)     (None, 196, 256)     0           ['conv1d_34[0][0]']              \n",
            "                                                                                                  \n",
            " batch_normalization_61 (BatchN  (None, 196, 256)    1024        ['activation_61[0][0]']          \n",
            " ormalization)                                                                                    \n",
            "                                                                                                  \n",
            " depthwise_conv1d_29 (Depthwise  (None, 196, 256)    1536        ['batch_normalization_61[0][0]'] \n",
            " Conv1D)                                                                                          \n",
            "                                                                                                  \n",
            " activation_62 (Activation)     (None, 196, 256)     0           ['depthwise_conv1d_29[0][0]']    \n",
            "                                                                                                  \n",
            " batch_normalization_62 (BatchN  (None, 196, 256)    1024        ['activation_62[0][0]']          \n",
            " ormalization)                                                                                    \n",
            "                                                                                                  \n",
            " add_32 (Add)                   (None, 196, 256)     0           ['batch_normalization_62[0][0]', \n",
            "                                                                  'batch_normalization_61[0][0]'] \n",
            "                                                                                                  \n",
            " conv1d_35 (Conv1D)             (None, 196, 256)     65792       ['add_32[0][0]']                 \n",
            "                                                                                                  \n",
            " activation_63 (Activation)     (None, 196, 256)     0           ['conv1d_35[0][0]']              \n",
            "                                                                                                  \n",
            " batch_normalization_63 (BatchN  (None, 196, 256)    1024        ['activation_63[0][0]']          \n",
            " ormalization)                                                                                    \n",
            "                                                                                                  \n",
            " depthwise_conv1d_30 (Depthwise  (None, 196, 256)    1536        ['batch_normalization_63[0][0]'] \n",
            " Conv1D)                                                                                          \n",
            "                                                                                                  \n",
            " activation_64 (Activation)     (None, 196, 256)     0           ['depthwise_conv1d_30[0][0]']    \n",
            "                                                                                                  \n",
            " batch_normalization_64 (BatchN  (None, 196, 256)    1024        ['activation_64[0][0]']          \n",
            " ormalization)                                                                                    \n",
            "                                                                                                  \n",
            " add_33 (Add)                   (None, 196, 256)     0           ['batch_normalization_64[0][0]', \n",
            "                                                                  'batch_normalization_63[0][0]'] \n",
            "                                                                                                  \n",
            " conv1d_36 (Conv1D)             (None, 196, 256)     65792       ['add_33[0][0]']                 \n",
            "                                                                                                  \n",
            " activation_65 (Activation)     (None, 196, 256)     0           ['conv1d_36[0][0]']              \n",
            "                                                                                                  \n",
            " batch_normalization_65 (BatchN  (None, 196, 256)    1024        ['activation_65[0][0]']          \n",
            " ormalization)                                                                                    \n",
            "                                                                                                  \n",
            " depthwise_conv1d_31 (Depthwise  (None, 196, 256)    1536        ['batch_normalization_65[0][0]'] \n",
            " Conv1D)                                                                                          \n",
            "                                                                                                  \n",
            " activation_66 (Activation)     (None, 196, 256)     0           ['depthwise_conv1d_31[0][0]']    \n",
            "                                                                                                  \n",
            " batch_normalization_66 (BatchN  (None, 196, 256)    1024        ['activation_66[0][0]']          \n",
            " ormalization)                                                                                    \n",
            "                                                                                                  \n",
            " add_34 (Add)                   (None, 196, 256)     0           ['batch_normalization_66[0][0]', \n",
            "                                                                  'batch_normalization_65[0][0]'] \n",
            "                                                                                                  \n",
            " conv1d_37 (Conv1D)             (None, 196, 256)     65792       ['add_34[0][0]']                 \n",
            "                                                                                                  \n",
            " activation_67 (Activation)     (None, 196, 256)     0           ['conv1d_37[0][0]']              \n",
            "                                                                                                  \n",
            " batch_normalization_67 (BatchN  (None, 196, 256)    1024        ['activation_67[0][0]']          \n",
            " ormalization)                                                                                    \n",
            "                                                                                                  \n",
            " dense_7 (Dense)                (None, 196, 256)     65792       ['batch_normalization_67[0][0]'] \n",
            "                                                                                                  \n",
            " tf.reshape_2 (TFOpLambda)      (None, 196, 16, 16)  0           ['dense_7[0][0]']                \n",
            "                                                                                                  \n",
            " tf.compat.v1.transpose_2 (TFOp  (None, 16, 196, 16)  0          ['tf.reshape_2[0][0]']           \n",
            " Lambda)                                                                                          \n",
            "                                                                                                  \n",
            " dense_8 (Dense)                (None, 16, 196, 16)  272         ['tf.compat.v1.transpose_2[0][0]'\n",
            "                                                                 ]                                \n",
            "                                                                                                  \n",
            " softmax_1 (Softmax)            (None, 16, 196, 16)  0           ['dense_8[0][0]']                \n",
            "                                                                                                  \n",
            " tf.math.reduce_sum_1 (TFOpLamb  (None, 16, 196, 1)  0           ['softmax_1[0][0]']              \n",
            " da)                                                                                              \n",
            "                                                                                                  \n",
            " tf.__operators__.add_1 (TFOpLa  (None, 16, 196, 1)  0           ['tf.math.reduce_sum_1[0][0]']   \n",
            " mbda)                                                                                            \n",
            "                                                                                                  \n",
            " tf.math.truediv_1 (TFOpLambda)  (None, 16, 196, 16)  0          ['softmax_1[0][0]',              \n",
            "                                                                  'tf.__operators__.add_1[0][0]'] \n",
            "                                                                                                  \n",
            " dropout_2 (Dropout)            (None, 16, 196, 16)  0           ['tf.math.truediv_1[0][0]']      \n",
            "                                                                                                  \n",
            " dense_9 (Dense)                (None, 16, 196, 16)  272         ['dropout_2[0][0]']              \n",
            "                                                                                                  \n",
            " tf.compat.v1.transpose_3 (TFOp  (None, 196, 16, 16)  0          ['dense_9[0][0]']                \n",
            " Lambda)                                                                                          \n",
            "                                                                                                  \n",
            " tf.reshape_3 (TFOpLambda)      (None, 196, 256)     0           ['tf.compat.v1.transpose_3[0][0]'\n",
            "                                                                 ]                                \n",
            "                                                                                                  \n",
            " dense_10 (Dense)               (None, 196, 64)      16448       ['tf.reshape_3[0][0]']           \n",
            "                                                                                                  \n",
            " dropout_3 (Dropout)            (None, 196, 64)      0           ['dense_10[0][0]']               \n",
            "                                                                                                  \n",
            " layer_normalization_3 (LayerNo  (None, 196, 64)     128         ['dropout_3[0][0]']              \n",
            " rmalization)                                                                                     \n",
            "                                                                                                  \n",
            " conv1d_38 (Conv1D)             (None, 196, 64)      8256        ['layer_normalization_3[0][0]']  \n",
            "                                                                                                  \n",
            " conv1d_39 (Conv1D)             (None, 196, 64)      12352       ['conv1d_38[0][0]']              \n",
            "                                                                                                  \n",
            " add_35 (Add)                   (None, 196, 64)      0           ['conv1d_39[0][0]',              \n",
            "                                                                  'dropout_3[0][0]']              \n",
            "                                                                                                  \n",
            " global_average_pooling1d_1 (Gl  (None, 64)          0           ['add_35[0][0]']                 \n",
            " obalAveragePooling1D)                                                                            \n",
            "                                                                                                  \n",
            " dense_11 (Dense)               (None, 4)            260         ['global_average_pooling1d_1[0][0\n",
            "                                                                 ]']                              \n",
            "                                                                                                  \n",
            "==================================================================================================\n",
            "Total params: 2,011,556\n",
            "Trainable params: 1,994,148\n",
            "Non-trainable params: 17,408\n",
            "__________________________________________________________________________________________________\n"
          ]
        }
      ],
      "source": [
        "model = get_model()\n",
        "model.summary()"
      ]
    },
    {
      "cell_type": "code",
      "execution_count": null,
      "metadata": {
        "id": "h12pBBERe0_J"
      },
      "outputs": [],
      "source": [
        "optimizer = tfa.optimizers.AdamW(learning_rate=learning_rate, weight_decay=weight_decay)\n",
        "\n",
        "model.compile(\n",
        "    loss=keras.losses.CategoricalCrossentropy(label_smoothing=label_smoothing),\n",
        "    optimizer=tfa.optimizers.AdamW(\n",
        "        learning_rate=learning_rate, weight_decay=weight_decay\n",
        "    ),\n",
        "    metrics=[\n",
        "        keras.metrics.CategoricalAccuracy(name=\"accuracy\"),\n",
        "        tf.keras.metrics.Precision(),\n",
        "        tf.keras.metrics.Recall(),\n",
        "        tfa.metrics.F1Score(num_classes=4, average='macro', threshold=0.5),\n",
        "    ],\n",
        ")"
      ]
    },
    {
      "cell_type": "code",
      "execution_count": null,
      "metadata": {
        "colab": {
          "base_uri": "https://localhost:8080/"
        },
        "id": "oE6fWXgWfQ1E",
        "outputId": "88cb0eab-a0fd-4417-a55d-67a5c892a1e6"
      },
      "outputs": [
        {
          "output_type": "stream",
          "name": "stdout",
          "text": [
            "Epoch 1/30\n",
            "179/179 [==============================] - 403s 2s/step - loss: 0.9463 - accuracy: 0.6661 - precision_1: 0.7758 - recall_1: 0.5392 - f1_score: 0.6091 - val_loss: 5.7776 - val_accuracy: 0.2288 - val_precision_1: 0.2288 - val_recall_1: 0.2288 - val_f1_score: 0.0931\n",
            "Epoch 2/30\n",
            "179/179 [==============================] - 15s 83ms/step - loss: 0.7066 - accuracy: 0.8155 - precision_1: 0.8499 - recall_1: 0.7651 - f1_score: 0.7938 - val_loss: 2.5937 - val_accuracy: 0.2288 - val_precision_1: 0.2288 - val_recall_1: 0.2288 - val_f1_score: 0.0931\n",
            "Epoch 3/30\n",
            "179/179 [==============================] - 15s 83ms/step - loss: 0.6219 - accuracy: 0.8584 - precision_1: 0.8847 - recall_1: 0.8274 - f1_score: 0.8475 - val_loss: 2.1751 - val_accuracy: 0.2288 - val_precision_1: 0.4129 - val_recall_1: 0.1609 - val_f1_score: 0.1301\n",
            "Epoch 4/30\n",
            "179/179 [==============================] - 15s 83ms/step - loss: 0.6016 - accuracy: 0.8683 - precision_1: 0.8894 - recall_1: 0.8393 - f1_score: 0.8565 - val_loss: 0.6728 - val_accuracy: 0.8459 - val_precision_1: 0.9086 - val_recall_1: 0.7353 - val_f1_score: 0.7957\n",
            "Epoch 5/30\n",
            "179/179 [==============================] - 15s 83ms/step - loss: 0.5322 - accuracy: 0.9119 - precision_1: 0.9265 - recall_1: 0.8920 - f1_score: 0.9050 - val_loss: 0.7734 - val_accuracy: 0.7963 - val_precision_1: 0.8266 - val_recall_1: 0.7597 - val_f1_score: 0.7703\n",
            "Epoch 6/30\n",
            "179/179 [==============================] - 15s 83ms/step - loss: 0.5353 - accuracy: 0.9020 - precision_1: 0.9209 - recall_1: 0.8862 - f1_score: 0.8989 - val_loss: 0.6486 - val_accuracy: 0.8436 - val_precision_1: 0.8556 - val_recall_1: 0.8360 - val_f1_score: 0.8345\n",
            "Epoch 7/30\n",
            "179/179 [==============================] - 15s 83ms/step - loss: 0.5008 - accuracy: 0.9256 - precision_1: 0.9389 - recall_1: 0.9116 - f1_score: 0.9215 - val_loss: 0.9526 - val_accuracy: 0.7307 - val_precision_1: 0.7442 - val_recall_1: 0.7147 - val_f1_score: 0.6686\n",
            "Epoch 8/30\n",
            "179/179 [==============================] - 15s 83ms/step - loss: 0.4988 - accuracy: 0.9258 - precision_1: 0.9359 - recall_1: 0.9100 - f1_score: 0.9193 - val_loss: 0.7858 - val_accuracy: 0.8032 - val_precision_1: 0.8179 - val_recall_1: 0.7948 - val_f1_score: 0.7596\n",
            "Epoch 9/30\n",
            "179/179 [==============================] - 15s 83ms/step - loss: 0.4826 - accuracy: 0.9349 - precision_1: 0.9444 - recall_1: 0.9240 - f1_score: 0.9318 - val_loss: 0.8166 - val_accuracy: 0.8185 - val_precision_1: 0.8333 - val_recall_1: 0.7933 - val_f1_score: 0.7782\n",
            "Epoch 10/30\n",
            "179/179 [==============================] - 15s 83ms/step - loss: 0.4811 - accuracy: 0.9336 - precision_1: 0.9425 - recall_1: 0.9233 - f1_score: 0.9303 - val_loss: 0.5166 - val_accuracy: 0.9298 - val_precision_1: 0.9357 - val_recall_1: 0.9214 - val_f1_score: 0.9237\n",
            "Epoch 11/30\n",
            "179/179 [==============================] - 15s 83ms/step - loss: 0.4613 - accuracy: 0.9457 - precision_1: 0.9555 - recall_1: 0.9350 - f1_score: 0.9431 - val_loss: 0.7021 - val_accuracy: 0.8383 - val_precision_1: 0.8471 - val_recall_1: 0.8200 - val_f1_score: 0.8248\n",
            "Epoch 12/30\n",
            "179/179 [==============================] - 15s 83ms/step - loss: 0.4452 - accuracy: 0.9545 - precision_1: 0.9620 - recall_1: 0.9475 - f1_score: 0.9529 - val_loss: 0.5649 - val_accuracy: 0.9085 - val_precision_1: 0.9115 - val_recall_1: 0.9031 - val_f1_score: 0.9040\n",
            "Epoch 13/30\n",
            "179/179 [==============================] - 15s 83ms/step - loss: 0.4202 - accuracy: 0.9681 - precision_1: 0.9738 - recall_1: 0.9641 - f1_score: 0.9678 - val_loss: 0.6415 - val_accuracy: 0.8856 - val_precision_1: 0.8901 - val_recall_1: 0.8772 - val_f1_score: 0.8732\n",
            "Epoch 14/30\n",
            "179/179 [==============================] - 15s 83ms/step - loss: 0.4323 - accuracy: 0.9594 - precision_1: 0.9663 - recall_1: 0.9534 - f1_score: 0.9585 - val_loss: 0.6264 - val_accuracy: 0.8879 - val_precision_1: 0.8979 - val_recall_1: 0.8787 - val_f1_score: 0.8840\n",
            "Epoch 15/30\n",
            "179/179 [==============================] - 15s 84ms/step - loss: 0.4236 - accuracy: 0.9666 - precision_1: 0.9697 - recall_1: 0.9625 - f1_score: 0.9646 - val_loss: 0.7081 - val_accuracy: 0.8513 - val_precision_1: 0.8634 - val_recall_1: 0.8436 - val_f1_score: 0.8411\n",
            "Epoch 16/30\n",
            "179/179 [==============================] - 15s 83ms/step - loss: 0.4234 - accuracy: 0.9643 - precision_1: 0.9690 - recall_1: 0.9592 - f1_score: 0.9627 - val_loss: 0.5945 - val_accuracy: 0.8947 - val_precision_1: 0.8991 - val_recall_1: 0.8902 - val_f1_score: 0.8852\n",
            "Epoch 17/30\n",
            "179/179 [==============================] - 15s 83ms/step - loss: 0.4234 - accuracy: 0.9659 - precision_1: 0.9698 - recall_1: 0.9604 - f1_score: 0.9638 - val_loss: 0.5934 - val_accuracy: 0.8947 - val_precision_1: 0.9023 - val_recall_1: 0.8879 - val_f1_score: 0.8903\n",
            "Epoch 18/30\n",
            "179/179 [==============================] - 15s 83ms/step - loss: 0.4276 - accuracy: 0.9629 - precision_1: 0.9654 - recall_1: 0.9585 - f1_score: 0.9604 - val_loss: 0.5516 - val_accuracy: 0.9176 - val_precision_1: 0.9265 - val_recall_1: 0.9130 - val_f1_score: 0.9141\n",
            "Epoch 19/30\n",
            "179/179 [==============================] - 15s 84ms/step - loss: 0.4129 - accuracy: 0.9697 - precision_1: 0.9745 - recall_1: 0.9652 - f1_score: 0.9687 - val_loss: 0.9202 - val_accuracy: 0.7887 - val_precision_1: 0.7971 - val_recall_1: 0.7849 - val_f1_score: 0.7461\n",
            "Epoch 20/30\n",
            "179/179 [==============================] - 15s 84ms/step - loss: 0.4177 - accuracy: 0.9690 - precision_1: 0.9715 - recall_1: 0.9666 - f1_score: 0.9682 - val_loss: 0.8139 - val_accuracy: 0.8108 - val_precision_1: 0.8157 - val_recall_1: 0.8070 - val_f1_score: 0.8082\n",
            "Epoch 21/30\n",
            "179/179 [==============================] - 15s 84ms/step - loss: 0.4385 - accuracy: 0.9606 - precision_1: 0.9632 - recall_1: 0.9533 - f1_score: 0.9568 - val_loss: 0.5635 - val_accuracy: 0.9016 - val_precision_1: 0.9075 - val_recall_1: 0.8978 - val_f1_score: 0.8953\n",
            "Epoch 22/30\n",
            "179/179 [==============================] - 15s 83ms/step - loss: 0.4160 - accuracy: 0.9699 - precision_1: 0.9729 - recall_1: 0.9664 - f1_score: 0.9687 - val_loss: 0.6098 - val_accuracy: 0.8848 - val_precision_1: 0.8884 - val_recall_1: 0.8802 - val_f1_score: 0.8782\n",
            "Epoch 23/30\n",
            "179/179 [==============================] - 15s 83ms/step - loss: 0.4124 - accuracy: 0.9694 - precision_1: 0.9733 - recall_1: 0.9653 - f1_score: 0.9682 - val_loss: 0.6257 - val_accuracy: 0.8978 - val_precision_1: 0.9014 - val_recall_1: 0.8924 - val_f1_score: 0.8865\n",
            "Epoch 24/30\n",
            "179/179 [==============================] - 15s 83ms/step - loss: 0.3999 - accuracy: 0.9771 - precision_1: 0.9797 - recall_1: 0.9739 - f1_score: 0.9760 - val_loss: 0.5396 - val_accuracy: 0.9191 - val_precision_1: 0.9223 - val_recall_1: 0.9146 - val_f1_score: 0.9136\n",
            "Epoch 25/30\n",
            "179/179 [==============================] - 15s 83ms/step - loss: 0.4071 - accuracy: 0.9722 - precision_1: 0.9741 - recall_1: 0.9680 - f1_score: 0.9701 - val_loss: 0.8126 - val_accuracy: 0.7933 - val_precision_1: 0.8044 - val_recall_1: 0.7811 - val_f1_score: 0.7723\n",
            "Epoch 26/30\n",
            "179/179 [==============================] - 15s 83ms/step - loss: 0.4013 - accuracy: 0.9772 - precision_1: 0.9801 - recall_1: 0.9737 - f1_score: 0.9763 - val_loss: 0.5778 - val_accuracy: 0.9031 - val_precision_1: 0.9082 - val_recall_1: 0.8986 - val_f1_score: 0.8959\n",
            "Epoch 27/30\n",
            "179/179 [==============================] - 15s 84ms/step - loss: 0.4043 - accuracy: 0.9734 - precision_1: 0.9778 - recall_1: 0.9704 - f1_score: 0.9734 - val_loss: 0.8803 - val_accuracy: 0.8154 - val_precision_1: 0.8223 - val_recall_1: 0.8085 - val_f1_score: 0.7920\n",
            "Epoch 28/30\n",
            "179/179 [==============================] - 15s 84ms/step - loss: 0.3989 - accuracy: 0.9765 - precision_1: 0.9801 - recall_1: 0.9739 - f1_score: 0.9764 - val_loss: 0.6813 - val_accuracy: 0.8802 - val_precision_1: 0.8823 - val_recall_1: 0.8749 - val_f1_score: 0.8689\n",
            "Epoch 29/30\n",
            "179/179 [==============================] - 15s 83ms/step - loss: 0.3913 - accuracy: 0.9811 - precision_1: 0.9824 - recall_1: 0.9786 - f1_score: 0.9799 - val_loss: 0.8020 - val_accuracy: 0.8452 - val_precision_1: 0.8487 - val_recall_1: 0.8429 - val_f1_score: 0.8118\n",
            "Epoch 30/30\n",
            "179/179 [==============================] - 15s 83ms/step - loss: 0.3952 - accuracy: 0.9779 - precision_1: 0.9806 - recall_1: 0.9755 - f1_score: 0.9773 - val_loss: 0.5342 - val_accuracy: 0.9176 - val_precision_1: 0.9228 - val_recall_1: 0.9115 - val_f1_score: 0.9105\n"
          ]
        }
      ],
      "source": [
        "history = model.fit(\n",
        "    train_ds,\n",
        "    validation_data=val_ds,\n",
        "    batch_size=batch_size,\n",
        "    epochs=num_epochs\n",
        ")"
      ]
    },
    {
      "cell_type": "markdown",
      "metadata": {
        "id": "TwlwdT_PgSRF"
      },
      "source": [
        "# Let's visualize the training progress of the model.\n"
      ]
    },
    {
      "cell_type": "code",
      "execution_count": null,
      "metadata": {
        "id": "mgwFtkmUgU1j",
        "colab": {
          "base_uri": "https://localhost:8080/",
          "height": 473
        },
        "outputId": "1989cf4f-50a6-43b7-9ef5-578884d7186e"
      },
      "outputs": [
        {
          "output_type": "display_data",
          "data": {
            "text/plain": [
              "<Figure size 640x480 with 1 Axes>"
            ],
            "image/png": "[encoded data removed]"
          },
          "metadata": {}
        }
      ],
      "source": [
        "plt.plot(history.history[\"loss\"], label=\"train_loss\")\n",
        "plt.plot(history.history[\"val_loss\"], label=\"val_loss\")\n",
        "plt.xlabel(\"Epochs\")\n",
        "plt.ylabel(\"Loss\")\n",
        "plt.title(\"Train and Validation Losses Over Epochs\", fontsize=14)\n",
        "plt.legend()\n",
        "plt.grid()\n",
        "plt.show()"
      ]
    },
    {
      "cell_type": "code",
      "source": [
        "#Learning curves\n",
        "acc = history.history['accuracy']\n",
        "val_acc = history.history['val_accuracy']\n",
        "\n",
        "loss = history.history['loss']\n",
        "val_loss = history.history['val_loss']\n",
        "\n",
        "plt.figure(figsize=(8, 8))\n",
        "plt.subplot(2, 1, 1)\n",
        "plt.plot(acc, label='Training Accuracy')\n",
        "plt.plot(val_acc, label='Validation Accuracy')\n",
        "plt.legend(loc='lower right')\n",
        "plt.ylabel('Accuracy')\n",
        "plt.ylim([0,1.0])\n",
        "plt.title('Training and Validation Accuracy')\n",
        "\n",
        "plt.subplot(2, 1, 2)\n",
        "plt.plot(loss, label='Training Loss')\n",
        "plt.plot(val_loss, label='Validation Loss')\n",
        "plt.legend(loc='upper right')\n",
        "plt.ylabel('Cross Entropy')\n",
        "plt.ylim([0,5])\n",
        "plt.title('Training and Validation Loss')\n",
        "plt.xlabel('epoch')\n",
        "plt.show()"
      ],
      "metadata": {
        "id": "3NQ76tFlgzad",
        "colab": {
          "base_uri": "https://localhost:8080/",
          "height": 718
        },
        "outputId": "bf40aa6a-bb35-47b4-c040-4c13bbd10eb4"
      },
      "execution_count": null,
      "outputs": [
        {
          "output_type": "display_data",
          "data": {
            "text/plain": [
              "<Figure size 800x800 with 2 Axes>"
            ],
            "image/png": "[encoded data removed]"
          },
          "metadata": {}
        }
      ]
    }
  ],
  "metadata": {
    "accelerator": "GPU",
    "colab": {
      "machine_shape": "hm",
      "provenance": [],
      "gpuType": "A100",
      "include_colab_link": true
    },
    "kernelspec": {
      "display_name": "Python 3",
      "name": "python3"
    },
    "language_info": {
      "codemirror_mode": {
        "name": "ipython",
        "version": 3
      },
      "file_extension": ".py",
      "mimetype": "text/x-python",
      "name": "python",
      "nbconvert_exporter": "python",
      "pygments_lexer": "ipython3",
      "version": "3.10.9"
    }
  },
  "nbformat": 4,
  "nbformat_minor": 0
}